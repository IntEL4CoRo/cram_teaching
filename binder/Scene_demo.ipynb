{
 "cells": [
  {
   "cell_type": "markdown",
   "id": "f6bacedf-417b-4398-b77a-a8778528efbf",
   "metadata": {},
   "source": [
    "# Load different scenes and robots"
   ]
  },
  {
   "cell_type": "markdown",
   "id": "639ca03e-fc91-493b-94df-4aae9307e4c6",
   "metadata": {},
   "source": [
    "## Appartment with tiago"
   ]
  },
  {
   "cell_type": "code",
   "execution_count": 17,
   "id": "498ca129-be69-447a-afc7-83da51051b88",
   "metadata": {
    "scrolled": true,
    "tags": []
   },
   "outputs": [
    {
     "data": {
      "text/plain": [
       "NIL"
      ]
     },
     "execution_count": 17,
     "metadata": {},
     "output_type": "execute_result"
    },
    {
     "data": {
      "text/plain": [
       "NIL"
      ]
     },
     "execution_count": 17,
     "metadata": {},
     "output_type": "execute_result"
    },
    {
     "data": {
      "text/plain": [
       "0"
      ]
     },
     "execution_count": 17,
     "metadata": {},
     "output_type": "execute_result"
    },
    {
     "name": "stdout",
     "output_type": "stream",
     "text": [
      "killing /environment_joint_state_publisher\n",
      "killed\n",
      "killing /environment_tf_publisher\n",
      "killed\n",
      "killing /kitchen_link_broadcaster\n",
      "killed\n",
      "killing /pr2_left_arm_kinematics\n",
      "killed\n",
      "killing /pr2_right_arm_kinematics\n",
      "killed\n",
      "master has started, initiating launch\n",
      "... logging to /home/jovyan/.ros/log/b060edc6-0518-11ee-81aa-0242ac1f0002/roslaunch-7972c7802ef3-3992.log\n",
      "Checking log directory for disk usage. This may take a while.\n",
      "Press Ctrl-C to interrupt\n",
      "Done checking log file disk usage. Usage is <1GB.\n",
      "\u001b]2;/home/workspace/ros/src/rvizweb/launch/update_config.launch\u0007\n",
      "\u001b[1mstarted roslaunch server http://7972c7802ef3:41981/\u001b[0m\n",
      "\n",
      "SUMMARY\n",
      "========\n",
      "\n",
      "PARAMETERS\n",
      " * /rosdistro: noetic\n",
      " * /rosversion: 1.16.0\n",
      " * /rvizweb/global_config: <...>\n",
      "\n",
      "NODES\n",
      "  /\n",
      "    rviz_config_publisher (rostopic/rostopic)\n",
      "\n",
      "\u001b[1mROS_MASTER_URI=http://localhost:11311\u001b[0m\n",
      "\u001b]2;/home/workspace/ros/src/rvizweb/launch/update_config.launch http://localhost:11311\u0007\n",
      "\u001b[1mprocess[rviz_config_publisher-1]: started with pid [4037]\u001b[0m\n",
      "\u001b[1m[rviz_config_publisher-1] process has finished cleanly\n",
      "log file: /home/jovyan/.ros/log/b060edc6-0518-11ee-81aa-0242ac1f0002/rviz_config_publisher-1*.log\u001b[0m\n",
      "all processes on machine have died, roslaunch will exit\n",
      "shutting down processing monitor...\n",
      "... shutting down processing monitor complete\n",
      "\u001b[1mdone\u001b[0m\n",
      "master has started, initiating launch\n",
      "... logging to /home/jovyan/.ros/log/b060edc6-0518-11ee-81aa-0242ac1f0002/roslaunch-7972c7802ef3-4080.log\n",
      "Checking log directory for disk usage. This may take a while.\n",
      "Press Ctrl-C to interrupt\n",
      "Done checking log file disk usage. Usage is <1GB.\n",
      "\u001b]2;/home/jovyan/repo/binder/init_robot_pose.launch\u0007\n",
      "\u001b[1mstarted roslaunch server http://7972c7802ef3:41693/\u001b[0m\n",
      "\n",
      "SUMMARY\n",
      "========\n",
      "\n",
      "PARAMETERS\n",
      " * /rosdistro: noetic\n",
      " * /rosversion: 1.16.0\n",
      "\n",
      "NODES\n",
      "  /\n",
      "    reset_pr2 (rostopic/rostopic)\n",
      "\n",
      "\u001b[1mROS_MASTER_URI=http://localhost:11311\u001b[0m\n",
      "\u001b]2;/home/jovyan/repo/binder/init_robot_pose.launch http://localhost:11311\u0007\n",
      "\u001b[1mprocess[reset_pr2-1]: started with pid [4095]\u001b[0m\n",
      "\u001b[1m[reset_pr2-1] process has finished cleanly\n",
      "log file: /home/jovyan/.ros/log/b060edc6-0518-11ee-81aa-0242ac1f0002/reset_pr2-1*.log\u001b[0m\n",
      "all processes on machine have died, roslaunch will exit\n",
      "shutting down processing monitor...\n",
      "... shutting down processing monitor complete\n",
      "\u001b[1mdone\u001b[0m\n"
     ]
    },
    {
     "name": "stderr",
     "output_type": "stream",
     "text": [
      "xacro: in-order processing became default in ROS Melodic. You can drop the option.\n"
     ]
    }
   ],
   "source": [
    "(uiop:run-program \n",
    " \"${HOME}/repo/binder/update_scene.sh apartment_tiago.launch\" \n",
    ":output t\n",
    ":error-output t)"
   ]
  },
  {
   "cell_type": "markdown",
   "id": "45d0370e-474f-433b-b54b-151ba607e3dd",
   "metadata": {},
   "source": [
    "## Appartment with pr2"
   ]
  },
  {
   "cell_type": "code",
   "execution_count": 22,
   "id": "f2167925-a89b-4779-9bab-bcd1d2385de2",
   "metadata": {
    "scrolled": true,
    "tags": []
   },
   "outputs": [
    {
     "data": {
      "text/plain": [
       "NIL"
      ]
     },
     "execution_count": 22,
     "metadata": {},
     "output_type": "execute_result"
    },
    {
     "data": {
      "text/plain": [
       "NIL"
      ]
     },
     "execution_count": 22,
     "metadata": {},
     "output_type": "execute_result"
    },
    {
     "data": {
      "text/plain": [
       "0"
      ]
     },
     "execution_count": 22,
     "metadata": {},
     "output_type": "execute_result"
    },
    {
     "name": "stdout",
     "output_type": "stream",
     "text": [
      "killing /environment_joint_state_publisher\n",
      "killed\n",
      "killing /environment_tf_publisher\n",
      "killed\n",
      "killing /kdl_ik_service\n",
      "killed\n",
      "killing /kitchen_link_broadcaster\n",
      "killed\n",
      "killing /map_server\n",
      "killed\n",
      "master has started, initiating launch\n",
      "... logging to /home/jovyan/.ros/log/b060edc6-0518-11ee-81aa-0242ac1f0002/roslaunch-7972c7802ef3-5013.log\n",
      "Checking log directory for disk usage. This may take a while.\n",
      "Press Ctrl-C to interrupt\n",
      "Done checking log file disk usage. Usage is <1GB.\n",
      "\u001b]2;/home/workspace/ros/src/rvizweb/launch/update_config.launch\u0007\n",
      "\u001b[1mstarted roslaunch server http://7972c7802ef3:41629/\u001b[0m\n",
      "\n",
      "SUMMARY\n",
      "========\n",
      "\n",
      "PARAMETERS\n",
      " * /rosdistro: noetic\n",
      " * /rosversion: 1.16.0\n",
      " * /rvizweb/global_config: <...>\n",
      "\n",
      "NODES\n",
      "  /\n",
      "    rviz_config_publisher (rostopic/rostopic)\n",
      "\n",
      "\u001b[1mROS_MASTER_URI=http://localhost:11311\u001b[0m\n",
      "\u001b]2;/home/workspace/ros/src/rvizweb/launch/update_config.launch http://localhost:11311\u0007\n",
      "\u001b[1mprocess[rviz_config_publisher-1]: started with pid [5071]\u001b[0m\n",
      "\u001b[1m[rviz_config_publisher-1] process has finished cleanly\n",
      "log file: /home/jovyan/.ros/log/b060edc6-0518-11ee-81aa-0242ac1f0002/rviz_config_publisher-1*.log\u001b[0m\n",
      "all processes on machine have died, roslaunch will exit\n",
      "shutting down processing monitor...\n",
      "... shutting down processing monitor complete\n",
      "\u001b[1mdone\u001b[0m\n",
      "master has started, initiating launch\n",
      "... logging to /home/jovyan/.ros/log/b060edc6-0518-11ee-81aa-0242ac1f0002/roslaunch-7972c7802ef3-5109.log\n",
      "Checking log directory for disk usage. This may take a while.\n",
      "Press Ctrl-C to interrupt\n",
      "Done checking log file disk usage. Usage is <1GB.\n",
      "\u001b]2;/home/jovyan/repo/binder/init_robot_pose.launch\u0007\n",
      "\u001b[1mstarted roslaunch server http://7972c7802ef3:45423/\u001b[0m\n",
      "\n",
      "SUMMARY\n",
      "========\n",
      "\n",
      "PARAMETERS\n",
      " * /rosdistro: noetic\n",
      " * /rosversion: 1.16.0\n",
      "\n",
      "NODES\n",
      "  /\n",
      "    reset_pr2 (rostopic/rostopic)\n",
      "\n",
      "\u001b[1mROS_MASTER_URI=http://localhost:11311\u001b[0m\n",
      "\u001b]2;/home/jovyan/repo/binder/init_robot_pose.launch http://localhost:11311\u0007\n",
      "\u001b[1mprocess[reset_pr2-1]: started with pid [5124]\u001b[0m\n",
      "\u001b[1m[reset_pr2-1] process has finished cleanly\n",
      "log file: /home/jovyan/.ros/log/b060edc6-0518-11ee-81aa-0242ac1f0002/reset_pr2-1*.log\u001b[0m\n",
      "all processes on machine have died, roslaunch will exit\n",
      "shutting down processing monitor...\n",
      "... shutting down processing monitor complete\n",
      "\u001b[1mdone\u001b[0m\n"
     ]
    }
   ],
   "source": [
    "(uiop:run-program \n",
    " \"${HOME}/repo/binder/update_scene.sh apartment_pr2.launch\" \n",
    ":output t\n",
    ":error-output t)"
   ]
  },
  {
   "cell_type": "markdown",
   "id": "ad1ec38d-84fd-4f45-93ee-7700a937703a",
   "metadata": {},
   "source": [
    "## Household with tiago"
   ]
  },
  {
   "cell_type": "code",
   "execution_count": 21,
   "id": "d22b95c4-e018-4f52-8e4f-9ec7b30cc129",
   "metadata": {
    "scrolled": true,
    "tags": []
   },
   "outputs": [
    {
     "data": {
      "text/plain": [
       "NIL"
      ]
     },
     "execution_count": 21,
     "metadata": {},
     "output_type": "execute_result"
    },
    {
     "data": {
      "text/plain": [
       "NIL"
      ]
     },
     "execution_count": 21,
     "metadata": {},
     "output_type": "execute_result"
    },
    {
     "data": {
      "text/plain": [
       "0"
      ]
     },
     "execution_count": 21,
     "metadata": {},
     "output_type": "execute_result"
    },
    {
     "name": "stdout",
     "output_type": "stream",
     "text": [
      "killing /environment_joint_state_publisher\n",
      "killed\n",
      "killing /environment_tf_publisher\n",
      "killed\n",
      "killing /kitchen_link_broadcaster\n",
      "killed\n",
      "killing /map_server\n",
      "killed\n",
      "killing /pr2_left_arm_kinematics\n",
      "killed\n",
      "killing /pr2_right_arm_kinematics\n",
      "killed\n",
      "master has started, initiating launch\n",
      "... logging to /home/jovyan/.ros/log/b060edc6-0518-11ee-81aa-0242ac1f0002/roslaunch-7972c7802ef3-4814.log\n",
      "Checking log directory for disk usage. This may take a while.\n",
      "Press Ctrl-C to interrupt\n",
      "Done checking log file disk usage. Usage is <1GB.\n",
      "\u001b]2;/home/workspace/ros/src/rvizweb/launch/update_config.launch\u0007\n",
      "\u001b[1mstarted roslaunch server http://7972c7802ef3:41987/\u001b[0m\n",
      "\n",
      "SUMMARY\n",
      "========\n",
      "\n",
      "PARAMETERS\n",
      " * /rosdistro: noetic\n",
      " * /rosversion: 1.16.0\n",
      " * /rvizweb/global_config: <...>\n",
      "\n",
      "NODES\n",
      "  /\n",
      "    rviz_config_publisher (rostopic/rostopic)\n",
      "\n",
      "\u001b[1mROS_MASTER_URI=http://localhost:11311\u001b[0m\n",
      "\u001b]2;/home/workspace/ros/src/rvizweb/launch/update_config.launch http://localhost:11311\u0007\n",
      "\u001b[1mprocess[rviz_config_publisher-1]: started with pid [4838]\u001b[0m\n",
      "\u001b[1m[rviz_config_publisher-1] process has finished cleanly\n",
      "log file: /home/jovyan/.ros/log/b060edc6-0518-11ee-81aa-0242ac1f0002/rviz_config_publisher-1*.log\u001b[0m\n",
      "all processes on machine have died, roslaunch will exit\n",
      "shutting down processing monitor...\n",
      "... shutting down processing monitor complete\n",
      "\u001b[1mdone\u001b[0m\n",
      "master has started, initiating launch\n",
      "... logging to /home/jovyan/.ros/log/b060edc6-0518-11ee-81aa-0242ac1f0002/roslaunch-7972c7802ef3-4909.log\n",
      "Checking log directory for disk usage. This may take a while.\n",
      "Press Ctrl-C to interrupt\n",
      "Done checking log file disk usage. Usage is <1GB.\n",
      "\u001b]2;/home/jovyan/repo/binder/init_robot_pose.launch\u0007\n",
      "\u001b[1mstarted roslaunch server http://7972c7802ef3:37995/\u001b[0m\n",
      "\n",
      "SUMMARY\n",
      "========\n",
      "\n",
      "PARAMETERS\n",
      " * /rosdistro: noetic\n",
      " * /rosversion: 1.16.0\n",
      "\n",
      "NODES\n",
      "  /\n",
      "    reset_pr2 (rostopic/rostopic)\n",
      "\n",
      "\u001b[1mROS_MASTER_URI=http://localhost:11311\u001b[0m\n",
      "\u001b]2;/home/jovyan/repo/binder/init_robot_pose.launch http://localhost:11311\u0007\n",
      "\u001b[1mprocess[reset_pr2-1]: started with pid [4924]\u001b[0m\n",
      "\u001b[1m[reset_pr2-1] process has finished cleanly\n",
      "log file: /home/jovyan/.ros/log/b060edc6-0518-11ee-81aa-0242ac1f0002/reset_pr2-1*.log\u001b[0m\n",
      "all processes on machine have died, roslaunch will exit\n",
      "shutting down processing monitor...\n",
      "... shutting down processing monitor complete\n",
      "\u001b[1mdone\u001b[0m\n"
     ]
    },
    {
     "name": "stderr",
     "output_type": "stream",
     "text": [
      "xacro: in-order processing became default in ROS Melodic. You can drop the option.\n",
      "warning: redefining global symbol: pi\n",
      "when processing file: /home/workspace/ros/src/iai_maps/iai_kitchen/urdf_obj/IAI_oven_area.urdf.xacro\n",
      "included from: /home/workspace/ros/src/iai_maps/iai_kitchen/urdf_obj/iai_kitchen_python.urdf.xacro\n",
      "warning: redefining global symbol: pi\n",
      "when processing file: /home/workspace/ros/src/iai_maps/iai_kitchen/urdf_obj/IAI_drawers.urdf.xacro\n",
      "included from: /home/workspace/ros/src/iai_maps/iai_kitchen/urdf_obj/IAI_oven_area.urdf.xacro\n",
      "included from: /home/workspace/ros/src/iai_maps/iai_kitchen/urdf_obj/iai_kitchen_python.urdf.xacro\n",
      "warning: redefining global symbol: pi\n",
      "when processing file: /home/workspace/ros/src/iai_maps/iai_kitchen/urdf_obj/IAI_oven.urdf.xacro\n",
      "included from: /home/workspace/ros/src/iai_maps/iai_kitchen/urdf_obj/IAI_oven_area.urdf.xacro\n",
      "included from: /home/workspace/ros/src/iai_maps/iai_kitchen/urdf_obj/iai_kitchen_python.urdf.xacro\n",
      "warning: redefining global symbol: pi\n",
      "when processing file: /home/workspace/ros/src/iai_maps/iai_kitchen/urdf_obj/IAI_kitchen_island.urdf.xacro\n",
      "included from: /home/workspace/ros/src/iai_maps/iai_kitchen/urdf_obj/iai_kitchen_python.urdf.xacro\n",
      "warning: redefining global symbol: pi\n",
      "when processing file: /home/workspace/ros/src/iai_maps/iai_kitchen/urdf_obj/IAI_drawers.urdf.xacro\n",
      "included from: /home/workspace/ros/src/iai_maps/iai_kitchen/urdf_obj/IAI_kitchen_island.urdf.xacro\n",
      "included from: /home/workspace/ros/src/iai_maps/iai_kitchen/urdf_obj/iai_kitchen_python.urdf.xacro\n",
      "warning: redefining global symbol: pi\n",
      "when processing file: /home/workspace/ros/src/iai_maps/iai_kitchen/urdf_obj/IAI_sink_area.urdf.xacro\n",
      "included from: /home/workspace/ros/src/iai_maps/iai_kitchen/urdf_obj/iai_kitchen_python.urdf.xacro\n",
      "warning: redefining global symbol: pi\n",
      "when processing file: /home/workspace/ros/src/iai_maps/iai_kitchen/urdf_obj/IAI_drawers.urdf.xacro\n",
      "included from: /home/workspace/ros/src/iai_maps/iai_kitchen/urdf_obj/IAI_sink_area.urdf.xacro\n",
      "included from: /home/workspace/ros/src/iai_maps/iai_kitchen/urdf_obj/iai_kitchen_python.urdf.xacro\n",
      "warning: redefining global symbol: pi\n",
      "when processing file: /home/workspace/ros/src/iai_maps/iai_kitchen/urdf_obj/IAI_dish_washer.urdf.xacro\n",
      "included from: /home/workspace/ros/src/iai_maps/iai_kitchen/urdf_obj/IAI_sink_area.urdf.xacro\n",
      "included from: /home/workspace/ros/src/iai_maps/iai_kitchen/urdf_obj/iai_kitchen_python.urdf.xacro\n",
      "warning: redefining global symbol: pi\n",
      "when processing file: /home/workspace/ros/src/iai_maps/iai_kitchen/urdf_obj/IAI_fridge_area.urdf.xacro\n",
      "included from: /home/workspace/ros/src/iai_maps/iai_kitchen/urdf_obj/iai_kitchen_python.urdf.xacro\n",
      "warning: redefining global symbol: pi\n",
      "when processing file: /home/workspace/ros/src/iai_maps/iai_kitchen/urdf_obj/IAI_drawers.urdf.xacro\n",
      "included from: /home/workspace/ros/src/iai_maps/iai_kitchen/urdf_obj/IAI_fridge_area.urdf.xacro\n",
      "included from: /home/workspace/ros/src/iai_maps/iai_kitchen/urdf_obj/iai_kitchen_python.urdf.xacro\n",
      "warning: redefining global symbol: pi\n",
      "when processing file: /home/workspace/ros/src/iai_maps/iai_kitchen/urdf_obj/IAI_fridge.urdf.xacro\n",
      "included from: /home/workspace/ros/src/iai_maps/iai_kitchen/urdf_obj/IAI_fridge_area.urdf.xacro\n",
      "included from: /home/workspace/ros/src/iai_maps/iai_kitchen/urdf_obj/iai_kitchen_python.urdf.xacro\n",
      "warning: redefining global symbol: pi\n",
      "when processing file: /home/workspace/ros/src/iai_maps/iai_kitchen/urdf_obj/iai_kitchen_python.urdf.xacro\n"
     ]
    }
   ],
   "source": [
    "(uiop:run-program \n",
    " \"${HOME}/repo/binder/update_scene.sh household_tiago.launch\" \n",
    ":output t\n",
    ":error-output t)"
   ]
  },
  {
   "cell_type": "markdown",
   "id": "fefbe88d-d853-43c1-90c7-8ea7d9283dcf",
   "metadata": {
    "tags": []
   },
   "source": [
    "## Household with pr2"
   ]
  },
  {
   "cell_type": "code",
   "execution_count": 20,
   "id": "503b34c4-213f-4d5c-b0af-bd71754275ae",
   "metadata": {
    "scrolled": true,
    "tags": []
   },
   "outputs": [
    {
     "data": {
      "text/plain": [
       "NIL"
      ]
     },
     "execution_count": 20,
     "metadata": {},
     "output_type": "execute_result"
    },
    {
     "data": {
      "text/plain": [
       "NIL"
      ]
     },
     "execution_count": 20,
     "metadata": {},
     "output_type": "execute_result"
    },
    {
     "data": {
      "text/plain": [
       "0"
      ]
     },
     "execution_count": 20,
     "metadata": {},
     "output_type": "execute_result"
    },
    {
     "name": "stdout",
     "output_type": "stream",
     "text": [
      "killing /environment_joint_state_publisher\n",
      "killed\n",
      "killing /environment_tf_publisher\n",
      "killed\n",
      "killing /kdl_ik_service\n",
      "killed\n",
      "killing /kitchen_link_broadcaster\n",
      "killed\n",
      "killing /map_server\n",
      "killed\n",
      "master has started, initiating launch\n",
      "... logging to /home/jovyan/.ros/log/b060edc6-0518-11ee-81aa-0242ac1f0002/roslaunch-7972c7802ef3-4598.log\n",
      "Checking log directory for disk usage. This may take a while.\n",
      "Press Ctrl-C to interrupt\n",
      "Done checking log file disk usage. Usage is <1GB.\n",
      "\u001b]2;/home/workspace/ros/src/rvizweb/launch/update_config.launch\u0007\n",
      "\u001b[1mstarted roslaunch server http://7972c7802ef3:43203/\u001b[0m\n",
      "\n",
      "SUMMARY\n",
      "========\n",
      "\n",
      "PARAMETERS\n",
      " * /rosdistro: noetic\n",
      " * /rosversion: 1.16.0\n",
      " * /rvizweb/global_config: <...>\n",
      "\n",
      "NODES\n",
      "  /\n",
      "    rviz_config_publisher (rostopic/rostopic)\n",
      "\n",
      "\u001b[1mROS_MASTER_URI=http://localhost:11311\u001b[0m\n",
      "\u001b]2;/home/workspace/ros/src/rvizweb/launch/update_config.launch http://localhost:11311\u0007\n",
      "\u001b[1mprocess[rviz_config_publisher-1]: started with pid [4623]\u001b[0m\n",
      "\u001b[1m[rviz_config_publisher-1] process has finished cleanly\n",
      "log file: /home/jovyan/.ros/log/b060edc6-0518-11ee-81aa-0242ac1f0002/rviz_config_publisher-1*.log\u001b[0m\n",
      "all processes on machine have died, roslaunch will exit\n",
      "shutting down processing monitor...\n",
      "... shutting down processing monitor complete\n",
      "\u001b[1mdone\u001b[0m\n",
      "master has started, initiating launch\n",
      "... logging to /home/jovyan/.ros/log/b060edc6-0518-11ee-81aa-0242ac1f0002/roslaunch-7972c7802ef3-4706.log\n",
      "Checking log directory for disk usage. This may take a while.\n",
      "Press Ctrl-C to interrupt\n",
      "Done checking log file disk usage. Usage is <1GB.\n",
      "\u001b]2;/home/jovyan/repo/binder/init_robot_pose.launch\u0007\n",
      "\u001b[1mstarted roslaunch server http://7972c7802ef3:45189/\u001b[0m\n",
      "\n",
      "SUMMARY\n",
      "========\n",
      "\n",
      "PARAMETERS\n",
      " * /rosdistro: noetic\n",
      " * /rosversion: 1.16.0\n",
      "\n",
      "NODES\n",
      "  /\n",
      "    reset_pr2 (rostopic/rostopic)\n",
      "\n",
      "\u001b[1mROS_MASTER_URI=http://localhost:11311\u001b[0m\n",
      "\u001b]2;/home/jovyan/repo/binder/init_robot_pose.launch http://localhost:11311\u0007\n",
      "\u001b[1mprocess[reset_pr2-1]: started with pid [4721]\u001b[0m\n",
      "\u001b[1m[reset_pr2-1] process has finished cleanly\n",
      "log file: /home/jovyan/.ros/log/b060edc6-0518-11ee-81aa-0242ac1f0002/reset_pr2-1*.log\u001b[0m\n",
      "all processes on machine have died, roslaunch will exit\n",
      "shutting down processing monitor...\n",
      "... shutting down processing monitor complete\n",
      "\u001b[1mdone\u001b[0m\n"
     ]
    },
    {
     "name": "stderr",
     "output_type": "stream",
     "text": [
      "warning: redefining global symbol: pi\n",
      "when processing file: /home/workspace/ros/src/iai_maps/iai_kitchen/urdf_obj/IAI_oven_area.urdf.xacro\n",
      "included from: /home/workspace/ros/src/iai_maps/iai_kitchen/urdf_obj/iai_kitchen_python.urdf.xacro\n",
      "warning: redefining global symbol: pi\n",
      "when processing file: /home/workspace/ros/src/iai_maps/iai_kitchen/urdf_obj/IAI_drawers.urdf.xacro\n",
      "included from: /home/workspace/ros/src/iai_maps/iai_kitchen/urdf_obj/IAI_oven_area.urdf.xacro\n",
      "included from: /home/workspace/ros/src/iai_maps/iai_kitchen/urdf_obj/iai_kitchen_python.urdf.xacro\n",
      "warning: redefining global symbol: pi\n",
      "when processing file: /home/workspace/ros/src/iai_maps/iai_kitchen/urdf_obj/IAI_oven.urdf.xacro\n",
      "included from: /home/workspace/ros/src/iai_maps/iai_kitchen/urdf_obj/IAI_oven_area.urdf.xacro\n",
      "included from: /home/workspace/ros/src/iai_maps/iai_kitchen/urdf_obj/iai_kitchen_python.urdf.xacro\n",
      "warning: redefining global symbol: pi\n",
      "when processing file: /home/workspace/ros/src/iai_maps/iai_kitchen/urdf_obj/IAI_kitchen_island.urdf.xacro\n",
      "included from: /home/workspace/ros/src/iai_maps/iai_kitchen/urdf_obj/iai_kitchen_python.urdf.xacro\n",
      "warning: redefining global symbol: pi\n",
      "when processing file: /home/workspace/ros/src/iai_maps/iai_kitchen/urdf_obj/IAI_drawers.urdf.xacro\n",
      "included from: /home/workspace/ros/src/iai_maps/iai_kitchen/urdf_obj/IAI_kitchen_island.urdf.xacro\n",
      "included from: /home/workspace/ros/src/iai_maps/iai_kitchen/urdf_obj/iai_kitchen_python.urdf.xacro\n",
      "warning: redefining global symbol: pi\n",
      "when processing file: /home/workspace/ros/src/iai_maps/iai_kitchen/urdf_obj/IAI_sink_area.urdf.xacro\n",
      "included from: /home/workspace/ros/src/iai_maps/iai_kitchen/urdf_obj/iai_kitchen_python.urdf.xacro\n",
      "warning: redefining global symbol: pi\n",
      "when processing file: /home/workspace/ros/src/iai_maps/iai_kitchen/urdf_obj/IAI_drawers.urdf.xacro\n",
      "included from: /home/workspace/ros/src/iai_maps/iai_kitchen/urdf_obj/IAI_sink_area.urdf.xacro\n",
      "included from: /home/workspace/ros/src/iai_maps/iai_kitchen/urdf_obj/iai_kitchen_python.urdf.xacro\n",
      "warning: redefining global symbol: pi\n",
      "when processing file: /home/workspace/ros/src/iai_maps/iai_kitchen/urdf_obj/IAI_dish_washer.urdf.xacro\n",
      "included from: /home/workspace/ros/src/iai_maps/iai_kitchen/urdf_obj/IAI_sink_area.urdf.xacro\n",
      "included from: /home/workspace/ros/src/iai_maps/iai_kitchen/urdf_obj/iai_kitchen_python.urdf.xacro\n",
      "warning: redefining global symbol: pi\n",
      "when processing file: /home/workspace/ros/src/iai_maps/iai_kitchen/urdf_obj/IAI_fridge_area.urdf.xacro\n",
      "included from: /home/workspace/ros/src/iai_maps/iai_kitchen/urdf_obj/iai_kitchen_python.urdf.xacro\n",
      "warning: redefining global symbol: pi\n",
      "when processing file: /home/workspace/ros/src/iai_maps/iai_kitchen/urdf_obj/IAI_drawers.urdf.xacro\n",
      "included from: /home/workspace/ros/src/iai_maps/iai_kitchen/urdf_obj/IAI_fridge_area.urdf.xacro\n",
      "included from: /home/workspace/ros/src/iai_maps/iai_kitchen/urdf_obj/iai_kitchen_python.urdf.xacro\n",
      "warning: redefining global symbol: pi\n",
      "when processing file: /home/workspace/ros/src/iai_maps/iai_kitchen/urdf_obj/IAI_fridge.urdf.xacro\n",
      "included from: /home/workspace/ros/src/iai_maps/iai_kitchen/urdf_obj/IAI_fridge_area.urdf.xacro\n",
      "included from: /home/workspace/ros/src/iai_maps/iai_kitchen/urdf_obj/iai_kitchen_python.urdf.xacro\n",
      "warning: redefining global symbol: pi\n",
      "when processing file: /home/workspace/ros/src/iai_maps/iai_kitchen/urdf_obj/iai_kitchen_python.urdf.xacro\n"
     ]
    }
   ],
   "source": [
    "(uiop:run-program \n",
    " \"${HOME}/repo/binder/update_scene.sh household_pr2.launch\" \n",
    ":output t\n",
    ":error-output t)"
   ]
  },
  {
   "cell_type": "markdown",
   "id": "8e9c2dc1-b72c-4955-a34e-0e4c29321788",
   "metadata": {
    "tags": []
   },
   "source": [
    "## Household with donbot"
   ]
  },
  {
   "cell_type": "code",
   "execution_count": 19,
   "id": "eeb1f10f-f9aa-4aa4-bb73-8dad810882f1",
   "metadata": {
    "scrolled": true,
    "tags": []
   },
   "outputs": [
    {
     "data": {
      "text/plain": [
       "NIL"
      ]
     },
     "execution_count": 19,
     "metadata": {},
     "output_type": "execute_result"
    },
    {
     "data": {
      "text/plain": [
       "NIL"
      ]
     },
     "execution_count": 19,
     "metadata": {},
     "output_type": "execute_result"
    },
    {
     "data": {
      "text/plain": [
       "0"
      ]
     },
     "execution_count": 19,
     "metadata": {},
     "output_type": "execute_result"
    },
    {
     "name": "stdout",
     "output_type": "stream",
     "text": [
      "killing /environment_joint_state_publisher\n",
      "killed\n",
      "killing /environment_tf_publisher\n",
      "killed\n",
      "killing /kitchen_link_broadcaster\n",
      "killed\n",
      "killing /map_server\n",
      "killed\n",
      "killing /pr2_left_arm_kinematics\n",
      "killed\n",
      "killing /pr2_right_arm_kinematics\n",
      "killed\n",
      "master has started, initiating launch\n",
      "... logging to /home/jovyan/.ros/log/b060edc6-0518-11ee-81aa-0242ac1f0002/roslaunch-7972c7802ef3-4398.log\n",
      "Checking log directory for disk usage. This may take a while.\n",
      "Press Ctrl-C to interrupt\n",
      "Done checking log file disk usage. Usage is <1GB.\n",
      "\u001b]2;/home/workspace/ros/src/rvizweb/launch/update_config.launch\u0007\n",
      "\u001b[1mstarted roslaunch server http://7972c7802ef3:32949/\u001b[0m\n",
      "\n",
      "SUMMARY\n",
      "========\n",
      "\n",
      "PARAMETERS\n",
      " * /rosdistro: noetic\n",
      " * /rosversion: 1.16.0\n",
      " * /rvizweb/global_config: <...>\n",
      "\n",
      "NODES\n",
      "  /\n",
      "    rviz_config_publisher (rostopic/rostopic)\n",
      "\n",
      "\u001b[1mROS_MASTER_URI=http://localhost:11311\u001b[0m\n",
      "\u001b]2;/home/workspace/ros/src/rvizweb/launch/update_config.launch http://localhost:11311\u0007\n",
      "\u001b[1mprocess[rviz_config_publisher-1]: started with pid [4443]\u001b[0m\n",
      "\u001b[1m[rviz_config_publisher-1] process has finished cleanly\n",
      "log file: /home/jovyan/.ros/log/b060edc6-0518-11ee-81aa-0242ac1f0002/rviz_config_publisher-1*.log\u001b[0m\n",
      "all processes on machine have died, roslaunch will exit\n",
      "shutting down processing monitor...\n",
      "... shutting down processing monitor complete\n",
      "\u001b[1mdone\u001b[0m\n",
      "master has started, initiating launch\n",
      "... logging to /home/jovyan/.ros/log/b060edc6-0518-11ee-81aa-0242ac1f0002/roslaunch-7972c7802ef3-4499.log\n",
      "Checking log directory for disk usage. This may take a while.\n",
      "Press Ctrl-C to interrupt\n",
      "Done checking log file disk usage. Usage is <1GB.\n",
      "\u001b]2;/home/jovyan/repo/binder/init_robot_pose.launch\u0007\n",
      "\u001b[1mstarted roslaunch server http://7972c7802ef3:36511/\u001b[0m\n",
      "\n",
      "SUMMARY\n",
      "========\n",
      "\n",
      "PARAMETERS\n",
      " * /rosdistro: noetic\n",
      " * /rosversion: 1.16.0\n",
      "\n",
      "NODES\n",
      "  /\n",
      "    reset_pr2 (rostopic/rostopic)\n",
      "\n",
      "\u001b[1mROS_MASTER_URI=http://localhost:11311\u001b[0m\n",
      "\u001b]2;/home/jovyan/repo/binder/init_robot_pose.launch http://localhost:11311\u0007\n",
      "\u001b[1mprocess[reset_pr2-1]: started with pid [4514]\u001b[0m\n",
      "\u001b[1m[reset_pr2-1] process has finished cleanly\n",
      "log file: /home/jovyan/.ros/log/b060edc6-0518-11ee-81aa-0242ac1f0002/reset_pr2-1*.log\u001b[0m\n",
      "all processes on machine have died, roslaunch will exit\n",
      "shutting down processing monitor...\n",
      "... shutting down processing monitor complete\n",
      "\u001b[1mdone\u001b[0m\n"
     ]
    },
    {
     "name": "stderr",
     "output_type": "stream",
     "text": [
      "warning: Using load_yaml() directly is deprecated. Use xacro.load_yaml() instead.\n",
      "warning: redefining global symbol: pi\n",
      "when processing file: /home/workspace/ros/src/iai_maps/iai_kitchen/urdf_obj/IAI_oven_area.urdf.xacro\n",
      "included from: /home/workspace/ros/src/iai_maps/iai_kitchen/urdf_obj/iai_kitchen_python.urdf.xacro\n",
      "warning: redefining global symbol: pi\n",
      "when processing file: /home/workspace/ros/src/iai_maps/iai_kitchen/urdf_obj/IAI_drawers.urdf.xacro\n",
      "included from: /home/workspace/ros/src/iai_maps/iai_kitchen/urdf_obj/IAI_oven_area.urdf.xacro\n",
      "included from: /home/workspace/ros/src/iai_maps/iai_kitchen/urdf_obj/iai_kitchen_python.urdf.xacro\n",
      "warning: redefining global symbol: pi\n",
      "when processing file: /home/workspace/ros/src/iai_maps/iai_kitchen/urdf_obj/IAI_oven.urdf.xacro\n",
      "included from: /home/workspace/ros/src/iai_maps/iai_kitchen/urdf_obj/IAI_oven_area.urdf.xacro\n",
      "included from: /home/workspace/ros/src/iai_maps/iai_kitchen/urdf_obj/iai_kitchen_python.urdf.xacro\n",
      "warning: redefining global symbol: pi\n",
      "when processing file: /home/workspace/ros/src/iai_maps/iai_kitchen/urdf_obj/IAI_kitchen_island.urdf.xacro\n",
      "included from: /home/workspace/ros/src/iai_maps/iai_kitchen/urdf_obj/iai_kitchen_python.urdf.xacro\n",
      "warning: redefining global symbol: pi\n",
      "when processing file: /home/workspace/ros/src/iai_maps/iai_kitchen/urdf_obj/IAI_drawers.urdf.xacro\n",
      "included from: /home/workspace/ros/src/iai_maps/iai_kitchen/urdf_obj/IAI_kitchen_island.urdf.xacro\n",
      "included from: /home/workspace/ros/src/iai_maps/iai_kitchen/urdf_obj/iai_kitchen_python.urdf.xacro\n",
      "warning: redefining global symbol: pi\n",
      "when processing file: /home/workspace/ros/src/iai_maps/iai_kitchen/urdf_obj/IAI_sink_area.urdf.xacro\n",
      "included from: /home/workspace/ros/src/iai_maps/iai_kitchen/urdf_obj/iai_kitchen_python.urdf.xacro\n",
      "warning: redefining global symbol: pi\n",
      "when processing file: /home/workspace/ros/src/iai_maps/iai_kitchen/urdf_obj/IAI_drawers.urdf.xacro\n",
      "included from: /home/workspace/ros/src/iai_maps/iai_kitchen/urdf_obj/IAI_sink_area.urdf.xacro\n",
      "included from: /home/workspace/ros/src/iai_maps/iai_kitchen/urdf_obj/iai_kitchen_python.urdf.xacro\n",
      "warning: redefining global symbol: pi\n",
      "when processing file: /home/workspace/ros/src/iai_maps/iai_kitchen/urdf_obj/IAI_dish_washer.urdf.xacro\n",
      "included from: /home/workspace/ros/src/iai_maps/iai_kitchen/urdf_obj/IAI_sink_area.urdf.xacro\n",
      "included from: /home/workspace/ros/src/iai_maps/iai_kitchen/urdf_obj/iai_kitchen_python.urdf.xacro\n",
      "warning: redefining global symbol: pi\n",
      "when processing file: /home/workspace/ros/src/iai_maps/iai_kitchen/urdf_obj/IAI_fridge_area.urdf.xacro\n",
      "included from: /home/workspace/ros/src/iai_maps/iai_kitchen/urdf_obj/iai_kitchen_python.urdf.xacro\n",
      "warning: redefining global symbol: pi\n",
      "when processing file: /home/workspace/ros/src/iai_maps/iai_kitchen/urdf_obj/IAI_drawers.urdf.xacro\n",
      "included from: /home/workspace/ros/src/iai_maps/iai_kitchen/urdf_obj/IAI_fridge_area.urdf.xacro\n",
      "included from: /home/workspace/ros/src/iai_maps/iai_kitchen/urdf_obj/iai_kitchen_python.urdf.xacro\n",
      "warning: redefining global symbol: pi\n",
      "when processing file: /home/workspace/ros/src/iai_maps/iai_kitchen/urdf_obj/IAI_fridge.urdf.xacro\n",
      "included from: /home/workspace/ros/src/iai_maps/iai_kitchen/urdf_obj/IAI_fridge_area.urdf.xacro\n",
      "included from: /home/workspace/ros/src/iai_maps/iai_kitchen/urdf_obj/iai_kitchen_python.urdf.xacro\n",
      "warning: redefining global symbol: pi\n",
      "when processing file: /home/workspace/ros/src/iai_maps/iai_kitchen/urdf_obj/iai_kitchen_python.urdf.xacro\n"
     ]
    }
   ],
   "source": [
    "(uiop:run-program \n",
    " \"${HOME}/repo/binder/update_scene.sh household_donbot.launch\" \n",
    ":output t\n",
    ":error-output t)"
   ]
  },
  {
   "cell_type": "markdown",
   "id": "25f4ce36-2da4-4fe0-8750-a74956cc3170",
   "metadata": {
    "tags": []
   },
   "source": [
    "## Retail with donbot"
   ]
  },
  {
   "cell_type": "code",
   "execution_count": 12,
   "id": "64eab19a-867d-436b-8957-a2c2a9f4dbdf",
   "metadata": {
    "scrolled": true,
    "tags": []
   },
   "outputs": [
    {
     "data": {
      "text/plain": [
       "NIL"
      ]
     },
     "execution_count": 12,
     "metadata": {},
     "output_type": "execute_result"
    },
    {
     "data": {
      "text/plain": [
       "NIL"
      ]
     },
     "execution_count": 12,
     "metadata": {},
     "output_type": "execute_result"
    },
    {
     "data": {
      "text/plain": [
       "0"
      ]
     },
     "execution_count": 12,
     "metadata": {},
     "output_type": "execute_result"
    },
    {
     "name": "stdout",
     "output_type": "stream",
     "text": [
      "killing /environment_joint_state_publisher\n",
      "killed\n",
      "killing /environment_tf_publisher\n",
      "killed\n",
      "killing /kdl_ik_service\n",
      "killed\n",
      "killing /kitchen_link_broadcaster\n",
      "killed\n",
      "killing /map_server\n",
      "killed\n",
      "master has started, initiating launch\n",
      "... logging to /home/jovyan/.ros/log/b060edc6-0518-11ee-81aa-0242ac1f0002/roslaunch-7972c7802ef3-2967.log\n",
      "Checking log directory for disk usage. This may take a while.\n",
      "Press Ctrl-C to interrupt\n",
      "Done checking log file disk usage. Usage is <1GB.\n",
      "\u001b]2;/home/workspace/ros/src/rvizweb/launch/update_config.launch\u0007\n",
      "\u001b[1mstarted roslaunch server http://7972c7802ef3:40675/\u001b[0m\n",
      "\n",
      "SUMMARY\n",
      "========\n",
      "\n",
      "PARAMETERS\n",
      " * /rosdistro: noetic\n",
      " * /rosversion: 1.16.0\n",
      " * /rvizweb/global_config: <...>\n",
      "\n",
      "NODES\n",
      "  /\n",
      "    rviz_config_publisher (rostopic/rostopic)\n",
      "\n",
      "\u001b[1mROS_MASTER_URI=http://localhost:11311\u001b[0m\n",
      "\u001b]2;/home/workspace/ros/src/rvizweb/launch/update_config.launch http://localhost:11311\u0007\n",
      "\u001b[1mprocess[rviz_config_publisher-1]: started with pid [2983]\u001b[0m\n",
      "\u001b[1m[rviz_config_publisher-1] process has finished cleanly\n",
      "log file: /home/jovyan/.ros/log/b060edc6-0518-11ee-81aa-0242ac1f0002/rviz_config_publisher-1*.log\u001b[0m\n",
      "all processes on machine have died, roslaunch will exit\n",
      "shutting down processing monitor...\n",
      "... shutting down processing monitor complete\n",
      "\u001b[1mdone\u001b[0m\n",
      "master has started, initiating launch\n",
      "... logging to /home/jovyan/.ros/log/b060edc6-0518-11ee-81aa-0242ac1f0002/roslaunch-7972c7802ef3-3068.log\n",
      "Checking log directory for disk usage. This may take a while.\n",
      "Press Ctrl-C to interrupt\n",
      "Done checking log file disk usage. Usage is <1GB.\n",
      "\u001b]2;/home/jovyan/repo/binder/init_robot_pose.launch\u0007\n",
      "\u001b[1mstarted roslaunch server http://7972c7802ef3:33621/\u001b[0m\n",
      "\n",
      "SUMMARY\n",
      "========\n",
      "\n",
      "PARAMETERS\n",
      " * /rosdistro: noetic\n",
      " * /rosversion: 1.16.0\n",
      "\n",
      "NODES\n",
      "  /\n",
      "    reset_pr2 (rostopic/rostopic)\n",
      "\n",
      "\u001b[1mROS_MASTER_URI=http://localhost:11311\u001b[0m\n",
      "\u001b]2;/home/jovyan/repo/binder/init_robot_pose.launch http://localhost:11311\u0007\n",
      "\u001b[1mprocess[reset_pr2-1]: started with pid [3083]\u001b[0m\n",
      "\u001b[1m[reset_pr2-1] process has finished cleanly\n",
      "log file: /home/jovyan/.ros/log/b060edc6-0518-11ee-81aa-0242ac1f0002/reset_pr2-1*.log\u001b[0m\n",
      "all processes on machine have died, roslaunch will exit\n",
      "shutting down processing monitor...\n",
      "... shutting down processing monitor complete\n",
      "\u001b[1mdone\u001b[0m\n"
     ]
    },
    {
     "name": "stderr",
     "output_type": "stream",
     "text": [
      "warning: Using load_yaml() directly is deprecated. Use xacro.load_yaml() instead.\n"
     ]
    }
   ],
   "source": [
    "(uiop:run-program \n",
    " \"${HOME}/repo/binder/update_scene.sh retail_donbot.launch\" \n",
    ":output t\n",
    ":error-output t)"
   ]
  },
  {
   "cell_type": "markdown",
   "id": "b1f320db-f413-4ed7-af8d-a7c5fd6494d6",
   "metadata": {
    "tags": []
   },
   "source": [
    "## Retail with pr2"
   ]
  },
  {
   "cell_type": "code",
   "execution_count": 10,
   "id": "6c07c5e3-3ca8-4a6c-83c6-19fb183f95e9",
   "metadata": {
    "scrolled": true,
    "tags": []
   },
   "outputs": [
    {
     "data": {
      "text/plain": [
       "NIL"
      ]
     },
     "execution_count": 10,
     "metadata": {},
     "output_type": "execute_result"
    },
    {
     "data": {
      "text/plain": [
       "NIL"
      ]
     },
     "execution_count": 10,
     "metadata": {},
     "output_type": "execute_result"
    },
    {
     "data": {
      "text/plain": [
       "0"
      ]
     },
     "execution_count": 10,
     "metadata": {},
     "output_type": "execute_result"
    },
    {
     "name": "stdout",
     "output_type": "stream",
     "text": [
      "killing /environment_joint_state_publisher\n",
      "killed\n",
      "killing /environment_tf_publisher\n",
      "killed\n",
      "killing /kitchen_link_broadcaster\n",
      "killed\n",
      "killing /map_server\n",
      "killed\n",
      "killing /pr2_left_arm_kinematics\n",
      "killed\n",
      "killing /pr2_right_arm_kinematics\n",
      "killed\n",
      "master has started, initiating launch\n",
      "... logging to /home/jovyan/.ros/log/b060edc6-0518-11ee-81aa-0242ac1f0002/roslaunch-7972c7802ef3-2541.log\n",
      "Checking log directory for disk usage. This may take a while.\n",
      "Press Ctrl-C to interrupt\n",
      "Done checking log file disk usage. Usage is <1GB.\n",
      "\u001b]2;/home/workspace/ros/src/rvizweb/launch/update_config.launch\u0007\n",
      "\u001b[1mstarted roslaunch server http://7972c7802ef3:37145/\u001b[0m\n",
      "\n",
      "SUMMARY\n",
      "========\n",
      "\n",
      "PARAMETERS\n",
      " * /rosdistro: noetic\n",
      " * /rosversion: 1.16.0\n",
      " * /rvizweb/global_config: <...>\n",
      "\n",
      "NODES\n",
      "  /\n",
      "    rviz_config_publisher (rostopic/rostopic)\n",
      "\n",
      "\u001b[1mROS_MASTER_URI=http://localhost:11311\u001b[0m\n",
      "\u001b]2;/home/workspace/ros/src/rvizweb/launch/update_config.launch http://localhost:11311\u0007\n",
      "\u001b[1mprocess[rviz_config_publisher-1]: started with pid [2557]\u001b[0m\n",
      "\u001b[1m[rviz_config_publisher-1] process has finished cleanly\n",
      "log file: /home/jovyan/.ros/log/b060edc6-0518-11ee-81aa-0242ac1f0002/rviz_config_publisher-1*.log\u001b[0m\n",
      "all processes on machine have died, roslaunch will exit\n",
      "shutting down processing monitor...\n",
      "... shutting down processing monitor complete\n",
      "\u001b[1mdone\u001b[0m\n",
      "master has started, initiating launch\n",
      "... logging to /home/jovyan/.ros/log/b060edc6-0518-11ee-81aa-0242ac1f0002/roslaunch-7972c7802ef3-2651.log\n",
      "Checking log directory for disk usage. This may take a while.\n",
      "Press Ctrl-C to interrupt\n",
      "Done checking log file disk usage. Usage is <1GB.\n",
      "\u001b]2;/home/jovyan/repo/binder/init_robot_pose.launch\u0007\n",
      "\u001b[1mstarted roslaunch server http://7972c7802ef3:38487/\u001b[0m\n",
      "\n",
      "SUMMARY\n",
      "========\n",
      "\n",
      "PARAMETERS\n",
      " * /rosdistro: noetic\n",
      " * /rosversion: 1.16.0\n",
      "\n",
      "NODES\n",
      "  /\n",
      "    reset_pr2 (rostopic/rostopic)\n",
      "\n",
      "\u001b[1mROS_MASTER_URI=http://localhost:11311\u001b[0m\n",
      "\u001b]2;/home/jovyan/repo/binder/init_robot_pose.launch http://localhost:11311\u0007\n",
      "\u001b[1mprocess[reset_pr2-1]: started with pid [2666]\u001b[0m\n",
      "\u001b[1m[reset_pr2-1] process has finished cleanly\n",
      "log file: /home/jovyan/.ros/log/b060edc6-0518-11ee-81aa-0242ac1f0002/reset_pr2-1*.log\u001b[0m\n",
      "all processes on machine have died, roslaunch will exit\n",
      "shutting down processing monitor...\n",
      "... shutting down processing monitor complete\n",
      "\u001b[1mdone\u001b[0m\n"
     ]
    }
   ],
   "source": [
    "(uiop:run-program \n",
    " \"${HOME}/repo/binder/update_scene.sh retail_pr2.launch\" \n",
    ":output t\n",
    ":error-output t)"
   ]
  },
  {
   "cell_type": "code",
   "execution_count": null,
   "id": "0c610299-3457-45f1-a1c5-270f08856e5e",
   "metadata": {
    "tags": []
   },
   "outputs": [],
   "source": [
    "(asdf:load-system :cram-projection-demos)"
   ]
  },
  {
   "cell_type": "markdown",
   "id": "caf298a9-b5e8-47d2-a370-4269a0faeffa",
   "metadata": {},
   "source": [
    "2. Initialize the plan executive"
   ]
  },
  {
   "cell_type": "code",
   "execution_count": null,
   "id": "8ae78ff4-8038-4e3b-8309-b43703df29fb",
   "metadata": {
    "tags": []
   },
   "outputs": [],
   "source": [
    "(roslisp-utilities:startup-ros)"
   ]
  },
  {
   "cell_type": "markdown",
   "id": "8badf507-a052-4464-979f-f46a0fc56ba3",
   "metadata": {},
   "source": [
    "3. Start the task"
   ]
  },
  {
   "cell_type": "code",
   "execution_count": null,
   "id": "b905559d-86dd-4e59-bc51-8cc72b9f0e23",
   "metadata": {
    "tags": []
   },
   "outputs": [],
   "source": [
    "(demos::apartment-demo)"
   ]
  },
  {
   "cell_type": "markdown",
   "id": "0da48fba-80a4-44fa-a36e-3260dbc70e72",
   "metadata": {},
   "source": [
    "To stop the task, hit the black square in the top bar.\n",
    "\n",
    "Change the robot by stopping the launchfile in the terminal with CTRL-C and starting a different launch file. Then execute steps 2 and 3 again.\n",
    "\n",
    "Source file [apartment-demo](../../workspace/ros/src/cram/cram_demos/cram_projection_demos/src/apartment-demo.lisp)"
   ]
  }
 ],
 "metadata": {
  "kernelspec": {
   "display_name": "Common Lisp",
   "language": "common-lisp",
   "name": "common-lisp"
  },
  "language_info": {
   "codemirror_mode": "text/x-common-lisp",
   "file_extension": ".lisp",
   "mimetype": "text/x-common-lisp",
   "name": "common-lisp",
   "pygments_lexer": "common-lisp",
   "version": "2.0.1.debian"
  }
 },
 "nbformat": 4,
 "nbformat_minor": 5
}
