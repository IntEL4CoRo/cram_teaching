{
 "cells": [
  {
   "cell_type": "markdown",
   "id": "ef34792d-fa88-41d0-9694-a6799d0147af",
   "metadata": {
    "tags": []
   },
   "source": [
    "# Assignment 3 - Object-Oriented World\n",
    "\n",
    "Welcome to Assignment 3 of the \"Robot Programming with Lisp\" course.\n",
    "\n",
    "* Due Date: 09.11.2022, 23:59 CEST in your Github repository\n",
    "* 10 points achievable\n",
    "\n",
    "We are back with the grid world. This assignment is split over two files\n",
    "The oop-world contains the object-oriented representation of the world.\n",
    "In treasure-hunt is the logic to move the robot and collect treasures.\n",
    "\n",
    "Your task is to define classes to represent the structure of the world,\n",
    "initialize instances of classes and implement generic functions for them.\n",
    "We will represent our world in a very similar way to how they are represented\n",
    "in computer game physics engines, only, of course, much simpler.\n",
    "\n",
    "## How to\n",
    "\n",
    "Execute the code segments one after another. Each chapter in this notebook serves its purpose.\n",
    "\n",
    "* **Load Package** - How to load the package of the assignment\n",
    "* **Prepared code** - Some prepared code, containing parameters and functions for the world. Don't touch that.\n",
    "* **Assignment code** - Your assignment. This is where you need to write code. Solve the missing TODOs by implementing the functionality described.\n",
    "* **Testing** - With these functions you can test your program. Add more code blocks here if you want to test specific functions.\n",
    "\n",
    "You have completed the assignment when the robot picks up all the treasures in the world. Your grade depends on your individual implementation in the **Assignment code**.\n",
    "\n",
    "## Load Package\n",
    "\n",
    "Execute the code of the following section to load this assignments code."
   ]
  },
  {
   "cell_type": "code",
   "execution_count": null,
   "id": "0b4445c8-d975-4cd0-9dfd-48f3cbe9f7db",
   "metadata": {},
   "outputs": [],
   "source": [
    ";; Adds the directory of this assignment into the ASDF registry\n",
    "(let* ((lecture-path '(:absolute \"home\" \"lectures\" \"robot_programming_with_lisp\"))\n",
    "       (assignment-path (append lecture-path '(\"03_oop_world\")))\n",
    "       (bullet-path (append lecture-path '(\"bullet_wrapper\"))))\n",
    "      (pushnew (make-pathname :directory assignment-path) asdf:*central-registry*)\n",
    "      (pushnew (make-pathname :directory bullet-path) asdf:*central-registry*))"
   ]
  },
  {
   "cell_type": "code",
   "execution_count": null,
   "id": "2dc8641e-763b-4acd-bd76-fc65ddd7217b",
   "metadata": {
    "tags": []
   },
   "outputs": [],
   "source": [
    ";; Loads the ASDF system of this assignment\n",
    "(asdf:load-system :oop-world)"
   ]
  },
  {
   "cell_type": "code",
   "execution_count": null,
   "id": "8e0c8add-c57e-4cdb-8461-c125691be725",
   "metadata": {},
   "outputs": [],
   "source": [
    ";; Makes this assignment as the current namespace\n",
    "(in-package :oop-world)"
   ]
  },
  {
   "cell_type": "markdown",
   "id": "4a70abac-c90b-4e73-be6a-1fa943d94653",
   "metadata": {
    "tags": []
   },
   "source": [
    "## Assignment Code - OOP World (5P)\n",
    "\n",
    "This assignment is done by implementing two parts:\n",
    "* creating the structs, classes and methods to represent the world\n",
    "* move the robot and collect treasures by invoking these methods\n",
    "\n"
   ]
  },
  {
   "cell_type": "markdown",
   "id": "0f57c564-d9a9-416c-91cf-f21d59fef16a",
   "metadata": {},
   "source": [
    "Each description of a struct and class follows this format:\n",
    "\n",
    "| | **NAME** | |\n",
    "| --- | --- | --- |\n",
    "| **slot-name** | **slot-type** | **initial-value** |\n",
    "\n",
    "Our world is a 2D world inhabited by entities.\n",
    "Entities have positions in the world,\n",
    "so first define a struct called COORDINATE that will look like this:\n",
    "| | **COORDINATE** | |\n",
    "| --- | --- | --- | \n",
    "| **slot-name** | **slot-type** | **initial-value** |\n",
    "| x | integer | 0 |\n",
    "| y | integer | 0 |\n",
    "\n",
    "where x and y are the names of the slots, INTEGER is the type and 0 is the default"
   ]
  },
  {
   "cell_type": "code",
   "execution_count": null,
   "id": "7af83434-b497-4bec-8909-aa0e6c464eea",
   "metadata": {
    "tags": []
   },
   "outputs": [],
   "source": [
    "(defstruct coordinate\n",
    "  (x 0 :type integer)\n",
    "  (y 0 :type integer))\n",
    "\n",
    "(make-coordinate)\n",
    "(make-coordinate :x 1 :y 2)"
   ]
  },
  {
   "cell_type": "markdown",
   "id": "ba220160-5acb-4ff0-bee7-93629a8bd7fa",
   "metadata": {
    "tags": []
   },
   "source": [
    "| | **TREASURE-WORLD** | |\n",
    "| --- | --- | --- | \n",
    "| **slot-name** | **slot-type** | **initial-value** |\n",
    "| robot     | robot      | NIL |\n",
    "| walls     | list       | NIL (empty list) |\n",
    "| treasures | list       | NIL (empty list) |\n",
    "\n",
    "* ROBOT is a slot of type ROBOT (see definition of ROBOT below). This holds a reference to the robot in the world.\n",
    "* WALLS is a list of WALL objects (also see below). Such that we always have a reference to all wall-objects.\n",
    "* TREASURES is a list of TREASURE objects (also see below).\n",
    "\n",
    "Each has a getter (accessor) and setter (initarg) which define the function-name to get to that slots value.\n",
    "* Use :initform to give a default value\n",
    "* Use :type to specify the type of the slot.\n",
    "* Use :documentation for slots and classes."
   ]
  },
  {
   "cell_type": "code",
   "execution_count": null,
   "id": "c4af69c4-1136-4ef5-beb0-37d3fb4a9371",
   "metadata": {},
   "outputs": [],
   "source": [
    "(defclass treasure-world ()\n",
    "  ;; TODO: implement class TREASURE-WORLD\n",
    "  ()\n",
    "  (:documentation \"This is the world, holding references to all entities in it.\"))"
   ]
  },
  {
   "cell_type": "markdown",
   "id": "7178fc5c-9699-4d88-a9eb-8b40e0ba1229",
   "metadata": {},
   "source": [
    "In the following we define the class ENTITY and its inheriting children: WALL, TREASURE and ROBOT. Each entity in the world has a coordinate, a reference to the world, and a name.\n",
    "\n",
    "| | **ENTITY** | |\n",
    "| --- | --- | --- | \n",
    "| **slot-name** | **slot-type** | **initial-value** |\n",
    "| coord    | coordinate     | empty (default) coordinate |\n",
    "| world    | treasure-world | NIL |\n",
    "| name     | symbol         | NIL |"
   ]
  },
  {
   "cell_type": "code",
   "execution_count": null,
   "id": "32b8c6aa-7413-4bfb-9f71-7b2e8d0858ca",
   "metadata": {},
   "outputs": [],
   "source": [
    "(defclass entity ()\n",
    "  ((coordinate :accessor coord\n",
    "               :type coordinate\n",
    "               :initarg :coord\n",
    "               :initform (make-coordinate)\n",
    "               :documentation \"The entity's coordinate.\")\n",
    "   ;; TODO: Implement rest of the class ENTITY\n",
    "   )\n",
    "  (:documentation \"A generic, abstract entity of the world.\"))"
   ]
  },
  {
   "cell_type": "markdown",
   "id": "ad518491-21ac-4c9c-8231-a922bdaf37ea",
   "metadata": {},
   "source": [
    "| | **WALL** (inherits ENTITY) | |\n",
    "| --- | --- | --- | \n",
    "| | no further slots |  | "
   ]
  },
  {
   "cell_type": "code",
   "execution_count": null,
   "id": "657a994e-a7d9-4f17-988d-f20cf9b45658",
   "metadata": {},
   "outputs": [],
   "source": [
    ";; Nothing to add here\n",
    "(defclass wall (entity)\n",
    "  ()\n",
    "  (:documentation \"A wall of the world.\"))"
   ]
  },
  {
   "cell_type": "code",
   "execution_count": null,
   "id": "84c3537b-1795-4ceb-ae2f-536cb67d97c9",
   "metadata": {},
   "outputs": [],
   "source": [
    ";; When 'entity' is implemented, test instantiating a wall like this:\n",
    "(make-instance 'wall \n",
    "               :coord (make-coordinate)\n",
    "               :world (make-instance 'treasure-world)\n",
    "               :name 'some-name-of-a-wall)"
   ]
  },
  {
   "cell_type": "markdown",
   "id": "8e5757be-2f8e-46e0-bb58-03e0c45377ac",
   "metadata": {},
   "source": [
    "| | TREASURE  (inherits ENTITY) | |\n",
    "| --- | --- | --- |\n",
    "| **slot-name** | **slot-type** | **initial-value** |\n",
    "| color   | keyword | :RED (either :RED or :BLUE) |"
   ]
  },
  {
   "cell_type": "code",
   "execution_count": null,
   "id": "9ca05fa0-b1a6-46c6-89d7-43dcda59df19",
   "metadata": {},
   "outputs": [],
   "source": [
    "(defclass treasure (entity)\n",
    "  ;; TODO: implement class TREASURE\n",
    "  ()\n",
    "  (:documentation \"A blue or red valuable treasure.\"))"
   ]
  },
  {
   "cell_type": "markdown",
   "id": "d345d3d4-0245-4651-b78f-8886ed8f3fc8",
   "metadata": {},
   "source": [
    "| | ROBOT  (inherits ENTITY) | |\n",
    "| --- | --- | --- |\n",
    "| **slot-name** | **slot-type** | **initial-value** |\n",
    "| orientation | keyword | :NORTH (either :NORTH, :EAST, :SOUTH or :WEST) |"
   ]
  },
  {
   "cell_type": "code",
   "execution_count": null,
   "id": "d45d7ac5-b929-45a0-ab6b-a548411b2cd5",
   "metadata": {},
   "outputs": [],
   "source": [
    "(defclass robot (entity)\n",
    "  ;; TODO implement class ROBOT\n",
    "  ()\n",
    "  (:documentation \"The world's robot.\"))"
   ]
  },
  {
   "cell_type": "markdown",
   "id": "82599fb8-736e-42bf-af6f-4dc3e8ad1937",
   "metadata": {},
   "source": [
    "#### Add entities\n",
    "\n",
    "Now let's implement the methods to add subclasses of ENTITY to the TREASURE-WORLD.\n",
    "The methods need two parameters, the entity object and the world object.\n",
    "\n",
    "Implement the methods for each subclass of `entity`: `wall`, `treasure` and `robot`.\n",
    "\n",
    "`wall`: Append the wall object to the list of walls. (this is already implemented)\n",
    "\n",
    "`treasure`: If the coordinates are not occupied by a wall, add the treasure to the list.\n",
    "\n",
    "`robot`: If the coordinate within the object is free, set the robot in the world."
   ]
  },
  {
   "cell_type": "code",
   "execution_count": null,
   "id": "ac61576e-fec7-44b1-afd5-40a9e2104e44",
   "metadata": {},
   "outputs": [],
   "source": [
    "(defun in-bounds (coordinate)\n",
    "  \"Checks, if the given coordinate is within bounds of the world.\"\n",
    "  (and (<= 0 (coordinate-x coordinate) 15)\n",
    "       (<= 0 (coordinate-y coordinate) 16)))\n",
    "\n",
    "(defgeneric free-space (coordinate world)\n",
    "  (:documentation \"Checks, if the coordinate is free of walls and treasures.\")\n",
    "  (:method (coordinate (world treasure-world))\n",
    "    (not (member coordinate (append (walls world) (treasures world))\n",
    "                 :key #'coord :test #'equalp))))"
   ]
  },
  {
   "cell_type": "code",
   "execution_count": null,
   "id": "392994b3-f9ff-4458-b7d2-c6f4ebde196c",
   "metadata": {},
   "outputs": [],
   "source": [
    "(defgeneric add-to-world (obj world)\n",
    "  (:documentation \"When the objs coordinates point to a valid position,\n",
    "                  adds the object to the `world'.\"))\n",
    "\n",
    "(defmethod add-to-world ((obj wall) (world treasure-world))\n",
    "  (when (in-bounds (coord obj))\n",
    "    (push obj (walls world))\n",
    "    (setf (world obj) world)))"
   ]
  },
  {
   "cell_type": "code",
   "execution_count": null,
   "id": "179400ac-fbb1-49a2-940a-95b85708bd05",
   "metadata": {},
   "outputs": [],
   "source": [
    ";; TODO: Implement method `add-to-world' for the class `treasure'.\n"
   ]
  },
  {
   "cell_type": "code",
   "execution_count": null,
   "id": "921d911f-0ecb-4f36-8d06-09ad0691dc8c",
   "metadata": {},
   "outputs": [],
   "source": [
    ";; TODO: Implement method `add-to-world' for the class `robot'.\n"
   ]
  },
  {
   "cell_type": "markdown",
   "id": "8a10c86a-3734-48a8-93ee-0f92c6b497be",
   "metadata": {},
   "source": [
    "### Testing - Object-oriented World"
   ]
  },
  {
   "cell_type": "markdown",
   "id": "69792f83-de40-43ff-a2fb-38d89f8eb56e",
   "metadata": {},
   "source": [
    "Look into the [oop-world.lisp](./src/oop-world.lisp), at the bottom are the functions `initialize-world` and `visualize-simulation` defined.\n",
    "\n",
    "Some error explanations:\n",
    "* *Invalid initialization arguments*\n",
    "  * lists the arguments that are used for `make-instance` for an object of a class. If the slots and accessors of that class are not correct, `initialize-world` can't create that object correctly.\n",
    "* *UNDEFINED-FUNCTION: The function OOP-WORLD::WALLS is undefined.* \n",
    "  * tries to get the `walls` slot from the `treasure-world` object, but can't. This is also caused by a faulty accessor definition in the class.\n",
    "* *NO-APPLICABLE-METHOD-ERROR: There is no applicable method for the generic function #<STANDARD-GENERIC-FUNCTION OOP-WORLD::ADD-TO-WORLD (1)> when called with arguments (#<TREASURE {100F069B33}> #<TREASURE-WORLD {100EFC9C53}>).*\n",
    "  * means there is no `add-to-world` method defined for the class `treasure`. This can also occur for the `robot` class.\n"
   ]
  },
  {
   "cell_type": "code",
   "execution_count": null,
   "id": "a1bd8dfc-0ecc-4900-aa27-8d25be4922fb",
   "metadata": {},
   "outputs": [],
   "source": [
    "(defparameter *world* nil)"
   ]
  },
  {
   "cell_type": "markdown",
   "id": "3985629c-42ec-4a7d-87c0-ec3a11053a88",
   "metadata": {},
   "source": [
    "Hit the Debugger-Symbol in the top-right corner to enable/disable the debugger. This will let you investigate the content of your world. Beware, though, that executing faulty code while the debugger is running, can crash your kernel. In that case, restart the kernel, reload the package and compile your cells."
   ]
  },
  {
   "cell_type": "code",
   "execution_count": null,
   "id": "38f8767f-b568-44bb-a2c5-a86634d2dc86",
   "metadata": {
    "tags": []
   },
   "outputs": [],
   "source": [
    "(setf *world* (initialize-world))"
   ]
  },
  {
   "cell_type": "code",
   "execution_count": null,
   "id": "ac903a3b-ac14-4222-96c9-1cb2e318c7fe",
   "metadata": {},
   "outputs": [],
   "source": [
    "(robot *world*)"
   ]
  },
  {
   "cell_type": "code",
   "execution_count": null,
   "id": "1918f022-654e-4a86-80ff-e45166d2e701",
   "metadata": {},
   "outputs": [],
   "source": [
    "(treasures *world*)"
   ]
  },
  {
   "cell_type": "code",
   "execution_count": null,
   "id": "9dbf7407-2353-4bbd-8219-b048bde9362d",
   "metadata": {},
   "outputs": [],
   "source": [
    "(walls *world*)"
   ]
  },
  {
   "cell_type": "markdown",
   "id": "67cd6834-9104-4ae2-beca-71c11f4dee89",
   "metadata": {
    "tags": []
   },
   "source": [
    "## Assignment Code - Treasure Hunt (5P)\n",
    "\n",
    "In the previous segment we created the OOP world. Please implement the OOP world first, so you can call the `vizualize-simulation` method without errors.\n",
    "\n",
    "This segment will let the robot move around as in the previous assignment: you can teleport the robot around, but it now has an orientation.\n",
    "\n",
    "```lisp\n",
    ";; Describes the offset of each direction. Use the orientation as a key to get\n",
    ";; the corresponding offset like this:\n",
    ";; (alexandria:assoc-value +directions+ :NORTH)\n",
    ";; or like this\n",
    ";; (cdr (assoc :NORTH +directions+))\n",
    "(alexandria:define-constant +directions+\n",
    "    '((:NORTH 1 0)\n",
    "      (:EAST 0 -1)\n",
    "      (:SOUTH -1 0)\n",
    "      (:WEST 0 1)) :test 'equal)\n",
    "```\n",
    "\n",
    "They describe an offset in x and y direction. Add these values to the current position of the robot to find the coordinate he is currently looking at."
   ]
  },
  {
   "cell_type": "code",
   "execution_count": null,
   "id": "e7ee23f1-e163-4169-9c76-4db47b05b19d",
   "metadata": {
    "tags": []
   },
   "outputs": [],
   "source": [
    "(cdr (assoc :NORTH +directions+))"
   ]
  },
  {
   "cell_type": "markdown",
   "id": "cf7302d5-c4e7-4a2a-a4db-1c58e1e804c6",
   "metadata": {
    "tags": []
   },
   "source": [
    "### Moving the robot (2P)\n",
    "\n",
    "When the robot is moved into a wall or out of bounds, it shouldn't move. Implement the method that moves the robot."
   ]
  },
  {
   "cell_type": "code",
   "execution_count": null,
   "id": "5a2a0f1a-600b-44a7-8f9c-d6ad98e9341d",
   "metadata": {},
   "outputs": [],
   "source": [
    "(defgeneric move (robot x y orientation)\n",
    "  (:documentation \"Moves the robot to the given x, y coordinates and orientation, if possible. \n",
    "                  The robot can only stand on free-space, not even under treasures.\"))\n",
    "\n",
    "(defmethod move ((robot robot) x y orientation)\n",
    "  ;; TODO: implement\n",
    "  )"
   ]
  },
  {
   "cell_type": "markdown",
   "id": "a5173ccd-0047-40f9-bbc3-837dade5b710",
   "metadata": {},
   "source": [
    "After each call of the MOVE function we want to visualize the world in the simulation again.\n",
    "Overload the `move` method such the `visualize-simulation` method will be called `:after` each call\n",
    "of the `move` method."
   ]
  },
  {
   "cell_type": "code",
   "execution_count": null,
   "id": "c5f3fbbb-f3b9-40c5-b169-68f4e4355c4c",
   "metadata": {},
   "outputs": [],
   "source": [
    ";; TODO: Overload the MOVE method to VISUALIZE-SIMULATION :after each call.\n"
   ]
  },
  {
   "cell_type": "markdown",
   "id": "70709c51-78fe-4b8e-beb1-3f94eda5f8ca",
   "metadata": {
    "tags": []
   },
   "source": [
    "### Collecting Treasures (3P)\n",
    "\n",
    "The robot can only collect treasures that are in fron of it. Moving under a treasure (as in assignment 2) doesn't work anymore, and should cause a `robot-collision` error.\n",
    "\n",
    "The following method is used on a treasure, to find a suitable position for the robot to fetch it. Remember that a suitable position excludes coordinates that are occupied by a wall."
   ]
  },
  {
   "cell_type": "code",
   "execution_count": null,
   "id": "c033a17f-6223-41b0-bf6b-4951e0c4352b",
   "metadata": {},
   "outputs": [],
   "source": [
    "(defgeneric get-access-pose (treasure)\n",
    "  (:documentation \"Returns x, y and orientation as a list, from where the treasure is reachable.\n",
    "If no position can be found, return NIL.\")\n",
    "  (:method ((treasure entity))\n",
    "    ;; TODO implement\n",
    "    ))"
   ]
  },
  {
   "cell_type": "markdown",
   "id": "7bebeca9-600e-40e6-a667-f0fec190e21f",
   "metadata": {},
   "source": [
    "If the robot is standing in front of a treasure, it can pick it up."
   ]
  },
  {
   "cell_type": "code",
   "execution_count": null,
   "id": "f02e11f3-b298-4475-99e5-631d1a39713a",
   "metadata": {},
   "outputs": [],
   "source": [
    "(defgeneric collect-treasure (robot)\n",
    "  (:documentation \"Collects the treasure laying in front of the robot, if there is any.\n",
    "Collecting the treasure means removing it from the worlds TREASURES-slot.\"))\n",
    "\n",
    "(defmethod collect-treasure ((robot robot))\n",
    "    ;; TODO implement\n",
    "    )"
   ]
  },
  {
   "cell_type": "markdown",
   "id": "94de54fd-41e0-4edb-b476-c8d9924cba7e",
   "metadata": {},
   "source": [
    "Like in the `move` method, overload the `collect-treasure` method, so the `visualize-simulation` method\n",
    "will be called `:after` each call of the `collect-treasure` method."
   ]
  },
  {
   "cell_type": "code",
   "execution_count": null,
   "id": "63ebbaa6-5bbc-4468-a1d5-0a4ff57ee54c",
   "metadata": {},
   "outputs": [],
   "source": [
    ";; TODO: Overload the COLLECT-TREASURES method to VISUALIZE-SIMULATION :after each call.\n"
   ]
  },
  {
   "cell_type": "markdown",
   "id": "6f71c12a-bb95-42b8-8849-ae5901e5b4e0",
   "metadata": {},
   "source": [
    "Finally, move to every treasure and pick it up."
   ]
  },
  {
   "cell_type": "code",
   "execution_count": null,
   "id": "7c0d354d-c6e3-4001-9522-68dcee5dfb51",
   "metadata": {},
   "outputs": [],
   "source": [
    "(defgeneric discover-world (world)\n",
    "  (:documentation \"Moves the robot to each treasure and collects them.\n",
    "The robot can `get-access-pose' to know, where to land to collect a treasure.\")\n",
    "  (:method ((world treasure-world))\n",
    "    ;; TODO implement\n",
    "    ))"
   ]
  },
  {
   "cell_type": "markdown",
   "id": "41729347-1fbe-470f-a807-c2fdb779818d",
   "metadata": {
    "tags": []
   },
   "source": [
    "### Testing - Treasure Hunt\n",
    "\n",
    "Initialize a world, save it in a parameter and work with that."
   ]
  },
  {
   "cell_type": "code",
   "execution_count": null,
   "id": "a9a70101-ecad-4b65-b361-1311f7251770",
   "metadata": {},
   "outputs": [],
   "source": [
    "(defparameter *world* nil)"
   ]
  },
  {
   "cell_type": "code",
   "execution_count": null,
   "id": "589dbd49-22fc-4ab6-b60c-96412ca56a81",
   "metadata": {},
   "outputs": [],
   "source": [
    "(setf *world* (initialize-world))"
   ]
  },
  {
   "cell_type": "code",
   "execution_count": null,
   "id": "08dad7e0-138c-4d7e-816a-bbbab605a689",
   "metadata": {},
   "outputs": [],
   "source": [
    "(move (robot *world*) 1 2 :WEST)"
   ]
  },
  {
   "cell_type": "code",
   "execution_count": null,
   "id": "4e4ec0fd-c7b0-46e3-ab06-8b5f11010140",
   "metadata": {},
   "outputs": [],
   "source": [
    "(get-access-pose (car (treasures *world*)))"
   ]
  },
  {
   "cell_type": "code",
   "execution_count": null,
   "id": "144683c8-9771-4d1d-99fa-6a751345ace9",
   "metadata": {},
   "outputs": [],
   "source": [
    "(collect-treasure (robot *world*))"
   ]
  },
  {
   "cell_type": "code",
   "execution_count": null,
   "id": "32a32578-47d9-40c2-a154-18e211c6e660",
   "metadata": {},
   "outputs": [],
   "source": [
    "(discover-world *world*)"
   ]
  }
 ],
 "metadata": {
  "kernelspec": {
   "display_name": "Common Lisp",
   "language": "common-lisp",
   "name": "common-lisp"
  },
  "language_info": {
   "codemirror_mode": "text/x-common-lisp",
   "file_extension": ".lisp",
   "mimetype": "text/x-common-lisp",
   "name": "common-lisp",
   "pygments_lexer": "common-lisp",
   "version": "2.0.1.debian"
  }
 },
 "nbformat": 4,
 "nbformat_minor": 5
}
