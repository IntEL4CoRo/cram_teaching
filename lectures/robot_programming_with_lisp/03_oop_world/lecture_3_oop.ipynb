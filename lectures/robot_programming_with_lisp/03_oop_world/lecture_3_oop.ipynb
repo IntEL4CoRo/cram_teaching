{
 "cells": [
  {
   "cell_type": "markdown",
   "id": "bc97bbe9-b5fb-4386-98b1-aedeb4a763fe",
   "metadata": {},
   "source": [
    "# Robot Programming with Lisp - 3. Object-Oriented Programming and Failure Handling\n",
    "\n",
    "## Overview\n",
    "\n",
    "* Structures\n",
    "* Hash Tables\n",
    "* Common Lisp Object System (CLOS)\n",
    "* Generic Programming\n",
    "* Failure Handling\n",
    "* Organizational and Links\n",
    "\n",
    "## Structures"
   ]
  },
  {
   "cell_type": "code",
   "execution_count": null,
   "id": "7f9c4bdd-0039-435f-81b3-61fa19b92c22",
   "metadata": {},
   "outputs": [],
   "source": [
    ";; Handling Structs\n",
    "(defstruct player\n",
    "    id\n",
    "    (name \"mysterious stranger\" :type string)\n",
    "    (hp 10 :type integer)\n",
    "    (mp 0 :type integer)\n",
    "    and-so-on)"
   ]
  },
  {
   "cell_type": "code",
   "execution_count": null,
   "id": "8d361522-e4bb-4ec6-b027-92f31cc8105c",
   "metadata": {},
   "outputs": [],
   "source": [
    "(defvar *player* (make-player :name \"Turtle\" :and-so-on '123))\n",
    "\n",
    "*player*"
   ]
  },
  {
   "cell_type": "code",
   "execution_count": null,
   "id": "145c8682-de10-48f8-b041-04f1d12d8775",
   "metadata": {},
   "outputs": [],
   "source": [
    "(player-name *)"
   ]
  },
  {
   "cell_type": "code",
   "execution_count": null,
   "id": "6afeede3-2e88-42e3-8f4a-d308c693d07e",
   "metadata": {},
   "outputs": [],
   "source": [
    "(defvar *player-copy* (copy-player *player*))"
   ]
  },
  {
   "cell_type": "code",
   "execution_count": null,
   "id": "8caa04a1-660a-4717-8004-e591383d880e",
   "metadata": {},
   "outputs": [],
   "source": [
    "(setf (player-name *player-copy*) \"Cat\")\n",
    "\n",
    "*player-copy"
   ]
  },
  {
   "cell_type": "code",
   "execution_count": null,
   "id": "e4bf8e10-d057-461f-be1f-9d3292ae8f6f",
   "metadata": {},
   "outputs": [],
   "source": [
    "*player*"
   ]
  },
  {
   "cell_type": "markdown",
   "id": "dbf37fa6-c58f-4542-9984-b85794391746",
   "metadata": {},
   "source": [
    "## Hash Tables"
   ]
  },
  {
   "cell_type": "code",
   "execution_count": null,
   "id": "9b2ca951-29aa-410b-a146-b36406c39c7b",
   "metadata": {},
   "outputs": [],
   "source": [
    ";; Handling Hash Tables\n",
    "(defvar *table* (make-hash-table :test 'equal))\n",
    "\n",
    "*table*"
   ]
  },
  {
   "cell_type": "code",
   "execution_count": null,
   "id": "1428234f-28e7-4aff-a33c-ced40528b4a2",
   "metadata": {},
   "outputs": [],
   "source": [
    "(setf (gethash \"MZH\" *table*) \"Bibliothekstrasse 3\"\n",
    "      (gethash \"TAB\" *table*) \"Am Fallturm 1\")"
   ]
  },
  {
   "cell_type": "code",
   "execution_count": null,
   "id": "9b52aed0-9363-45b5-b807-8f23480393e8",
   "metadata": {},
   "outputs": [],
   "source": [
    "(gethash \"MZH\" *table*)"
   ]
  },
  {
   "cell_type": "markdown",
   "id": "62bbbc0e-4e76-4e15-a177-3f9cf8e050cd",
   "metadata": {},
   "source": [
    "## Common Lisp Object System (CLOS)"
   ]
  },
  {
   "cell_type": "code",
   "execution_count": null,
   "id": "0ae2c5df-4237-49e2-8885-f5e4ee1c0cd4",
   "metadata": {},
   "outputs": [],
   "source": [
    ";; Handling Classes\n",
    "(defclass shape ()\n",
    "    ((color :accessor get-shape-color\n",
    "            :initarg :set-color)\n",
    "     (center :accessor shape-center\n",
    "             :initarg :center\n",
    "             :initform '(0 . 0))))"
   ]
  },
  {
   "cell_type": "code",
   "execution_count": null,
   "id": "dca6a73f-3c67-46c8-9ebb-d0924645af44",
   "metadata": {},
   "outputs": [],
   "source": [
    "(defvar *red-shape* (make-instance 'shape :set-color 'red))"
   ]
  },
  {
   "cell_type": "code",
   "execution_count": null,
   "id": "07bbd80f-8d92-4bb1-b14b-41139d1e3fff",
   "metadata": {},
   "outputs": [],
   "source": [
    "(describe *red-shape*)"
   ]
  },
  {
   "cell_type": "code",
   "execution_count": null,
   "id": "9211d110-aab1-47fe-9e4e-06ead58deb59",
   "metadata": {},
   "outputs": [],
   "source": [
    "(get-shape-color *red-shape*)"
   ]
  },
  {
   "cell_type": "code",
   "execution_count": null,
   "id": "42de847a-0ef9-4aa1-ae89-cb4ee432c65b",
   "metadata": {},
   "outputs": [],
   "source": [
    ";; Inheritance\n",
    "(defclass circle (shape)\n",
    "    ((radius :initarg :radius)))"
   ]
  },
  {
   "cell_type": "code",
   "execution_count": null,
   "id": "22b17f8f-40bb-4528-a410-85a9fa1a45d4",
   "metadata": {},
   "outputs": [],
   "source": [
    "(defvar *circle*\n",
    "    (make-instance 'circle :set-color 'green :radius 10))"
   ]
  },
  {
   "cell_type": "code",
   "execution_count": null,
   "id": "c33bf467-f2f5-446b-b418-be5f9a658234",
   "metadata": {},
   "outputs": [],
   "source": [
    "(describe *circle*)"
   ]
  },
  {
   "cell_type": "code",
   "execution_count": null,
   "id": "7e967fc1-660a-4cbd-8a4e-156f343f179a",
   "metadata": {},
   "outputs": [],
   "source": [
    "(slot-value *circle* 'radius)"
   ]
  },
  {
   "cell_type": "markdown",
   "id": "9dca45bc-eab7-477a-9a2c-4421c0e3875f",
   "metadata": {},
   "source": [
    "### Lisp class vs. Java class\n",
    "\n",
    "Lisp classes have / support:\n",
    "* attributes\n",
    "* getter-setter methods\n",
    "* multiple inheritance\n",
    "\n",
    "Lisp classes don’t have:\n",
    "* attribute access specifications (managed with package namespaces)\n",
    "* methods"
   ]
  },
  {
   "cell_type": "markdown",
   "id": "5ae52dde-1614-468b-90c8-38293b7de4b2",
   "metadata": {},
   "source": [
    "## Generic Programming\n",
    "\n",
    "### Function Overloading: Generic Programming"
   ]
  },
  {
   "cell_type": "code",
   "execution_count": null,
   "id": "c4f6e04d-9e9d-46aa-8a0d-46b2bbc33872",
   "metadata": {},
   "outputs": [],
   "source": [
    ";; Defining Generic Functions\n",
    "(defgeneric area (x)\n",
    "    (:documentation \"Calculates area of object of type SHAPE.\"))"
   ]
  },
  {
   "cell_type": "code",
   "execution_count": null,
   "id": "072999e9-448e-4f58-ac2a-9d1ed607bfe3",
   "metadata": {
    "tags": []
   },
   "outputs": [],
   "source": [
    "(area 1)  ;; no applicable method..."
   ]
  },
  {
   "cell_type": "code",
   "execution_count": null,
   "id": "aae27622-1fef-4bec-91a5-1fdf3271329e",
   "metadata": {},
   "outputs": [],
   "source": [
    "(defmethod area (x)\n",
    "    (error \"AREA is only applicable to SHAPE instances\"))"
   ]
  },
  {
   "cell_type": "code",
   "execution_count": null,
   "id": "5df9bf39-80be-4b9d-9361-b933f638cec5",
   "metadata": {
    "tags": []
   },
   "outputs": [],
   "source": [
    "(defmethod area ((obj shape))\n",
    "    (error \"We need more information about OBJ to know its area\"))"
   ]
  },
  {
   "cell_type": "code",
   "execution_count": null,
   "id": "98e6f384-d925-47e3-b832-2d028382b59c",
   "metadata": {},
   "outputs": [],
   "source": [
    "(defmethod area ((obj circle))\n",
    "    (* pi (expt (slot-value obj 'radius) 2)))"
   ]
  },
  {
   "cell_type": "code",
   "execution_count": null,
   "id": "e4fb75c8-494b-4a79-adf8-6ca8efa5eb79",
   "metadata": {},
   "outputs": [],
   "source": [
    "(area 1)"
   ]
  },
  {
   "cell_type": "code",
   "execution_count": null,
   "id": "a7656d2c-8ac1-4f42-a4bf-9a1981c40327",
   "metadata": {},
   "outputs": [],
   "source": [
    "(area *red-shape*)"
   ]
  },
  {
   "cell_type": "code",
   "execution_count": null,
   "id": "c140bedd-08a3-44e6-a05a-d449312e1f64",
   "metadata": {},
   "outputs": [],
   "source": [
    "(area *circle*)"
   ]
  },
  {
   "cell_type": "code",
   "execution_count": null,
   "id": "9cfbf446-ef26-4038-af65-6aed72142777",
   "metadata": {},
   "outputs": [],
   "source": [
    ";; Method combinations: :before, :after, :around\n",
    "(defmethod area :before (obj)\n",
    "    (format t \"Before area. \"))"
   ]
  },
  {
   "cell_type": "code",
   "execution_count": null,
   "id": "7e9cc757-cf3d-4634-beae-735504356b33",
   "metadata": {},
   "outputs": [],
   "source": [
    "(area *circle*)"
   ]
  },
  {
   "cell_type": "code",
   "execution_count": null,
   "id": "e97cfac8-d139-44a2-98b8-6e6cb7a04e0d",
   "metadata": {},
   "outputs": [],
   "source": [
    "(defmethod area :around ((obj shape))\n",
    "    (format t \"Taking over shape area. \"))"
   ]
  },
  {
   "cell_type": "code",
   "execution_count": null,
   "id": "a19d35c2-c671-4efb-8804-4f815d8a6961",
   "metadata": {},
   "outputs": [],
   "source": [
    "(area *red-shape*)"
   ]
  },
  {
   "cell_type": "code",
   "execution_count": null,
   "id": "a778c05d-56a1-4cc4-b598-6df0d18c8caf",
   "metadata": {},
   "outputs": [],
   "source": [
    "(defmethod area :around ((obj shape))\n",
    "    (format t \"Taking over shape area. \")\n",
    "    (call-next-method))"
   ]
  },
  {
   "cell_type": "code",
   "execution_count": null,
   "id": "3e3937e1-d0e1-425c-8ba0-9a35947909e0",
   "metadata": {},
   "outputs": [],
   "source": [
    "(area *red-shape*)"
   ]
  },
  {
   "cell_type": "code",
   "execution_count": null,
   "id": "3d68ada8-df22-458e-9309-e43d84e42feb",
   "metadata": {},
   "outputs": [],
   "source": [
    "(defmethod area :around ((obj shape))\n",
    "    (round (call-next-method)))"
   ]
  },
  {
   "cell_type": "code",
   "execution_count": null,
   "id": "2b60fd80-5346-4ccf-8d11-e91db4d99be7",
   "metadata": {},
   "outputs": [],
   "source": [
    "(area *circle*)"
   ]
  },
  {
   "cell_type": "code",
   "execution_count": null,
   "id": "acf32c36-8c7a-46b8-aa06-5e0dad1346cb",
   "metadata": {},
   "outputs": [],
   "source": [
    ";; Custom :method-combination\n",
    "(defgeneric awesome-function (x)\n",
    "    (:method-combination +))"
   ]
  },
  {
   "cell_type": "code",
   "execution_count": null,
   "id": "91e7405e-e47c-490f-860d-cf8b3028a16b",
   "metadata": {},
   "outputs": [],
   "source": [
    "(defmethod awesome-function + ((x number))\n",
    "    x)"
   ]
  },
  {
   "cell_type": "code",
   "execution_count": null,
   "id": "c51ab29c-9f6d-4bc3-8247-70043bf0dc18",
   "metadata": {},
   "outputs": [],
   "source": [
    "(awesome-function 2)"
   ]
  },
  {
   "cell_type": "code",
   "execution_count": null,
   "id": "e4597b03-8918-4495-83ab-66458c895ffb",
   "metadata": {},
   "outputs": [],
   "source": [
    "(typep 2 'number)"
   ]
  },
  {
   "cell_type": "code",
   "execution_count": null,
   "id": "380f8dfa-749e-4de6-9e08-789138e111a5",
   "metadata": {},
   "outputs": [],
   "source": [
    "(typep 2 'integer)"
   ]
  },
  {
   "cell_type": "code",
   "execution_count": null,
   "id": "dfa74f9c-3c63-4fbd-a7ef-64a4d3126a80",
   "metadata": {},
   "outputs": [],
   "source": [
    "(defmethod awesome-function + ((x integer))\n",
    "    x)"
   ]
  },
  {
   "cell_type": "code",
   "execution_count": null,
   "id": "cd356e33-ae03-421f-8993-aca7c76aec58",
   "metadata": {},
   "outputs": [],
   "source": [
    "(awesome-function 2)"
   ]
  },
  {
   "cell_type": "markdown",
   "id": "c5e1ccab-0995-4187-a35f-707b60c3479e",
   "metadata": {},
   "source": [
    "### OOP in Lisp - Summary\n",
    "OOP:\n",
    "* Everything is an object.\n",
    "* Objects interact with each other.\n",
    "* Methods 'belong' to objects.\n",
    "\n",
    "Functional programming:\n",
    "* Everything is a function.\n",
    "* Functions interact with each other.\n",
    "* Objects 'belong' to (generic) functions.\n",
    "\n",
    "OOP principles in Lisp:\n",
    "* inheritance (`defclass`)\n",
    "* encapsulation (closures)\n",
    "* subtyping polymorphism (`defclass`)\n",
    "* parametric polymorphism (generic functions)"
   ]
  },
  {
   "cell_type": "markdown",
   "id": "119f19a7-e81f-459f-87dc-d3d67fc78b11",
   "metadata": {},
   "source": [
    "## Failure Handling\n",
    "\n",
    "### Invoking Conditions"
   ]
  },
  {
   "cell_type": "code",
   "execution_count": null,
   "id": "223769c1-83aa-46f3-93d7-75d92e8dedc5",
   "metadata": {},
   "outputs": [],
   "source": [
    ";; define-condition, error\n",
    "(error \"oops, something went wrong...\")"
   ]
  },
  {
   "cell_type": "code",
   "execution_count": null,
   "id": "7954ec2d-508e-464f-9918-abf2d19ab146",
   "metadata": {},
   "outputs": [],
   "source": [
    "(define-condition input-not-a-number (simple-error)\n",
    "    ((actual-input :initarg :actual-input\n",
    "                   :reader actual-input\n",
    "                   :initform nil))\n",
    "    (:report (lambda (condition stream)\n",
    "                     (format stream \"~a is not a number!\"\n",
    "                             (actual-input condition)))))"
   ]
  },
  {
   "cell_type": "code",
   "execution_count": null,
   "id": "9c1fd437-e747-427d-9b21-ab79c9a294eb",
   "metadata": {},
   "outputs": [],
   "source": [
    "(let ((input (read)))\n",
    "     (if (numberp input)\n",
    "         input\n",
    "         (error (make-condition 'input-not-a-number\n",
    "                                :actual-input input))))"
   ]
  },
  {
   "cell_type": "markdown",
   "id": "8dc453bc-7238-48a6-b927-c733c8248057",
   "metadata": {},
   "source": [
    "### Catching Conditions\n"
   ]
  },
  {
   "cell_type": "code",
   "execution_count": null,
   "id": "8b79a02c-2536-4875-8495-5fe5904d6687",
   "metadata": {},
   "outputs": [],
   "source": [
    ";; handler-case\n",
    "(defparameter *result* nil)\n",
    "(let ((x (random 3)))\n",
    "     (setf *result* (/ 123 x))\n",
    "     (format t \"new result is: ~a~%\" *result*)\n",
    "     (setf *result* 0)\n",
    "     (format t \"cleaned up: ~a~%\" *result*))"
   ]
  },
  {
   "cell_type": "code",
   "execution_count": null,
   "id": "0bf86554-afa5-4267-b83e-b7ebaaa52a32",
   "metadata": {},
   "outputs": [],
   "source": [
    "(defparameter *result* nil)\n",
    "(let ((x (random 3)))\n",
    "     (handler-case\n",
    "         (progn (setf *result* (/ 123 x))\n",
    "             (format t \"new result is: ~a~%\" *result*)\n",
    "             (setf *result* 0)\n",
    "             (format t \"cleaned up: ~a~%\" *result*))\n",
    "         (division-by-zero (error)\n",
    "                           (format t \"~a~%\" error)))\n",
    "     (format t \"Final result: ~a~%\" *result*))"
   ]
  },
  {
   "cell_type": "code",
   "execution_count": null,
   "id": "d0e93e27-d545-4ce8-842b-d30c4c192180",
   "metadata": {},
   "outputs": [],
   "source": [
    ";; unwind-protect\n",
    "(defparameter *result* nil)\n",
    "(let ((x (random 3)))\n",
    "     (handler-case\n",
    "         (unwind-protect\n",
    "          (progn\n",
    "              (setf *result* (/ 123 x))\n",
    "              (format t \"new result is: ~a~%\" *result*))\n",
    "          (setf *result* 0)\n",
    "          (format t \"cleaned up: ~a~%\" *result*))\n",
    "         (division-by-zero (error)\n",
    "                           (format t \"~a~%\" error)))\n",
    "     (format t \"final result: ~a~%\" *result*))"
   ]
  },
  {
   "cell_type": "markdown",
   "id": "58c74ff6-88ac-42b9-92ce-724fb21535de",
   "metadata": {},
   "source": [
    "## Assignment\n",
    "\n",
    "`git pull` for assignment 3! Treasure hunting in an object-oriented world.\n",
    "\n",
    "Due: 09.11., Wed, 23:59 CEST\n",
    "\n",
    "Points: 10\n",
    "\n",
    "Next Class: 10.11. 14:15 CEST\n",
    "\n",
    "## Links\n",
    "\n",
    "Cool article by Paul Graham on programming languages:\n",
    "* http://www.paulgraham.com/avg.html\n",
    "\n",
    "\"Practical Common Lisp\" failure handling chapter:\n",
    "* http://www.gigamonkeys.com/book/beyond-exception-handling-conditions-and-restarts.html"
   ]
  }
 ],
 "metadata": {
  "kernelspec": {
   "display_name": "Common Lisp",
   "language": "common-lisp",
   "name": "common-lisp"
  },
  "language_info": {
   "codemirror_mode": "text/x-common-lisp",
   "file_extension": ".lisp",
   "mimetype": "text/x-common-lisp",
   "name": "common-lisp",
   "pygments_lexer": "common-lisp",
   "version": "2.0.1.debian"
  }
 },
 "nbformat": 4,
 "nbformat_minor": 5
}
