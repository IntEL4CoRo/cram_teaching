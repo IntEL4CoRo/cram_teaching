{
 "cells": [
  {
   "cell_type": "markdown",
   "id": "684e4fcd-10cf-45a8-8dfa-173f3b48209a",
   "metadata": {},
   "source": [
    "# Robot Programming with Lisp - 4. Functional Programming\n",
    "**Higher-order Functions, Currying, Map/Reduce**\n",
    "\n",
    "## Overview\n",
    "\n",
    "* Background\n",
    "* Concepts\n",
    "  * Functions Basics\n",
    "  * Higher-order Functions\n",
    "  * Anonymous Functions\n",
    "  * Currying\n",
    "  * Mapping and Reducing\n",
    "* Organizational\n",
    "\n",
    "## Background\n",
    "\n",
    "Pure functional programming concepts include:\n",
    "* no program state (e.g. no global variables);\n",
    "* referential transparency\n",
    "  i.e. a function called twice with same arguments always generates the same output;\n",
    "* functions don’t have side effects;\n",
    "* avoid mutable data, \n",
    "  i.e. once created, data structure values don’t change (immutable data);\n",
    "* heavy usage of recursions, \n",
    "  as opposed to iterative approaches;\n",
    "* functions as first class citizens,\n",
    "  as a result, higher-order functions (simplest analogy: callbacks);\n",
    "* lazy evaluations,\n",
    "  i.e. only execute a function call when its result is actually used;\n",
    "* usage of lists as a main data structure; ....\n",
    "\n",
    "## Popular Languages\n",
    "\n",
    "* **Scheme**: 1975, latest release in 2013,\n",
    "  * introduced many core functional programming concepts that are widely accepted today\n",
    "* **Common Lisp**: 1984, latest release (SBCL 2.2.10) in Oct 2022,\n",
    "  * successor of Scheme, possibly the most influential, general-purpose, widely-used Lisp dialect\n",
    "* **Erlang**: 1986, latest release (25.1.2) in Oct 2022,\n",
    "  * focused on concurrency and distributed systems, supports hot patching, used within AWS\n",
    "* **Haskell**: 1990, latest release (GHC 9.2.5) in Nov 2022, \n",
    "  * purely functional, in contrast to all others in this list\n",
    "* **Racket**: 1994, latest release (8.6) in Aug 2022, \n",
    "  * focused on writing domain-specific programming languages\n",
    "* **OCaml**: 1996, latest release (4.14.0) in Mar 2022, \n",
    "  * very high performance, static-typed, one of the first inherently object-oriented functional programming languages\n",
    "* **Scala**: 2003, latest release (3.2.0) in Sep 2022,\n",
    "  * compiled to JVM code, static-typed, object-oriented, Java-like syntax {}\n",
    "* **Clojure**: 2007, latest release (1.11.1) in Apr 2022,\n",
    "  * compiled to JVM code and JavaScript, therefore mostly used in Web, seems to be fashionable in the programming subculture at the moment\n",
    "* **Julia**: 2012, latest release (1.8.2) in Sep 2022, \n",
    "  * focused on high-performance numerical and scientific computing, means for distributed computation, strong FFI support, Python-like syntax\n",
    "\n",
    "**Conclusion**: functional programming becomes more and more popular.\n",
    "\n",
    "## Defining a Function"
   ]
  },
  {
   "cell_type": "code",
   "execution_count": 90,
   "id": "6b259ebc-c4b9-469f-9c31-15205004db21",
   "metadata": {},
   "outputs": [
    {
     "data": {
      "text/plain": [
       "MY-COOL-FUNCTION-NAME"
      ]
     },
     "execution_count": 90,
     "metadata": {},
     "output_type": "execute_result"
    }
   ],
   "source": [
    ";; Signature\n",
    "(defun my-cool-function-name (arg-1 arg-2 arg-3 arg-4)\n",
    "    \"This function combines its 4 input arguments into a list and returns it.\"\n",
    "    (list arg-1 arg-2 arg-3 arg-4))"
   ]
  },
  {
   "cell_type": "code",
   "execution_count": 91,
   "id": "74248c15-239e-46fc-81d9-ddeffaae48ec",
   "metadata": {},
   "outputs": [
    {
     "data": {
      "text/plain": [
       "OPTIONAL-ARGUMENTS"
      ]
     },
     "execution_count": 91,
     "metadata": {},
     "output_type": "execute_result"
    }
   ],
   "source": [
    ";; Optional Arguments\n",
    "(defun optional-arguments (arg-1 arg-2 &optional arg-3 arg-4)\n",
    "    (list arg-1 arg-2 arg-3 arg-4))"
   ]
  },
  {
   "cell_type": "code",
   "execution_count": 92,
   "id": "d0f42aef-dc47-4610-9142-abdeadeb367b",
   "metadata": {},
   "outputs": [
    {
     "data": {
      "text/plain": [
       "(1 2 3 4)"
      ]
     },
     "execution_count": 92,
     "metadata": {},
     "output_type": "execute_result"
    }
   ],
   "source": [
    "(optional-arguments 1 2 3 4)"
   ]
  },
  {
   "cell_type": "code",
   "execution_count": 93,
   "id": "2adef65c-60c8-4337-80aa-7f6eb29b05d6",
   "metadata": {},
   "outputs": [
    {
     "data": {
      "text/plain": [
       "(1 2 3 NIL)"
      ]
     },
     "execution_count": 93,
     "metadata": {},
     "output_type": "execute_result"
    }
   ],
   "source": [
    "(optional-arguments 1 2 3)"
   ]
  },
  {
   "cell_type": "code",
   "execution_count": 94,
   "id": "f5b7ea95-15d2-4267-8b61-3fbd101003e9",
   "metadata": {},
   "outputs": [
    {
     "name": "stderr",
     "output_type": "stream",
     "text": [
      "SIMPLE-PROGRAM-ERROR: invalid number of arguments: 1\n",
      "\n"
     ]
    },
    {
     "ename": "SIMPLE-PROGRAM-ERROR",
     "evalue": "invalid number of arguments: 1",
     "output_type": "error",
     "traceback": [
      "0: (OPTIONAL-ARGUMENTS 304)",
      "1: (JUPYTER/COMMON-LISP::EVAL-AND-PRINT (OPTIONAL-ARGUMENTS 304) 0 NIL)",
      "2: ((:METHOD JUPYTER:EVALUATE-FORM (JUPYTER/COMMON-LISP:KERNEL T T T)) #<unused argument> #<FORM-TRACKING-STREAM for \"file /tmp/D7A79A4E7B7E47E22DFC8A8FE42C90D4-1037984140.lisp\" {10022A2E63}> CELL:1037984140.LISP.NEWEST NIL #<unused argument> #<unused argument>)",
      "3: (JUPYTER/COMMON-LISP::REPL (optional-arguments 304) CELL:1037984140.LISP.NEWEST NIL)",
      "4: ((:METHOD JUPYTER:EVALUATE-CODE (JUPYTER/COMMON-LISP:KERNEL T)) #<unused argument> (optional-arguments 304) CELL:1037984140.LISP.NEWEST NIL)",
      "5: (JUPYTER::HANDLE-EXECUTE-REQUEST)",
      "6: (JUPYTER::RUN-SHELL #<KERNEL {100AF9E1A3}>)",
      "7: ((LABELS BORDEAUX-THREADS::%BINDING-DEFAULT-SPECIALS-WRAPPER :IN BORDEAUX-THREADS::BINDING-DEFAULT-SPECIALS))",
      "8: ((FLET SB-UNIX::BODY :IN SB-THREAD::NEW-LISP-THREAD-TRAMPOLINE))",
      "9: ((FLET \"WITHOUT-INTERRUPTS-BODY-4\" :IN SB-THREAD::NEW-LISP-THREAD-TRAMPOLINE))",
      "10: ((FLET SB-THREAD::WITH-MUTEX-THUNK :IN SB-THREAD::NEW-LISP-THREAD-TRAMPOLINE))",
      "11: ((FLET \"WITHOUT-INTERRUPTS-BODY-1\" :IN SB-THREAD::CALL-WITH-MUTEX))",
      "12: (SB-THREAD::CALL-WITH-MUTEX #<CLOSURE (FLET SB-THREAD::WITH-MUTEX-THUNK :IN SB-THREAD::NEW-LISP-THREAD-TRAMPOLINE) {7FD6C49EED7B}> #<MUTEX \"thread result lock\" owner: #<SB-THREAD:THREAD \"SHELL Thread\" RUNNING {100C3EFB73}>> NIL T NIL)",
      "13: (SB-THREAD::NEW-LISP-THREAD-TRAMPOLINE #<THREAD \"SHELL Thread\" RUNNING {100C3EFB73}> NIL #<CLOSURE (LABELS BORDEAUX-THREADS::%BINDING-DEFAULT-SPECIALS-WRAPPER :IN BORDEAUX-THREADS::BINDING-DEFAULT-SPECIALS) {100C3EFB1B}> NIL)",
      "14: (\"foreign function: call_into_lisp\")",
      "15: (\"foreign function: new_thread_trampoline\")"
     ]
    },
    {
     "name": "stdout",
     "output_type": "stream",
     "text": [
      "SB-INT:SIMPLE-STYLE-WARNING: The function OPTIONAL-ARGUMENTS is called with one argument, but wants at least two.\n"
     ]
    }
   ],
   "source": [
    "(optional-arguments 304)"
   ]
  },
  {
   "cell_type": "code",
   "execution_count": 95,
   "id": "59ee6eee-ef55-479d-b29c-162833085b6c",
   "metadata": {},
   "outputs": [
    {
     "data": {
      "text/plain": [
       "SPECIFIC-OPTIONAL"
      ]
     },
     "execution_count": 95,
     "metadata": {},
     "output_type": "execute_result"
    }
   ],
   "source": [
    ";; Key Arguments\n",
    "(defun specific-optional (arg-1 arg-2 &key arg-3 arg-4)\n",
    "    \"This function demonstrates how to pass a value to\n",
    "    a specific optional argument.\"\n",
    "    (list arg-1 arg-2 arg-3 arg-4))"
   ]
  },
  {
   "cell_type": "code",
   "execution_count": 96,
   "id": "85927817-2a35-477c-a633-ee4a21bb331b",
   "metadata": {},
   "outputs": [
    {
     "name": "stderr",
     "output_type": "stream",
     "text": [
      "UNKNOWN-KEYWORD-ARGUMENT: Unknown &KEY argument: 3\n",
      "\n"
     ]
    },
    {
     "ename": "UNKNOWN-KEYWORD-ARGUMENT",
     "evalue": "Unknown &KEY argument: 3",
     "output_type": "error",
     "traceback": [
      "0: (SPECIFIC-OPTIONAL 1 2 3 4)",
      "1: (JUPYTER/COMMON-LISP::EVAL-AND-PRINT (SPECIFIC-OPTIONAL 1 2 3 4) 0 NIL)",
      "2: ((:METHOD JUPYTER:EVALUATE-FORM (JUPYTER/COMMON-LISP:KERNEL T T T)) #<unused argument> #<FORM-TRACKING-STREAM for \"file /tmp/D7A79A4E7B7E47E22DFC8A8FE42C90D4-1557859554.lisp\" {10023A5B33}> CELL:1557859554.LISP.NEWEST NIL #<unused argument> #<unused argument>)",
      "3: (JUPYTER/COMMON-LISP::REPL (specific-optional 1 2 3 4) CELL:1557859554.LISP.NEWEST NIL)",
      "4: ((:METHOD JUPYTER:EVALUATE-CODE (JUPYTER/COMMON-LISP:KERNEL T)) #<unused argument> (specific-optional 1 2 3 4) CELL:1557859554.LISP.NEWEST NIL)",
      "5: (JUPYTER::HANDLE-EXECUTE-REQUEST)",
      "6: (JUPYTER::RUN-SHELL #<KERNEL {100AF9E1A3}>)",
      "7: ((LABELS BORDEAUX-THREADS::%BINDING-DEFAULT-SPECIALS-WRAPPER :IN BORDEAUX-THREADS::BINDING-DEFAULT-SPECIALS))",
      "8: ((FLET SB-UNIX::BODY :IN SB-THREAD::NEW-LISP-THREAD-TRAMPOLINE))",
      "9: ((FLET \"WITHOUT-INTERRUPTS-BODY-4\" :IN SB-THREAD::NEW-LISP-THREAD-TRAMPOLINE))",
      "10: ((FLET SB-THREAD::WITH-MUTEX-THUNK :IN SB-THREAD::NEW-LISP-THREAD-TRAMPOLINE))",
      "11: ((FLET \"WITHOUT-INTERRUPTS-BODY-1\" :IN SB-THREAD::CALL-WITH-MUTEX))",
      "12: (SB-THREAD::CALL-WITH-MUTEX #<CLOSURE (FLET SB-THREAD::WITH-MUTEX-THUNK :IN SB-THREAD::NEW-LISP-THREAD-TRAMPOLINE) {7FD6C49EED7B}> #<MUTEX \"thread result lock\" owner: #<SB-THREAD:THREAD \"SHELL Thread\" RUNNING {100C3EFB73}>> NIL T NIL)",
      "13: (SB-THREAD::NEW-LISP-THREAD-TRAMPOLINE #<THREAD \"SHELL Thread\" RUNNING {100C3EFB73}> NIL #<CLOSURE (LABELS BORDEAUX-THREADS::%BINDING-DEFAULT-SPECIALS-WRAPPER :IN BORDEAUX-THREADS::BINDING-DEFAULT-SPECIALS) {100C3EFB1B}> NIL)",
      "14: (\"foreign function: call_into_lisp\")",
      "15: (\"foreign function: new_thread_trampoline\")"
     ]
    },
    {
     "name": "stdout",
     "output_type": "stream",
     "text": [
      "SB-INT:SIMPLE-STYLE-WARNING: The third argument of type (INTEGER 3 3) cannot be used as a keyword.\n"
     ]
    }
   ],
   "source": [
    "(specific-optional 1 2 3 4)"
   ]
  },
  {
   "cell_type": "code",
   "execution_count": 97,
   "id": "f68cdb81-283e-4914-945e-abbbe636ec9d",
   "metadata": {},
   "outputs": [
    {
     "data": {
      "text/plain": [
       "(1 2 NIL 4)"
      ]
     },
     "execution_count": 97,
     "metadata": {},
     "output_type": "execute_result"
    }
   ],
   "source": [
    "(specific-optional 1 2 :arg-4 4)"
   ]
  },
  {
   "cell_type": "code",
   "execution_count": 98,
   "id": "b9c137e7-1e34-4105-a60c-caeb74a5eec2",
   "metadata": {},
   "outputs": [
    {
     "data": {
      "text/plain": [
       "UNLIMITED-ARGS"
      ]
     },
     "execution_count": 98,
     "metadata": {},
     "output_type": "execute_result"
    }
   ],
   "source": [
    ";; Unlimited Number of Arguments\n",
    "(defun unlimited-args (arg-1 &rest args)\n",
    "    (format t \"Type of args is ~a.~%\" (type-of args))\n",
    "    (cons arg-1 args))"
   ]
  },
  {
   "cell_type": "code",
   "execution_count": 99,
   "id": "3cade3d2-3095-4d58-bf46-0a387c2216f0",
   "metadata": {},
   "outputs": [
    {
     "data": {
      "text/plain": [
       "(1 2 3 4)"
      ]
     },
     "execution_count": 99,
     "metadata": {},
     "output_type": "execute_result"
    },
    {
     "name": "stdout",
     "output_type": "stream",
     "text": [
      "Type of args is CONS.\n"
     ]
    }
   ],
   "source": [
    "(unlimited-args 1 2 3 4)"
   ]
  },
  {
   "cell_type": "code",
   "execution_count": 100,
   "id": "aea80732-c767-46fe-9a10-c62770baa33e",
   "metadata": {},
   "outputs": [
    {
     "data": {
      "text/plain": [
       "(1)"
      ]
     },
     "execution_count": 100,
     "metadata": {},
     "output_type": "execute_result"
    },
    {
     "name": "stdout",
     "output_type": "stream",
     "text": [
      "Type of args is NULL.\n"
     ]
    }
   ],
   "source": [
    "(unlimited-args 1)"
   ]
  },
  {
   "cell_type": "markdown",
   "id": "14ebc069-78b2-4442-bcf6-05b05dbbd15c",
   "metadata": {},
   "source": [
    "## Multiple Values"
   ]
  },
  {
   "cell_type": "code",
   "execution_count": 101,
   "id": "8bf9bf63-0449-4394-9fba-49feb093cda0",
   "metadata": {},
   "outputs": [
    {
     "data": {
      "text/plain": [
       "*SOME-LIST*"
      ]
     },
     "execution_count": 101,
     "metadata": {},
     "output_type": "execute_result"
    }
   ],
   "source": [
    "(defvar *some-list* (list 1 2 3))"
   ]
  },
  {
   "cell_type": "code",
   "execution_count": 102,
   "id": "fb4bf8be-a69d-403e-a7b1-8fda2c0bedf5",
   "metadata": {},
   "outputs": [
    {
     "data": {
      "text/plain": [
       "(1 2 3)"
      ]
     },
     "execution_count": 102,
     "metadata": {},
     "output_type": "execute_result"
    }
   ],
   "source": [
    "*some-list*"
   ]
  },
  {
   "cell_type": "code",
   "execution_count": 103,
   "id": "939d3a61-2697-4d5e-9ed9-57c755709125",
   "metadata": {},
   "outputs": [
    {
     "data": {
      "text/plain": [
       "*VALUES?*"
      ]
     },
     "execution_count": 103,
     "metadata": {},
     "output_type": "execute_result"
    }
   ],
   "source": [
    "(defvar *values?* (values 1 2 3))"
   ]
  },
  {
   "cell_type": "code",
   "execution_count": 104,
   "id": "b728e060-7a63-4290-acc2-4fcdcde182ad",
   "metadata": {},
   "outputs": [
    {
     "data": {
      "text/plain": [
       "1"
      ]
     },
     "execution_count": 104,
     "metadata": {},
     "output_type": "execute_result"
    }
   ],
   "source": [
    "*values?*"
   ]
  },
  {
   "cell_type": "code",
   "execution_count": 105,
   "id": "b41810bf-cbcf-40ff-9118-265730219bbe",
   "metadata": {},
   "outputs": [
    {
     "data": {
      "text/plain": [
       "1"
      ]
     },
     "execution_count": 105,
     "metadata": {},
     "output_type": "execute_result"
    },
    {
     "data": {
      "text/plain": [
       "2"
      ]
     },
     "execution_count": 105,
     "metadata": {},
     "output_type": "execute_result"
    },
    {
     "data": {
      "text/plain": [
       "3"
      ]
     },
     "execution_count": 105,
     "metadata": {},
     "output_type": "execute_result"
    }
   ],
   "source": [
    "(values 1 2 3)"
   ]
  },
  {
   "cell_type": "code",
   "execution_count": 106,
   "id": "e192a084-3323-4ffa-ae80-e2a4065263f5",
   "metadata": {},
   "outputs": [
    {
     "data": {
      "text/plain": [
       "1"
      ]
     },
     "execution_count": 106,
     "metadata": {},
     "output_type": "execute_result"
    }
   ],
   "source": [
    "*"
   ]
  },
  {
   "cell_type": "code",
   "execution_count": 107,
   "id": "5c4259c8-91ae-4d59-b61e-ea104369fcc0",
   "metadata": {},
   "outputs": [
    {
     "data": {
      "text/plain": [
       "(1 2 3)"
      ]
     },
     "execution_count": 107,
     "metadata": {},
     "output_type": "execute_result"
    }
   ],
   "source": [
    "//"
   ]
  },
  {
   "cell_type": "code",
   "execution_count": 108,
   "id": "4d548554-9de1-4cf7-b87e-48a3d168714f",
   "metadata": {},
   "outputs": [
    {
     "data": {
      "text/plain": [
       "*DB*"
      ]
     },
     "execution_count": 108,
     "metadata": {},
     "output_type": "execute_result"
    },
    {
     "data": {
      "text/plain": [
       "NAME-AND-BIRTH-YEAR"
      ]
     },
     "execution_count": 108,
     "metadata": {},
     "output_type": "execute_result"
    }
   ],
   "source": [
    ";; Returning Multiple Values!\n",
    "(defvar *db* '((Anna 1987) (Bob 1899) (Charlie 1980)))\n",
    "(defun name-and-birth-year (id)\n",
    "    (values (first (nth (- id 1) *db*))\n",
    "            (second (nth (- id 1) *db*))))"
   ]
  },
  {
   "cell_type": "code",
   "execution_count": 109,
   "id": "c5865c13-2761-4f7d-9957-daa753e4d86d",
   "metadata": {},
   "outputs": [
    {
     "data": {
      "text/plain": [
       "BOB"
      ]
     },
     "execution_count": 109,
     "metadata": {},
     "output_type": "execute_result"
    },
    {
     "data": {
      "text/plain": [
       "1899"
      ]
     },
     "execution_count": 109,
     "metadata": {},
     "output_type": "execute_result"
    }
   ],
   "source": [
    "(name-and-birth-year 2)"
   ]
  },
  {
   "cell_type": "code",
   "execution_count": 110,
   "id": "e18891da-aad9-4f84-82ce-f45ffac574d0",
   "metadata": {},
   "outputs": [
    {
     "data": {
      "text/plain": [
       "NIL"
      ]
     },
     "execution_count": 110,
     "metadata": {},
     "output_type": "execute_result"
    },
    {
     "name": "stdout",
     "output_type": "stream",
     "text": [
      "BOB was born in 1899.\n"
     ]
    }
   ],
   "source": [
    "(multiple-value-bind (name year) (name-and-birth-year 2)\n",
    "    (format t \"~a was born in ~a.~%\" name year))"
   ]
  },
  {
   "cell_type": "markdown",
   "id": "52db829d-68af-4f3d-95b1-50aee53d1035",
   "metadata": {},
   "source": [
    "## Function Designators\n",
    "**Similar to C pointers or Java references**"
   ]
  },
  {
   "cell_type": "code",
   "execution_count": 111,
   "id": "0ca72baf-a6b5-43d8-bb2c-634f4a60acb4",
   "metadata": {},
   "outputs": [
    {
     "name": "stdout",
     "output_type": "stream",
     "text": [
      "COMMON-LISP:+\n",
      "  [symbol]\n",
      "\n",
      "+ names a special variable:\n",
      "  Declared type: T\n",
      "  Declared always-bound.\n",
      "  Value: (MULTIPLE-VALUE-BIND (NAME YEAR)\n",
      "             (NAME-AND-BIRTH-YEAR 2)\n",
      "           (FORMAT T \"~a was born in ~a.~%\" NAME YEAR))\n",
      "  Documentation:\n",
      "    the value of the most recent top level READ\n",
      "\n",
      "+ names a compiled function:\n",
      "  Lambda-list: (&REST SB-KERNEL::NUMBERS)\n",
      "  Declared type: (FUNCTION (&REST NUMBER) (VALUES NUMBER &OPTIONAL))\n",
      "  Derived type: (FUNCTION (&REST T) (VALUES NUMBER &OPTIONAL))\n",
      "  Documentation:\n",
      "    Return the sum of its arguments. With no args, returns 0.\n",
      "  Known attributes: foldable, flushable, unsafely-flushable, movable, commutative\n",
      "  Source file: SYS:SRC;CODE;NUMBERS.LISP\n"
     ]
    }
   ],
   "source": [
    ";; Designator of a function\n",
    "(describe '+)"
   ]
  },
  {
   "cell_type": "code",
   "execution_count": 112,
   "id": "db9d14ca-cd1e-4397-8a92-a562ce44110f",
   "metadata": {},
   "outputs": [
    {
     "data": {
      "text/plain": [
       "#<FUNCTION +>"
      ]
     },
     "execution_count": 112,
     "metadata": {},
     "output_type": "execute_result"
    }
   ],
   "source": [
    "#'+"
   ]
  },
  {
   "cell_type": "code",
   "execution_count": 113,
   "id": "4590952d-dd69-44e1-8198-02d18414eb09",
   "metadata": {},
   "outputs": [
    {
     "data": {
      "text/plain": [
       "#<FUNCTION +>"
      ]
     },
     "execution_count": 113,
     "metadata": {},
     "output_type": "execute_result"
    }
   ],
   "source": [
    "(symbol-function '+)"
   ]
  },
  {
   "cell_type": "code",
   "execution_count": 114,
   "id": "ee803fd0-e428-4f9d-befa-5d04552b3dd4",
   "metadata": {},
   "outputs": [
    {
     "name": "stdout",
     "output_type": "stream",
     "text": [
      "#<FUNCTION +>\n",
      "  [compiled function]\n",
      "\n",
      "\n",
      "Lambda-list: (&REST SB-KERNEL::NUMBERS)\n",
      "Declared type: (FUNCTION (&REST NUMBER) (VALUES NUMBER &OPTIONAL))\n",
      "Derived type: (FUNCTION (&REST T) (VALUES NUMBER &OPTIONAL))\n",
      "Documentation:\n",
      "  Return the sum of its arguments. With no args, returns 0.\n",
      "Known attributes: foldable, flushable, unsafely-flushable, movable, commutative\n",
      "Source file: SYS:SRC;CODE;NUMBERS.LISP\n"
     ]
    }
   ],
   "source": [
    "(describe #'+)"
   ]
  },
  {
   "cell_type": "markdown",
   "id": "41d0e3ac-c518-4804-ab79-1b7c628428b0",
   "metadata": {},
   "source": [
    "## Higher-order Functions"
   ]
  },
  {
   "cell_type": "code",
   "execution_count": 115,
   "id": "9a9acaac-6dd6-4648-912b-0c91273ba4cd",
   "metadata": {},
   "outputs": [
    {
     "data": {
      "text/plain": [
       "6"
      ]
     },
     "execution_count": 115,
     "metadata": {},
     "output_type": "execute_result"
    }
   ],
   "source": [
    ";; Functions as argument\n",
    "(funcall #'+ 1 2 3)"
   ]
  },
  {
   "cell_type": "code",
   "execution_count": 116,
   "id": "8f4ccc6a-66cf-4ea7-b852-a7e0686cef11",
   "metadata": {},
   "outputs": [
    {
     "data": {
      "text/plain": [
       "6"
      ]
     },
     "execution_count": 116,
     "metadata": {},
     "output_type": "execute_result"
    }
   ],
   "source": [
    "(apply #'+ '(1 2 3))"
   ]
  },
  {
   "cell_type": "code",
   "execution_count": 117,
   "id": "efdf12fd-b4eb-461e-b7e8-1c1dcbb16b36",
   "metadata": {},
   "outputs": [
    {
     "data": {
      "text/plain": [
       "TRANSFORM-1"
      ]
     },
     "execution_count": 117,
     "metadata": {},
     "output_type": "execute_result"
    },
    {
     "name": "stdout",
     "output_type": "stream",
     "text": [
      "SB-KERNEL:REDEFINITION-WITH-DEFUN: redefining COMMON-LISP-USER::TRANSFORM-1 in DEFUN\n"
     ]
    }
   ],
   "source": [
    "(defun transform-1 (num) (/ 1.0 num))"
   ]
  },
  {
   "cell_type": "code",
   "execution_count": 118,
   "id": "3b19accf-c24d-48dc-a60b-78d533d1d330",
   "metadata": {},
   "outputs": [
    {
     "data": {
      "text/plain": [
       "TRANSFORM-2"
      ]
     },
     "execution_count": 118,
     "metadata": {},
     "output_type": "execute_result"
    },
    {
     "name": "stdout",
     "output_type": "stream",
     "text": [
      "SB-KERNEL:REDEFINITION-WITH-DEFUN: redefining COMMON-LISP-USER::TRANSFORM-2 in DEFUN\n"
     ]
    }
   ],
   "source": [
    "(defun transform-2 (num) (sqrt num))"
   ]
  },
  {
   "cell_type": "code",
   "execution_count": 119,
   "id": "033b6fe0-2488-41fc-8c84-4728a7839592",
   "metadata": {},
   "outputs": [
    {
     "data": {
      "text/plain": [
       "PRINT-TRANSFORMED"
      ]
     },
     "execution_count": 119,
     "metadata": {},
     "output_type": "execute_result"
    },
    {
     "name": "stdout",
     "output_type": "stream",
     "text": [
      "SB-KERNEL:REDEFINITION-WITH-DEFUN: redefining COMMON-LISP-USER::PRINT-TRANSFORMED in DEFUN\n"
     ]
    }
   ],
   "source": [
    "(defun print-transformed (a-number a-function)\n",
    "    (format t \"~a transformed with ~a becomes ~a.~%\"\n",
    "            a-number a-function (funcall a-function a-number)))"
   ]
  },
  {
   "cell_type": "code",
   "execution_count": 120,
   "id": "63f10397-2f9f-4d44-b597-7325fe29e7cf",
   "metadata": {},
   "outputs": [
    {
     "data": {
      "text/plain": [
       "NIL"
      ]
     },
     "execution_count": 120,
     "metadata": {},
     "output_type": "execute_result"
    },
    {
     "name": "stdout",
     "output_type": "stream",
     "text": [
      "4 transformed with #<FUNCTION TRANSFORM-1> becomes 0.25.\n"
     ]
    }
   ],
   "source": [
    "(print-transformed 4 #'transform-1)"
   ]
  },
  {
   "cell_type": "code",
   "execution_count": 121,
   "id": "5f4a2dbd-3666-4703-9e9e-9ab419c42d56",
   "metadata": {},
   "outputs": [
    {
     "data": {
      "text/plain": [
       "NIL"
      ]
     },
     "execution_count": 121,
     "metadata": {},
     "output_type": "execute_result"
    },
    {
     "name": "stdout",
     "output_type": "stream",
     "text": [
      "4 transformed with #<FUNCTION TRANSFORM-2> becomes 2.0.\n"
     ]
    }
   ],
   "source": [
    "(print-transformed 4 #'transform-2)"
   ]
  },
  {
   "cell_type": "code",
   "execution_count": 122,
   "id": "5e3f8fde-3ce1-4fd7-9881-363d7ee5809f",
   "metadata": {},
   "outputs": [
    {
     "data": {
      "text/plain": [
       "(7 6 5 3 2 1)"
      ]
     },
     "execution_count": 122,
     "metadata": {},
     "output_type": "execute_result"
    },
    {
     "name": "stdout",
     "output_type": "stream",
     "text": [
      "SB-INT:CONSTANT-MODIFIED: Destructive function SORT called on constant data: (2\n",
      "                                                                              6\n",
      "                                                                              3\n",
      "                                                                              7\n",
      "                                                                              1\n",
      "                                                                              5)\n",
      "See also:\n",
      "  The ANSI Standard, Special Operator QUOTE\n",
      "  The ANSI Standard, Section 3.2.2.3\n"
     ]
    }
   ],
   "source": [
    "(sort '(2 6 3 7 1 5) #'>)"
   ]
  },
  {
   "cell_type": "code",
   "execution_count": 123,
   "id": "b9d1e6ff-0ff7-4b67-be27-cb3d69997794",
   "metadata": {},
   "outputs": [
    {
     "data": {
      "text/plain": [
       "GIVE-ME-SOME-FUNCTION"
      ]
     },
     "execution_count": 123,
     "metadata": {},
     "output_type": "execute_result"
    },
    {
     "name": "stdout",
     "output_type": "stream",
     "text": [
      "SB-KERNEL:REDEFINITION-WITH-DEFUN: redefining COMMON-LISP-USER::GIVE-ME-SOME-FUNCTION in DEFUN\n"
     ]
    }
   ],
   "source": [
    ";; Function as return value\n",
    "(defun give-me-some-function ()\n",
    "    (case (random 5)\n",
    "        (0 #'+)\n",
    "        (1 #'-)\n",
    "        (2 #'*)\n",
    "        (3 #'/)\n",
    "        (4 #'values)))"
   ]
  },
  {
   "cell_type": "code",
   "execution_count": 124,
   "id": "efc2c297-9cb9-4075-96da-ed9d65b6e4db",
   "metadata": {},
   "outputs": [
    {
     "data": {
      "text/plain": [
       "#<FUNCTION *>"
      ]
     },
     "execution_count": 124,
     "metadata": {},
     "output_type": "execute_result"
    }
   ],
   "source": [
    "(give-me-some-function)"
   ]
  },
  {
   "cell_type": "code",
   "execution_count": 125,
   "id": "88d85bfe-eb97-4276-8d5c-05ffc8014f7f",
   "metadata": {},
   "outputs": [
    {
     "data": {
      "text/plain": [
       "10"
      ]
     },
     "execution_count": 125,
     "metadata": {},
     "output_type": "execute_result"
    },
    {
     "data": {
      "text/plain": [
       "5"
      ]
     },
     "execution_count": 125,
     "metadata": {},
     "output_type": "execute_result"
    }
   ],
   "source": [
    "(funcall (give-me-some-function) 10 5)"
   ]
  },
  {
   "cell_type": "markdown",
   "id": "a269f7da-58fa-483c-b2a9-30abd3c4c463",
   "metadata": {},
   "source": [
    "## Anonymous Functions"
   ]
  },
  {
   "cell_type": "code",
   "execution_count": 126,
   "id": "d65010c4-5e27-446d-be16-778b8b7018de",
   "metadata": {},
   "outputs": [
    {
     "name": "stderr",
     "output_type": "stream",
     "text": [
      "TYPE-ERROR: The value\n",
      "  (3 4)\n",
      "is not of type\n",
      "  REAL\n",
      "when binding SB-KERNEL::N1\n",
      "\n"
     ]
    },
    {
     "ename": "TYPE-ERROR",
     "evalue": "The value\n  (3 4)\nis not of type\n  REAL\nwhen binding SB-KERNEL::N1",
     "output_type": "error",
     "traceback": [
      "0: (> (3 4) (1 2 3 4))",
      "1: ((LABELS SB-IMPL::RECUR :IN SB-IMPL::STABLE-SORT-LIST) ((1 2 3 4) (3 4) (6 3 6)) #<unavailable argument>)",
      "2: (SB-IMPL::STABLE-SORT-LIST ((1 2 3 4) (3 4) (6 3 6)) #<FUNCTION >> #<FUNCTION IDENTITY>)",
      "3: (JUPYTER/COMMON-LISP::EVAL-AND-PRINT (SORT (QUOTE ((1 2 3 4) (3 4) (6 3 6))) (FUNCTION >)) 0 NIL)",
      "4: ((:METHOD JUPYTER:EVALUATE-FORM (JUPYTER/COMMON-LISP:KERNEL T T T)) #<unused argument> #<FORM-TRACKING-STREAM for \"file /tmp/D7A79A4E7B7E47E22DFC8A8FE42C90D4-3464953720.lisp\" {1002D2BD03}> CELL:3464953720.LISP.NEWEST NIL #<unused argument> #<unused argument>)",
      "5: (JUPYTER/COMMON-LISP::REPL ;; Lambda\n(sort '((1 2 3 4) (3 4) (6 3 6)) #'>)  ;; errors CELL:3464953720.LISP.NEWEST NIL)",
      "6: ((:METHOD JUPYTER:EVALUATE-CODE (JUPYTER/COMMON-LISP:KERNEL T)) #<unused argument> ;; Lambda\n(sort '((1 2 3 4) (3 4) (6 3 6)) #'>)  ;; errors CELL:3464953720.LISP.NEWEST NIL)",
      "7: (JUPYTER::HANDLE-EXECUTE-REQUEST)",
      "8: (JUPYTER::RUN-SHELL #<KERNEL {100AF9E1A3}>)",
      "9: ((LABELS BORDEAUX-THREADS::%BINDING-DEFAULT-SPECIALS-WRAPPER :IN BORDEAUX-THREADS::BINDING-DEFAULT-SPECIALS))",
      "10: ((FLET SB-UNIX::BODY :IN SB-THREAD::NEW-LISP-THREAD-TRAMPOLINE))",
      "11: ((FLET \"WITHOUT-INTERRUPTS-BODY-4\" :IN SB-THREAD::NEW-LISP-THREAD-TRAMPOLINE))",
      "12: ((FLET SB-THREAD::WITH-MUTEX-THUNK :IN SB-THREAD::NEW-LISP-THREAD-TRAMPOLINE))",
      "13: ((FLET \"WITHOUT-INTERRUPTS-BODY-1\" :IN SB-THREAD::CALL-WITH-MUTEX))",
      "14: (SB-THREAD::CALL-WITH-MUTEX #<CLOSURE (FLET SB-THREAD::WITH-MUTEX-THUNK :IN SB-THREAD::NEW-LISP-THREAD-TRAMPOLINE) {7FD6C49EED7B}> #<MUTEX \"thread result lock\" owner: #<SB-THREAD:THREAD \"SHELL Thread\" RUNNING {100C3EFB73}>> NIL T NIL)",
      "15: (SB-THREAD::NEW-LISP-THREAD-TRAMPOLINE #<THREAD \"SHELL Thread\" RUNNING {100C3EFB73}> NIL #<CLOSURE (LABELS BORDEAUX-THREADS::%BINDING-DEFAULT-SPECIALS-WRAPPER :IN BORDEAUX-THREADS::BINDING-DEFAULT-SPECIALS) {100C3EFB1B}> NIL)",
      "16: (\"foreign function: call_into_lisp\")",
      "17: (\"foreign function: new_thread_trampoline\")"
     ]
    },
    {
     "name": "stdout",
     "output_type": "stream",
     "text": [
      "SB-INT:CONSTANT-MODIFIED: Destructive function SORT called on constant data: ((1\n",
      "                                                                               2\n",
      "                                                                               3\n",
      "                                                                               4)\n",
      "                                                                              (3\n",
      "                                                                               4)\n",
      "                                                                              (6\n",
      "                                                                               3\n",
      "                                                                               6))\n",
      "See also:\n",
      "  The ANSI Standard, Special Operator QUOTE\n",
      "  The ANSI Standard, Section 3.2.2.3\n"
     ]
    }
   ],
   "source": [
    ";; Lambda\n",
    "(sort '((1 2 3 4) (3 4) (6 3 6)) #'>)"
   ]
  },
  {
   "cell_type": "code",
   "execution_count": 127,
   "id": "2bfdb819-164e-433b-9a26-a316cd99853b",
   "metadata": {},
   "outputs": [
    {
     "data": {
      "text/plain": [
       "((6 3 6) (3 4) (1 2 3 4))"
      ]
     },
     "execution_count": 127,
     "metadata": {},
     "output_type": "execute_result"
    },
    {
     "name": "stdout",
     "output_type": "stream",
     "text": [
      "SB-INT:CONSTANT-MODIFIED: Destructive function SORT called on constant data: ((1\n",
      "                                                                               2\n",
      "                                                                               3\n",
      "                                                                               4)\n",
      "                                                                              (3\n",
      "                                                                               4)\n",
      "                                                                              (6\n",
      "                                                                               3\n",
      "                                                                               6))\n",
      "See also:\n",
      "  The ANSI Standard, Special Operator QUOTE\n",
      "  The ANSI Standard, Section 3.2.2.3\n"
     ]
    }
   ],
   "source": [
    "(sort '((1 2 3 4) (3 4) (6 3 6)) #'> :key #'car)"
   ]
  },
  {
   "cell_type": "code",
   "execution_count": 128,
   "id": "f3f81994-9073-44d5-942e-4e5df7004284",
   "metadata": {},
   "outputs": [
    {
     "data": {
      "text/plain": [
       "((1 2 3 4) (6 3 6) (3 4))"
      ]
     },
     "execution_count": 128,
     "metadata": {},
     "output_type": "execute_result"
    },
    {
     "name": "stdout",
     "output_type": "stream",
     "text": [
      "SB-INT:CONSTANT-MODIFIED: Destructive function SORT called on constant data: ((1\n",
      "                                                                               2\n",
      "                                                                               3\n",
      "                                                                               4)\n",
      "                                                                              (3\n",
      "                                                                               4)\n",
      "                                                                              (6\n",
      "                                                                               3\n",
      "                                                                               6))\n",
      "See also:\n",
      "  The ANSI Standard, Special Operator QUOTE\n",
      "  The ANSI Standard, Section 3.2.2.3\n"
     ]
    }
   ],
   "source": [
    "(sort '((1 2 3 4) (3 4) (6 3 6))\n",
    "      (lambda (x y)\n",
    "              (> (length x) (length y))))"
   ]
  },
  {
   "cell_type": "code",
   "execution_count": 129,
   "id": "8636bfa2-65d8-4c8c-b363-2167ae6f51a7",
   "metadata": {},
   "outputs": [
    {
     "data": {
      "text/plain": [
       "RANDOM-GENERATOR-A-TO-B"
      ]
     },
     "execution_count": 129,
     "metadata": {},
     "output_type": "execute_result"
    },
    {
     "name": "stdout",
     "output_type": "stream",
     "text": [
      "SB-KERNEL:REDEFINITION-WITH-DEFUN: redefining COMMON-LISP-USER::RANDOM-GENERATOR-A-TO-B in DEFUN\n"
     ]
    }
   ],
   "source": [
    "(defun random-generator-a-to-b (a b)\n",
    "    (lambda () (+ (random (- b a)) a)))"
   ]
  },
  {
   "cell_type": "code",
   "execution_count": 130,
   "id": "a9e8cf16-68d0-4bbc-8134-d177a36c7d1d",
   "metadata": {},
   "outputs": [
    {
     "data": {
      "text/plain": [
       "#<CLOSURE (LAMBDA () :IN RANDOM-GENERATOR-A-TO-B) {1002EF93EB}>"
      ]
     },
     "execution_count": 130,
     "metadata": {},
     "output_type": "execute_result"
    }
   ],
   "source": [
    "(random-generator-a-to-b 5 10)"
   ]
  },
  {
   "cell_type": "code",
   "execution_count": 142,
   "id": "c75d4f18-44fd-4485-b7b2-359a25dfbc88",
   "metadata": {},
   "outputs": [
    {
     "data": {
      "text/plain": [
       "6"
      ]
     },
     "execution_count": 142,
     "metadata": {},
     "output_type": "execute_result"
    }
   ],
   "source": [
    "(funcall (random-generator-a-to-b 5 10))"
   ]
  },
  {
   "cell_type": "markdown",
   "id": "61135165-c996-4600-bf78-53f547379e76",
   "metadata": {},
   "source": [
    "## Currying"
   ]
  },
  {
   "cell_type": "code",
   "execution_count": 143,
   "id": "86038613-7737-4501-b990-f2564c3221de",
   "metadata": {},
   "outputs": [
    {
     "data": {
      "text/plain": [
       "NIL"
      ]
     },
     "execution_count": 143,
     "metadata": {},
     "output_type": "execute_result"
    },
    {
     "name": "stdout",
     "output_type": "stream",
     "text": [
      "2^10 = 1024\n",
      "3^10 = 59049\n"
     ]
    }
   ],
   "source": [
    ";; Back to Generators\n",
    "(let ((x^10-lambda (lambda (x) (expt x 10))))\n",
    "     (dolist (elem '(2 3))\n",
    "         (format t \"~a^10 = ~a~%\" elem (funcall x^10-lambda elem))))"
   ]
  },
  {
   "cell_type": "code",
   "execution_count": 144,
   "id": "3b9cdd2d-7777-4741-b3cf-06885bed4038",
   "metadata": {},
   "outputs": [
    {
     "data": {
      "text/plain": [
       "T"
      ]
     },
     "execution_count": 144,
     "metadata": {},
     "output_type": "execute_result"
    }
   ],
   "source": [
    "(asdf:load-system :alexandria)"
   ]
  },
  {
   "cell_type": "code",
   "execution_count": 145,
   "id": "367c38c2-a6b0-42bb-a2e3-98b95d3dc166",
   "metadata": {},
   "outputs": [
    {
     "data": {
      "text/plain": [
       "NIL"
      ]
     },
     "execution_count": 145,
     "metadata": {},
     "output_type": "execute_result"
    },
    {
     "name": "stdout",
     "output_type": "stream",
     "text": [
      "10^2 = 100\n",
      "10^3 = 1000\n"
     ]
    }
   ],
   "source": [
    "(dolist (elem '(2 3))\n",
    "    (format t \"10^~a = ~a~%\"\n",
    "            elem (funcall (alexandria:curry #'expt 10) elem)))"
   ]
  },
  {
   "cell_type": "code",
   "execution_count": 147,
   "id": "0d08da49-1415-4235-95e5-f91a6fd0099c",
   "metadata": {},
   "outputs": [
    {
     "data": {
      "text/plain": [
       "NIL"
      ]
     },
     "execution_count": 147,
     "metadata": {},
     "output_type": "execute_result"
    },
    {
     "name": "stdout",
     "output_type": "stream",
     "text": [
      "2^10 = 1024\n",
      "3^10 = 59049\n"
     ]
    }
   ],
   "source": [
    "(dolist (elem '(2 3))\n",
    "    (format t \"~a^10 = ~a~%\"\n",
    "            elem (funcall (alexandria:rcurry #'expt 10) elem)))\n"
   ]
  },
  {
   "cell_type": "markdown",
   "id": "2e3a2d08-a528-490d-aa7b-673751a29e49",
   "metadata": {},
   "source": [
    "## Mapping\n",
    "\n",
    "Mapping in functional programming is the process of\n",
    "**applying a function to all members of a list, returning a list of results.**\n",
    "\n",
    "Supported in most functional programming languages and, in addition\n",
    "* C++ (STL)\n",
    "* Java 8+\n",
    "* Python 1.0+\n",
    "* C# 3.0+\n",
    "* JavaScript 1.6+\n",
    "* PHP 4.0+\n",
    "* Ruby\n",
    "* Mathematica\n",
    "* Matlab\n",
    "* Perl\n",
    "* Prolog\n",
    "* Smalltalk\n",
    "\n",
    "In some of the languages listed the implementation is limited and not elegant."
   ]
  },
  {
   "cell_type": "markdown",
   "id": "2d989d35-5c8f-491f-b88a-9d923a28ea56",
   "metadata": {},
   "source": [
    "### mapcar\n",
    "`mapcar` is the standard mapping function in Common Lisp\n",
    "\n",
    "**mapcar** *function* *list-1* `&rest` *more-lists* -> *result-list*\n",
    "\n",
    "Apply *function* to elements of *list-1*. Return list of *function* return values.\n"
   ]
  },
  {
   "cell_type": "code",
   "execution_count": 148,
   "id": "1da52d97-9ab0-4248-af2f-6de9172e9fa7",
   "metadata": {},
   "outputs": [
    {
     "data": {
      "text/plain": [
       "(2 6 24 4.6 0.2d0 1/5)"
      ]
     },
     "execution_count": 148,
     "metadata": {},
     "output_type": "execute_result"
    }
   ],
   "source": [
    ";; mapcar\n",
    "(mapcar #'abs '(-2 6 -24 4.6 -0.2d0 -1/5))"
   ]
  },
  {
   "cell_type": "code",
   "execution_count": 149,
   "id": "3f120dc9-530b-4648-ac6f-dff9ef31b988",
   "metadata": {},
   "outputs": [
    {
     "data": {
      "text/plain": [
       "((1) (2) (3) (4))"
      ]
     },
     "execution_count": 149,
     "metadata": {},
     "output_type": "execute_result"
    }
   ],
   "source": [
    "(mapcar #'list '(1 2 3 4))"
   ]
  },
  {
   "cell_type": "code",
   "execution_count": 150,
   "id": "70771505-7a7f-4114-b471-50dcb7225d77",
   "metadata": {},
   "outputs": [
    {
     "data": {
      "text/plain": [
       "(2 B 20/3)"
      ]
     },
     "execution_count": 150,
     "metadata": {},
     "output_type": "execute_result"
    }
   ],
   "source": [
    "(mapcar #'second '((1 2 3) (a b c) (10/3 20/3 30/3)))"
   ]
  },
  {
   "cell_type": "code",
   "execution_count": 151,
   "id": "cfec3d67-7a90-4c7a-a9b5-4afff5c09750",
   "metadata": {},
   "outputs": [
    {
     "data": {
      "text/plain": [
       "(11 22 33 44)"
      ]
     },
     "execution_count": 151,
     "metadata": {},
     "output_type": "execute_result"
    }
   ],
   "source": [
    "(mapcar #'+ '(1 2 3 4 5) '(10 20 30 40))"
   ]
  },
  {
   "cell_type": "code",
   "execution_count": 152,
   "id": "7c94fc7d-77ec-47dc-8f1d-6e17128d1d10",
   "metadata": {},
   "outputs": [
    {
     "data": {
      "text/plain": [
       "((A . 1) (B . 2) (C . 3))"
      ]
     },
     "execution_count": 152,
     "metadata": {},
     "output_type": "execute_result"
    }
   ],
   "source": [
    "(mapcar #'cons '(a b c) '(1 2 3))"
   ]
  },
  {
   "cell_type": "code",
   "execution_count": 153,
   "id": "c2a092bf-1fed-4bf3-b258-dbb9a96b8e51",
   "metadata": {},
   "outputs": [
    {
     "data": {
      "text/plain": [
       "(100 1000 10000)"
      ]
     },
     "execution_count": 153,
     "metadata": {},
     "output_type": "execute_result"
    }
   ],
   "source": [
    "(mapcar (lambda (x) (expt 10 x)) '(2 3 4))"
   ]
  },
  {
   "cell_type": "markdown",
   "id": "11dc48b1-3b99-4678-8bef-644ebcd0a79c",
   "metadata": {},
   "source": [
    "### mapc\n",
    "`mapc` is mostly used for functions with side effects.\n",
    "\n",
    "**mapc** *function* *list-1* `&rest` *more-lists* -> *list-1*"
   ]
  },
  {
   "cell_type": "code",
   "execution_count": 154,
   "id": "53e2250d-1109-4f00-899c-9cdb8145776f",
   "metadata": {},
   "outputs": [
    {
     "data": {
      "text/plain": [
       "(*A* *B* *C*)"
      ]
     },
     "execution_count": 154,
     "metadata": {},
     "output_type": "execute_result"
    }
   ],
   "source": [
    ";; mapc\n",
    "(mapc #'set '(*a* *b* *c*) '(1 2 3))"
   ]
  },
  {
   "cell_type": "code",
   "execution_count": 155,
   "id": "0d26ed21-a367-4f2d-9d3b-22572ddf4d01",
   "metadata": {},
   "outputs": [
    {
     "data": {
      "text/plain": [
       "3"
      ]
     },
     "execution_count": 155,
     "metadata": {},
     "output_type": "execute_result"
    },
    {
     "name": "stdout",
     "output_type": "stream",
     "text": [
      "SIMPLE-WARNING: undefined variable: COMMON-LISP-USER::*C*\n"
     ]
    }
   ],
   "source": [
    "*c*"
   ]
  },
  {
   "cell_type": "code",
   "execution_count": 156,
   "id": "945cd679-7b58-41ed-9be0-29bd26822f7c",
   "metadata": {},
   "outputs": [
    {
     "data": {
      "text/plain": [
       "(T T)"
      ]
     },
     "execution_count": 156,
     "metadata": {},
     "output_type": "execute_result"
    },
    {
     "name": "stdout",
     "output_type": "stream",
     "text": [
      "hello, world\n"
     ]
    }
   ],
   "source": [
    "(mapc #'format '(t t) '(\"hello, \" \"world~%\"))"
   ]
  },
  {
   "cell_type": "code",
   "execution_count": 157,
   "id": "c44f2101-8098-45e4-bbfb-408836e9420d",
   "metadata": {},
   "outputs": [
    {
     "data": {
      "text/plain": [
       "(\"hello, \" \"world~%\")"
      ]
     },
     "execution_count": 157,
     "metadata": {},
     "output_type": "execute_result"
    },
    {
     "name": "stdout",
     "output_type": "stream",
     "text": [
      "hello, world\n"
     ]
    }
   ],
   "source": [
    "(mapc (alexandria:curry #'format t) '(\"hello, \" \"world~%\"))"
   ]
  },
  {
   "cell_type": "code",
   "execution_count": 158,
   "id": "8173c3af-c92d-4019-8806-94d422e7a190",
   "metadata": {},
   "outputs": [
    {
     "data": {
      "text/plain": [
       "(1 2 3 4)"
      ]
     },
     "execution_count": 158,
     "metadata": {},
     "output_type": "execute_result"
    },
    {
     "name": "stdout",
     "output_type": "stream",
     "text": [
      "1 2 3 4 "
     ]
    }
   ],
   "source": [
    "(mapc (alexandria:curry #'format t \"~a \") '(1 2 3 4))"
   ]
  },
  {
   "cell_type": "code",
   "execution_count": 159,
   "id": "52b96982-3d97-4a98-9361-b849061f9831",
   "metadata": {},
   "outputs": [
    {
     "data": {
      "text/plain": [
       "(3 2 1)"
      ]
     },
     "execution_count": 159,
     "metadata": {},
     "output_type": "execute_result"
    }
   ],
   "source": [
    "(let (temp)\n",
    "     (mapc (lambda (x) (push x temp)) '(1 2 3))\n",
    "     temp)\n"
   ]
  },
  {
   "cell_type": "markdown",
   "id": "9a57b4fb-20ef-42d4-9658-2d321b1f83f1",
   "metadata": {},
   "source": [
    "### mapcan\n",
    "`mapcan` combines the results using `nconc` instead of `list`.\n",
    "\n",
    "**mapcan** *function* *list-1* `&rest` *more-lists* -> *concatenated-results*\n",
    "\n",
    "If the results are not lists, the consequences are undefined.\n"
   ]
  },
  {
   "cell_type": "code",
   "execution_count": 160,
   "id": "f0ed6693-6d54-4244-9469-e2f9b3ede506",
   "metadata": {},
   "outputs": [
    {
     "data": {
      "text/plain": [
       "((1 2) NIL (3 45) (4 8) NIL)"
      ]
     },
     "execution_count": 160,
     "metadata": {},
     "output_type": "execute_result"
    }
   ],
   "source": [
    ";; nconc vs list\n",
    "(list '(1 2) nil '(3 45) '(4 8) nil)"
   ]
  },
  {
   "cell_type": "code",
   "execution_count": 161,
   "id": "3c9c6ba9-7e05-4d6c-8b45-6fc3536b1c45",
   "metadata": {},
   "outputs": [
    {
     "data": {
      "text/plain": [
       "(1 2 3 45 4 8)"
      ]
     },
     "execution_count": 161,
     "metadata": {},
     "output_type": "execute_result"
    },
    {
     "name": "stdout",
     "output_type": "stream",
     "text": [
      "SB-INT:CONSTANT-MODIFIED: Destructive function NCONC called on constant data: (1\n",
      "                                                                                       2)\n",
      "See also:\n",
      "  The ANSI Standard, Special Operator QUOTE\n",
      "  The ANSI Standard, Section 3.2.2.3\n",
      "SB-INT:CONSTANT-MODIFIED: Destructive function NCONC called on constant data: (3\n",
      "                                                                               45)\n",
      "See also:\n",
      "  The ANSI Standard, Special Operator QUOTE\n",
      "  The ANSI Standard, Section 3.2.2.3\n",
      "SB-INT:CONSTANT-MODIFIED: Destructive function NCONC called on constant data: (4\n",
      "                                                                               8)\n",
      "See also:\n",
      "  The ANSI Standard, Special Operator QUOTE\n",
      "  The ANSI Standard, Section 3.2.2.3\n"
     ]
    }
   ],
   "source": [
    "(nconc '(1 2) nil '(3 45) '(4 8) nil)"
   ]
  },
  {
   "cell_type": "code",
   "execution_count": 162,
   "id": "4f36729d-a5b1-45c0-8185-80f4068037fb",
   "metadata": {},
   "outputs": [
    {
     "name": "stderr",
     "output_type": "stream",
     "text": [
      "TYPE-ERROR: The value\n",
      "  3\n",
      "is not of type\n",
      "  LIST\n",
      "\n"
     ]
    },
    {
     "ename": "TYPE-ERROR",
     "evalue": "The value\n  3\nis not of type\n  LIST",
     "output_type": "error",
     "traceback": [
      "0: ((FLET SB-IMPL::FAIL :IN NCONC) #<unavailable argument>)",
      "1: (NCONC #<unavailable &MORE argument>)",
      "2: (JUPYTER/COMMON-LISP::EVAL-AND-PRINT (NCONC (QUOTE (1 2)) NIL 3 (QUOTE (45)) (QUOTE (4 8)) NIL) 0 NIL)",
      "3: ((:METHOD JUPYTER:EVALUATE-FORM (JUPYTER/COMMON-LISP:KERNEL T T T)) #<unused argument> #<FORM-TRACKING-STREAM for \"file /tmp/D7A79A4E7B7E47E22DFC8A8FE42C90D4-374507289.lisp\" {100393FDF3}> CELL:374507289.LISP.NEWEST NIL #<unused argument> #<unused argument>)",
      "4: (JUPYTER/COMMON-LISP::REPL (nconc '(1 2) nil 3 '(45) '(4 8) nil) CELL:374507289.LISP.NEWEST NIL)",
      "5: ((:METHOD JUPYTER:EVALUATE-CODE (JUPYTER/COMMON-LISP:KERNEL T)) #<unused argument> (nconc '(1 2) nil 3 '(45) '(4 8) nil) CELL:374507289.LISP.NEWEST NIL)",
      "6: (JUPYTER::HANDLE-EXECUTE-REQUEST)",
      "7: (JUPYTER::RUN-SHELL #<KERNEL {100AF9E1A3}>)",
      "8: ((LABELS BORDEAUX-THREADS::%BINDING-DEFAULT-SPECIALS-WRAPPER :IN BORDEAUX-THREADS::BINDING-DEFAULT-SPECIALS))",
      "9: ((FLET SB-UNIX::BODY :IN SB-THREAD::NEW-LISP-THREAD-TRAMPOLINE))",
      "10: ((FLET \"WITHOUT-INTERRUPTS-BODY-4\" :IN SB-THREAD::NEW-LISP-THREAD-TRAMPOLINE))",
      "11: ((FLET SB-THREAD::WITH-MUTEX-THUNK :IN SB-THREAD::NEW-LISP-THREAD-TRAMPOLINE))",
      "12: ((FLET \"WITHOUT-INTERRUPTS-BODY-1\" :IN SB-THREAD::CALL-WITH-MUTEX))",
      "13: (SB-THREAD::CALL-WITH-MUTEX #<CLOSURE (FLET SB-THREAD::WITH-MUTEX-THUNK :IN SB-THREAD::NEW-LISP-THREAD-TRAMPOLINE) {7FD6C49EED7B}> #<MUTEX \"thread result lock\" owner: #<SB-THREAD:THREAD \"SHELL Thread\" RUNNING {100C3EFB73}>> NIL T NIL)",
      "14: (SB-THREAD::NEW-LISP-THREAD-TRAMPOLINE #<THREAD \"SHELL Thread\" RUNNING {100C3EFB73}> NIL #<CLOSURE (LABELS BORDEAUX-THREADS::%BINDING-DEFAULT-SPECIALS-WRAPPER :IN BORDEAUX-THREADS::BINDING-DEFAULT-SPECIALS) {100C3EFB1B}> NIL)",
      "15: (\"foreign function: call_into_lisp\")",
      "16: (\"foreign function: new_thread_trampoline\")"
     ]
    },
    {
     "name": "stdout",
     "output_type": "stream",
     "text": [
      "SB-INT:CONSTANT-MODIFIED: Destructive function NCONC called on constant data: (1\n",
      "                                                                               2)\n",
      "See also:\n",
      "  The ANSI Standard, Special Operator QUOTE\n",
      "  The ANSI Standard, Section 3.2.2.3\n",
      "SB-INT:CONSTANT-MODIFIED: Destructive function NCONC called on constant data: (45)\n",
      "See also:\n",
      "  The ANSI Standard, Special Operator QUOTE\n",
      "  The ANSI Standard, Section 3.2.2.3\n",
      "SB-INT:CONSTANT-MODIFIED: Destructive function NCONC called on constant data: (4\n",
      "                                                                               8)\n",
      "See also:\n",
      "  The ANSI Standard, Special Operator QUOTE\n",
      "  The ANSI Standard, Section 3.2.2.3\n"
     ]
    }
   ],
   "source": [
    "(nconc '(1 2) nil 3 '(45) '(4 8) nil)"
   ]
  },
  {
   "cell_type": "code",
   "execution_count": 163,
   "id": "9bc13e9b-9dcd-4e68-a38e-24f2e366e30f",
   "metadata": {},
   "outputs": [
    {
     "data": {
      "text/plain": [
       "(1 2 3 4 5)"
      ]
     },
     "execution_count": 163,
     "metadata": {},
     "output_type": "execute_result"
    },
    {
     "data": {
      "text/plain": [
       "(1 2 3 4 5)"
      ]
     },
     "execution_count": 163,
     "metadata": {},
     "output_type": "execute_result"
    },
    {
     "data": {
      "text/plain": [
       "(4 5)"
      ]
     },
     "execution_count": 163,
     "metadata": {},
     "output_type": "execute_result"
    }
   ],
   "source": [
    "(let ((first-list (list 1 2 3))\n",
    "      (second-list (list 4 5)))\n",
    "     (values (nconc first-list second-list)\n",
    "             first-list\n",
    "             second-list))"
   ]
  },
  {
   "cell_type": "code",
   "execution_count": 164,
   "id": "1a4b9148-db05-4d2a-adb7-0dfdd6cb397c",
   "metadata": {},
   "outputs": [
    {
     "data": {
      "text/plain": [
       "((1) (2) (3))"
      ]
     },
     "execution_count": 164,
     "metadata": {},
     "output_type": "execute_result"
    }
   ],
   "source": [
    ";; mapcan\n",
    "(mapcar #'list '(1 2 3))"
   ]
  },
  {
   "cell_type": "code",
   "execution_count": 165,
   "id": "8ee23ffa-a75a-411a-9740-0b72df0defc8",
   "metadata": {},
   "outputs": [
    {
     "data": {
      "text/plain": [
       "(1 2 3)"
      ]
     },
     "execution_count": 165,
     "metadata": {},
     "output_type": "execute_result"
    }
   ],
   "source": [
    "(mapcan #'list '(1 2 3))"
   ]
  },
  {
   "cell_type": "code",
   "execution_count": 166,
   "id": "45fb57f3-3741-4c5a-945b-ed2cb5172202",
   "metadata": {},
   "outputs": [
    {
     "data": {
      "text/plain": [
       "(0 1 2)"
      ]
     },
     "execution_count": 166,
     "metadata": {},
     "output_type": "execute_result"
    }
   ],
   "source": [
    "(alexandria:iota 3)"
   ]
  },
  {
   "cell_type": "code",
   "execution_count": 167,
   "id": "2f8f3e0d-46da-45e3-9949-8c14842362a6",
   "metadata": {},
   "outputs": [
    {
     "data": {
      "text/plain": [
       "(0 0 1 0 1 2)"
      ]
     },
     "execution_count": 167,
     "metadata": {},
     "output_type": "execute_result"
    }
   ],
   "source": [
    "(mapcan #'alexandria:iota '(1 2 3))"
   ]
  },
  {
   "cell_type": "code",
   "execution_count": 168,
   "id": "6fd8d4f8-eb80-45b2-969a-d504f7f1bf6c",
   "metadata": {},
   "outputs": [
    {
     "data": {
      "text/plain": [
       "(4 1/3)"
      ]
     },
     "execution_count": 168,
     "metadata": {},
     "output_type": "execute_result"
    }
   ],
   "source": [
    "(mapcan (lambda (x)\n",
    "                (when (numberp x)\n",
    "                    (list x)))\n",
    "        '(4 n 1/3 \":)\"))"
   ]
  },
  {
   "cell_type": "markdown",
   "id": "db0a1852-d9ab-4f99-92cd-fda6b7a9af10",
   "metadata": {},
   "source": [
    "### maplist, mapl, mapcon\n",
    "\n",
    "All operate on *sublists* of the input list.\n",
    "\n",
    "**maplist** *function* *list-1* `&rest` *more-lists* -> *result-list*\n"
   ]
  },
  {
   "cell_type": "code",
   "execution_count": 169,
   "id": "d8acb7a5-e877-49e7-8a2a-a70676ec2d24",
   "metadata": {},
   "outputs": [
    {
     "data": {
      "text/plain": [
       "(1 2 3)"
      ]
     },
     "execution_count": 169,
     "metadata": {},
     "output_type": "execute_result"
    }
   ],
   "source": [
    ";; maplist\n",
    "(mapcar #'identity '(1 2 3))"
   ]
  },
  {
   "cell_type": "code",
   "execution_count": 170,
   "id": "e00082b1-5306-4273-b047-d09ad63b544b",
   "metadata": {},
   "outputs": [
    {
     "data": {
      "text/plain": [
       "((1 2 3) (2 3) (3))"
      ]
     },
     "execution_count": 170,
     "metadata": {},
     "output_type": "execute_result"
    }
   ],
   "source": [
    "(maplist #'identity '(1 2 3))"
   ]
  },
  {
   "cell_type": "code",
   "execution_count": 171,
   "id": "7a3532d9-fd9d-41ba-b874-8a8c4fd8ed18",
   "metadata": {},
   "outputs": [
    {
     "data": {
      "text/plain": [
       "(0 1 0 0 -1 1 -1 1 -1 0 1 NIL)"
      ]
     },
     "execution_count": 171,
     "metadata": {},
     "output_type": "execute_result"
    }
   ],
   "source": [
    "(maplist (lambda (x)\n",
    "                 (when (>= (length x) 2)\n",
    "                     (- (second x) (first x))))\n",
    "         '(2 2 3 3 3 2 3 2 3 2 2 3))"
   ]
  },
  {
   "cell_type": "code",
   "execution_count": 172,
   "id": "e57a4e13-8a1d-41d6-b762-0dbac2b57470",
   "metadata": {},
   "outputs": [
    {
     "data": {
      "text/plain": [
       "(24 6 2 1)"
      ]
     },
     "execution_count": 172,
     "metadata": {},
     "output_type": "execute_result"
    }
   ],
   "source": [
    "(maplist (lambda (a-list) (apply #'* a-list)) \n",
    "         '(4 3 2 1))"
   ]
  },
  {
   "cell_type": "code",
   "execution_count": 179,
   "id": "6cafcf0e-4ecd-41d8-a291-005355e8d9c0",
   "metadata": {},
   "outputs": [
    {
     "data": {
      "text/plain": [
       "(1 2 3)"
      ]
     },
     "execution_count": 179,
     "metadata": {},
     "output_type": "execute_result"
    },
    {
     "name": "stdout",
     "output_type": "stream",
     "text": [
      "(1 2 3)\n",
      "(2 3)\n",
      "(3)\n"
     ]
    }
   ],
   "source": [
    "(mapl (alexandria:curry #'format t \"~a~%\") '(1 2 3))"
   ]
  },
  {
   "cell_type": "code",
   "execution_count": 173,
   "id": "3d97f83b-19d4-43d9-8e43-e59e278bd83d",
   "metadata": {},
   "outputs": [
    {
     "data": {
      "text/plain": [
       "((3) (2 3) (1 2 3))"
      ]
     },
     "execution_count": 173,
     "metadata": {},
     "output_type": "execute_result"
    }
   ],
   "source": [
    ";; mapl\n",
    "(let (temp)\n",
    "     (mapl (lambda (x) (push x temp)) '(1 2 3))\n",
    "     temp)"
   ]
  },
  {
   "cell_type": "code",
   "execution_count": 180,
   "id": "d5c6c10f-cdf4-4476-991e-b27eaae7565f",
   "metadata": {},
   "outputs": [
    {
     "data": {
      "text/plain": [
       "(1 2 3 4 1 2 3 1 2 1)"
      ]
     },
     "execution_count": 180,
     "metadata": {},
     "output_type": "execute_result"
    }
   ],
   "source": [
    ";; mapcon - like in concatenate\n",
    "(mapcon #'reverse '(4 3 2 1))"
   ]
  },
  {
   "cell_type": "code",
   "execution_count": 181,
   "id": "a7af76f9-1796-4108-983b-d2c042b9e289",
   "metadata": {},
   "outputs": [
    {
     "ename": "interrupt",
     "evalue": "Execution interrupted",
     "output_type": "error",
     "traceback": []
    }
   ],
   "source": [
    "(mapcon #'identity '(1 2 3 4))"
   ]
  },
  {
   "cell_type": "markdown",
   "id": "2951e9b7-7c6f-4474-886e-93940195839f",
   "metadata": {},
   "source": [
    "### map\n",
    "`map` is a generalization of `mapcar` for *sequences* (lists and vectors).\n",
    "\n",
    "**map** *result-type* *function* *first-sequence* `&rest` *more-sequences* -> *result*"
   ]
  },
  {
   "cell_type": "code",
   "execution_count": 183,
   "id": "67f7aff8-4104-4eb9-98e8-b398176318ce",
   "metadata": {},
   "outputs": [
    {
     "name": "stderr",
     "output_type": "stream",
     "text": [
      "TYPE-ERROR: The value\n",
      "  #(1 2 3)\n",
      "is not of type\n",
      "  LIST\n",
      "\n"
     ]
    },
    {
     "ename": "TYPE-ERROR",
     "evalue": "The value\n  #(1 2 3)\nis not of type\n  LIST",
     "output_type": "error",
     "traceback": [
      "0: ((LAMBDA NIL :IN \"/tmp/D7A79A4E7B7E47E22DFC8A8FE42C90D4-796269582.lisp\"))",
      "1: (JUPYTER/COMMON-LISP::EVAL-AND-PRINT (MAPCAR (FUNCTION +) #(1 2 3) #(10 20 30)) 0 NIL)",
      "2: ((:METHOD JUPYTER:EVALUATE-FORM (JUPYTER/COMMON-LISP:KERNEL T T T)) #<unused argument> #<FORM-TRACKING-STREAM for \"file /tmp/D7A79A4E7B7E47E22DFC8A8FE42C90D4-796269582.lisp\" {1005033E63}> CELL:796269582.LISP.NEWEST NIL #<unused argument> #<unused argument>)",
      "3: (JUPYTER/COMMON-LISP::REPL ;; map\n(mapcar #'+ #(1 2 3) #(10 20 30)) ;; errors CELL:796269582.LISP.NEWEST NIL)",
      "4: ((:METHOD JUPYTER:EVALUATE-CODE (JUPYTER/COMMON-LISP:KERNEL T)) #<unused argument> ;; map\n(mapcar #'+ #(1 2 3) #(10 20 30)) ;; errors CELL:796269582.LISP.NEWEST NIL)",
      "5: (JUPYTER::HANDLE-EXECUTE-REQUEST)",
      "6: (JUPYTER::RUN-SHELL #<KERNEL {100AF9E1A3}>)",
      "7: ((LABELS BORDEAUX-THREADS::%BINDING-DEFAULT-SPECIALS-WRAPPER :IN BORDEAUX-THREADS::BINDING-DEFAULT-SPECIALS))",
      "8: ((FLET SB-UNIX::BODY :IN SB-THREAD::NEW-LISP-THREAD-TRAMPOLINE))",
      "9: ((FLET \"WITHOUT-INTERRUPTS-BODY-4\" :IN SB-THREAD::NEW-LISP-THREAD-TRAMPOLINE))",
      "10: ((FLET SB-THREAD::WITH-MUTEX-THUNK :IN SB-THREAD::NEW-LISP-THREAD-TRAMPOLINE))",
      "11: ((FLET \"WITHOUT-INTERRUPTS-BODY-1\" :IN SB-THREAD::CALL-WITH-MUTEX))",
      "12: (SB-THREAD::CALL-WITH-MUTEX #<CLOSURE (FLET SB-THREAD::WITH-MUTEX-THUNK :IN SB-THREAD::NEW-LISP-THREAD-TRAMPOLINE) {7FD6C49EED7B}> #<MUTEX \"thread result lock\" owner: #<SB-THREAD:THREAD \"SHELL Thread\" RUNNING {100C3EFB73}>> NIL T NIL)",
      "13: (SB-THREAD::NEW-LISP-THREAD-TRAMPOLINE #<THREAD \"SHELL Thread\" RUNNING {100C3EFB73}> NIL #<CLOSURE (LABELS BORDEAUX-THREADS::%BINDING-DEFAULT-SPECIALS-WRAPPER :IN BORDEAUX-THREADS::BINDING-DEFAULT-SPECIALS) {100C3EFB1B}> NIL)",
      "14: (\"foreign function: call_into_lisp\")",
      "15: (\"foreign function: new_thread_trampoline\")"
     ]
    }
   ],
   "source": [
    ";; map\n",
    "(mapcar #'+ #(1 2 3) #(10 20 30)) ;; errors"
   ]
  },
  {
   "cell_type": "code",
   "execution_count": 184,
   "id": "4228afae-ebf1-4979-bf66-cbb6185cb783",
   "metadata": {},
   "outputs": [
    {
     "data": {
      "text/plain": [
       "#(11 22 33)"
      ]
     },
     "execution_count": 184,
     "metadata": {},
     "output_type": "execute_result"
    }
   ],
   "source": [
    "(map 'vector #'+ #(1 2 3) #(10 20 30))"
   ]
  },
  {
   "cell_type": "code",
   "execution_count": 185,
   "id": "f60599e2-b203-4b3b-a5e7-2601fe5481b3",
   "metadata": {},
   "outputs": [
    {
     "data": {
      "text/plain": [
       "(11 22 33)"
      ]
     },
     "execution_count": 185,
     "metadata": {},
     "output_type": "execute_result"
    }
   ],
   "source": [
    "(map 'list #'+ '(1 2 3) '(10 20 30))"
   ]
  },
  {
   "cell_type": "code",
   "execution_count": 186,
   "id": "b33d49e5-7d6f-4ee8-a1e2-d5ed0a298995",
   "metadata": {},
   "outputs": [
    {
     "data": {
      "text/plain": [
       "(#\\h #\\e #\\l #\\l #\\o)"
      ]
     },
     "execution_count": 186,
     "metadata": {},
     "output_type": "execute_result"
    }
   ],
   "source": [
    "(map 'list #'identity '(#\\h #\\e #\\l #\\l #\\o))"
   ]
  },
  {
   "cell_type": "code",
   "execution_count": 187,
   "id": "44396816-26a1-438c-9f44-d44423636722",
   "metadata": {},
   "outputs": [
    {
     "data": {
      "text/plain": [
       "\"hello\""
      ]
     },
     "execution_count": 187,
     "metadata": {},
     "output_type": "execute_result"
    }
   ],
   "source": [
    "(map 'string #'identity '(#\\h #\\e #\\l #\\l #\\o))"
   ]
  },
  {
   "cell_type": "markdown",
   "id": "db347e69-91b8-4835-b483-9f1cddad51eb",
   "metadata": {},
   "source": [
    "## Reduction\n",
    "\n",
    "**reduce** *function* *sequence* `&key` *key* *from-end* *start* *end* *initial-value* -> *result*\n",
    "\n",
    "Uses a binary operation, function, to combine the elements of sequence."
   ]
  },
  {
   "cell_type": "code",
   "execution_count": 188,
   "id": "7727de9b-5a8f-4e93-8175-f6a2dcbf64e6",
   "metadata": {},
   "outputs": [
    {
     "data": {
      "text/plain": [
       "(((1 2) 3) 4)"
      ]
     },
     "execution_count": 188,
     "metadata": {},
     "output_type": "execute_result"
    }
   ],
   "source": [
    "(reduce (lambda (x y) (list x y)) \n",
    "        '(1 2 3 4))"
   ]
  },
  {
   "cell_type": "code",
   "execution_count": 192,
   "id": "f97543eb-6af8-49c5-95b3-bc70d9f577ac",
   "metadata": {},
   "outputs": [
    {
     "data": {
      "text/plain": [
       "NIL"
      ]
     },
     "execution_count": 192,
     "metadata": {},
     "output_type": "execute_result"
    },
    {
     "name": "stdout",
     "output_type": "stream",
     "text": [
      "1 2\n",
      "NIL 3\n",
      "NIL 4\n"
     ]
    }
   ],
   "source": [
    "(reduce (lambda (x y) (format t \"~a ~a~%\" x y)) \n",
    "        '(1 2 3 4))"
   ]
  },
  {
   "cell_type": "code",
   "execution_count": 193,
   "id": "2617b4d9-731b-469f-8742-fc863985f34f",
   "metadata": {},
   "outputs": [
    {
     "data": {
      "text/plain": [
       "0"
      ]
     },
     "execution_count": 193,
     "metadata": {},
     "output_type": "execute_result"
    }
   ],
   "source": [
    "(reduce #'+ '())"
   ]
  },
  {
   "cell_type": "code",
   "execution_count": 194,
   "id": "1fa6f63a-5262-42d5-bed4-914b5871064e",
   "metadata": {},
   "outputs": [
    {
     "data": {
      "text/plain": [
       "(((1 . 2) . 3))"
      ]
     },
     "execution_count": 194,
     "metadata": {},
     "output_type": "execute_result"
    }
   ],
   "source": [
    "(reduce #'cons '(1 2 3 nil))"
   ]
  },
  {
   "cell_type": "code",
   "execution_count": 195,
   "id": "fad86271-c5da-4622-9ffe-1a220b67b649",
   "metadata": {},
   "outputs": [
    {
     "data": {
      "text/plain": [
       "(1 2 3)"
      ]
     },
     "execution_count": 195,
     "metadata": {},
     "output_type": "execute_result"
    }
   ],
   "source": [
    "(reduce #'cons '(1 2 3) :from-end t :initial-value nil)"
   ]
  },
  {
   "cell_type": "code",
   "execution_count": 196,
   "id": "89d0d072-0fb6-4c96-9f0e-57b3ae41b21e",
   "metadata": {},
   "outputs": [
    {
     "data": {
      "text/plain": [
       "-2"
      ]
     },
     "execution_count": 196,
     "metadata": {},
     "output_type": "execute_result"
    }
   ],
   "source": [
    "(reduce #'+ '((1 2) (3 4) (5 6))\n",
    "        :key #'first :start 1 :initial-value -10)"
   ]
  },
  {
   "cell_type": "markdown",
   "id": "6af4fd63-1a00-4411-8a4c-b00c3613ead8",
   "metadata": {},
   "source": [
    "## MapReduce\n",
    "Google’s MapReduce is a programming paradigm used mostly in huge\n",
    "databases for distributed processing. It was originally used for updating\n",
    "the index of the WWW in their search engine.\n",
    "\n",
    "Currently supported by AWS, MongoDB, Hadoop, ...\n",
    "\n",
    "Inspired by the map and reduce paradigms of functional programming.\n",
    "\n",
    "https://en.wikipedia.org/wiki/MapReduce\n",
    "\n",
    "### Example\n",
    "\n",
    "**Task**: calculate at which time interval the number of travelers on the\n",
    "tram is the highest (intervals are “early morning”, “late morning”, ...)\n",
    "\n",
    "**Database**: per interval hourly entries on number of travelers\n",
    "(e.g. db_early_morning: 6:00 → Tram6 → 100, 7:00 → Tram8 → 120)\n",
    "\n",
    "**Map step**: per DB, go through tram lines and sum up travelers:\n",
    "* DB1 early morning: (Tram6 → 2000) (Tram8 → 1000) ...\n",
    "* DB6 late night: (Tram6 → 200) (Tram4 → 500) ...\n",
    "\n",
    "**Reduce**: calculate maximum of all databases for each tram line:\n",
    "\n",
    "Tram6 → 3000 (late morning)\n",
    "\n",
    "Tram8 → 1300 (early evening)\n",
    "\n",
    "..."
   ]
  },
  {
   "cell_type": "markdown",
   "id": "dc0374ba-da51-4bfe-a67c-986975fa986a",
   "metadata": {},
   "source": [
    "## Organizational\n",
    "\n",
    "### Guidelines\n",
    "\n",
    "* Avoid global variables!\n",
    "* If your function generates side-effects, name it correspondingly \n",
    "  * (either foo! which is preferred, or foof as in setf, or nfoo as in nconc)\n",
    "* Try to keep the brackets all together:\n",
    "```lisp\n",
    ";; this is bad\n",
    "(defun do-something (condition)\n",
    "    (if condition\n",
    "        do-this\n",
    "        do-that\n",
    "        )\n",
    "    )\n",
    "\n",
    ";; this is better\n",
    "(defun do-something (condition)\n",
    "    (if condition\n",
    "        do-this\n",
    "        do-that))\n",
    "```\n",
    "\n",
    "### Links\n",
    "\n",
    "Alexandria Documentation: http://common-lisp.net/project/alexandria/draft/alexandria.html\n",
    "\n",
    "### Info Summary\n",
    "\n",
    "* NO LECTURE NEXT WEEK\n",
    "* Assignment 4 points: 7 points\n",
    "* Due **in two weeks**: 23.11, Wednesday, 23:59 German time\n",
    "* Next class: 24.11, 14:15\n"
   ]
  }
 ],
 "metadata": {
  "kernelspec": {
   "display_name": "Common Lisp",
   "language": "common-lisp",
   "name": "common-lisp"
  },
  "language_info": {
   "codemirror_mode": "text/x-common-lisp",
   "file_extension": ".lisp",
   "mimetype": "text/x-common-lisp",
   "name": "common-lisp",
   "pygments_lexer": "common-lisp",
   "version": "2.0.1.debian"
  }
 },
 "nbformat": 4,
 "nbformat_minor": 5
}
