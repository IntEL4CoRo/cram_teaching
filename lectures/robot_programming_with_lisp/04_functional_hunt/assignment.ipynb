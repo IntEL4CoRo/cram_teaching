{
 "cells": [
  {
   "cell_type": "markdown",
   "id": "ef34792d-fa88-41d0-9694-a6799d0147af",
   "metadata": {
    "tags": []
   },
   "source": [
    "# Assignment 4 - Functional Hunt\n",
    "\n",
    "Welcome to Assignment 4 of the \"Robot Programming with Lisp\" course.\n",
    "\n",
    "* Due Date: 16.11.2022, 23:59 CEST in your Github repository\n",
    "* 7 points achievable\n",
    "\n",
    "Use higher-order functions. Do not use the LOOP macro.\n",
    "\n",
    "The robot will decide to always collect the treasure closest to him. Find the next treasure closest to the robot.\n",
    "It needs to stand in front of the treasure to collect it.\n",
    "\n",
    "## How to\n",
    "\n",
    "Execute the code segments one after another. Each chapter in this notebook serves its purpose.\n",
    "\n",
    "* **Load Package** - How to load the package of the assignment\n",
    "* **Prepared code** - Some prepared code, containing parameters and functions for the world. Don't touch that.\n",
    "* **Assignment code** - Your assignment. This is where you need to write code. Solve the missing TODOs by implementing the functionality described.\n",
    "* **Testing** - With these functions you can test your program. Add more code blocks here if you want to test specific functions.\n",
    "\n",
    "You have completed the assignment when the robot picks up all the treasures in the world. Your grade depends on your individual implementation in the **Assignment code**.\n",
    "\n",
    "## Load Package\n",
    "\n",
    "Execute the code of the following section to load this assignments code."
   ]
  },
  {
   "cell_type": "code",
   "execution_count": null,
   "id": "0b4445c8-d975-4cd0-9dfd-48f3cbe9f7db",
   "metadata": {},
   "outputs": [],
   "source": [
    ";; Adds the directory of this assignment into the ASDF registry\n",
    "(let* ((lecture-path '(:absolute \"home\" \"lectures\" \"robot_programming_with_lisp\"))\n",
    "       (assignment-path (append lecture-path '(\"04_functional_hunt\")))\n",
    "       (bullet-path (append lecture-path '(\"bullet_wrapper\"))))\n",
    "      (pushnew (make-pathname :directory assignment-path) asdf:*central-registry*)\n",
    "      (pushnew (make-pathname :directory bullet-path) asdf:*central-registry*))"
   ]
  },
  {
   "cell_type": "code",
   "execution_count": null,
   "id": "2dc8641e-763b-4acd-bd76-fc65ddd7217b",
   "metadata": {
    "tags": []
   },
   "outputs": [],
   "source": [
    ";; Loads the ASDF system of this assignment\n",
    "(asdf:load-system :functional-hunt)"
   ]
  },
  {
   "cell_type": "code",
   "execution_count": null,
   "id": "8e0c8add-c57e-4cdb-8461-c125691be725",
   "metadata": {},
   "outputs": [],
   "source": [
    ";; Makes this assignment as the current namespace\n",
    "(in-package :functional-hunt)"
   ]
  },
  {
   "cell_type": "markdown",
   "id": "3091a6aa-095e-47fa-931e-6a90fe8cdbe6",
   "metadata": {},
   "source": [
    "## Prepared Code\n",
    "\n",
    "The oop-world from the last assignment is already implemented."
   ]
  },
  {
   "cell_type": "markdown",
   "id": "16ed050f-8143-446e-9f06-c29f62372ea1",
   "metadata": {},
   "source": [
    "## Assignment Code"
   ]
  },
  {
   "cell_type": "code",
   "execution_count": null,
   "id": "98dbf495-b751-429d-a081-e37353440aae",
   "metadata": {},
   "outputs": [],
   "source": [
    "(defgeneric move (robot x y &optional orientation)\n",
    "  (:documentation \"Moves the robot to the given x and y coordinates if possible.\n",
    "  Changes the robot's orientation, if specified.\n",
    "  Use `mapcar' and `member' to check for possible collision with `obstacles'.\n",
    "  Check for the usual constraints for coordinates and orientation.\")\n",
    "  (:method ((robot robot) x y &optional orientation)\n",
    "    (let ((obstacles (append (walls (world robot))\n",
    "                             (treasures (world robot)))))\n",
    "      ;; TODO Implement 1P\n",
    "         )))"
   ]
  },
  {
   "cell_type": "code",
   "execution_count": null,
   "id": "2b138be6-dddc-4eb6-b1e3-2c991631a6b5",
   "metadata": {},
   "outputs": [],
   "source": [
    "(defgeneric collect-treasure (robot)\n",
    "  (:documentation \"Collects the treasure laying in front of the robot, if there is any.\n",
    "  Use `delete' or `delete-if' to modify the list of treasures in the world.\")\n",
    "  (:method ((robot robot))\n",
    "    ;; TODO Implement 1P\n",
    "           ))"
   ]
  },
  {
   "cell_type": "code",
   "execution_count": null,
   "id": "d9a11f12-bd6b-4d3e-baa1-3c2854bd37e2",
   "metadata": {},
   "outputs": [],
   "source": [
    "(defgeneric distance (entity1 entity2)\n",
    "  (:documentation \"Calculates the geometric distance between two entities.\")\n",
    "  (:method ((entity1 entity) (entity2 entity))\n",
    "    ;; TODO Implement 0.5P\n",
    "           ))"
   ]
  },
  {
   "cell_type": "code",
   "execution_count": null,
   "id": "174f9ea6-f81a-4e33-8dff-e9fd9aa60640",
   "metadata": {},
   "outputs": [],
   "source": [
    "(defgeneric closer (robot entity1 entity2)\n",
    "  (:documentation \"Returns the entity closer to the robot, using the `distance' method.\")\n",
    "  (:method ((robot robot) (obj1 entity) (obj2 entity))\n",
    "    ;; TODO Implement 0.5P\n",
    "           ))"
   ]
  },
  {
   "cell_type": "code",
   "execution_count": null,
   "id": "0c651c42-1f72-44f0-96bf-13bd4a726401",
   "metadata": {},
   "outputs": [],
   "source": [
    "(defgeneric sort-treasures-by-distance (world)\n",
    "  (:documentation \"Sorts the treasure list of the world ascending with their distance to the robot.\n",
    "  Use the function `sort' to sort the list of treasures.\n",
    "  Example of sort:\n",
    "    Given a list of strings called str-list.\n",
    "    Sort the list ascending regarding each string's length:\n",
    "      (sort str-list #'< :key #'length)\n",
    "    The function used as :key must always provide a comparable number.\n",
    "    Since the `sort' function is destructive, assign the returned value to the treasures list.\n",
    "  Check for the `distance' between two entities.\n",
    "  Use `alexandria:curry' to modify the `distance' method, such that it always takes the\n",
    "  robot as first argument.\")\n",
    "  (:method ((world treasure-world))\n",
    "    ;; TODO Implement 1P\n",
    "           ))"
   ]
  },
  {
   "cell_type": "code",
   "execution_count": null,
   "id": "c370d3be-f21e-4200-85a5-fc1355a00187",
   "metadata": {},
   "outputs": [],
   "source": [
    "(defgeneric get-access-pose (treasure)\n",
    "  (:documentation \"Provides a robot's potential position to access the given treasure.\n",
    "  Calling this method provides x y and orientation as values,\n",
    "  that you can bind with `multiple-value-bind'.\n",
    "  Check for a free place nearby the given treasure.\n",
    "  Use the `world' slot to get the other walls and treasures in the world.\n",
    "  The values are\n",
    "  - The X coordinate of the free space.\n",
    "  - The Y coordinate of the free space.\n",
    "  - :NORTH :EAST :SOUTH or :WEST, the direction the robot has to look at to access the treasure.\n",
    "    Check out `+directions+' at the top of this file. \n",
    "  If no place can be found, return NIL.\n",
    "  \n",
    "  HINT: Using this method is a quick check if the treasure is even accessible.\n",
    "        It returns NIL if not, but evaluates to T if any place is found.\")\n",
    "  (:method ((treasure treasure))\n",
    "    ;; TODO Implement 1P\n",
    "           ))"
   ]
  },
  {
   "cell_type": "code",
   "execution_count": null,
   "id": "2d4b0168-1f8f-4d0b-9b83-d8b961c2255c",
   "metadata": {},
   "outputs": [],
   "source": [
    "(defgeneric closest-accessible-treasure (world)\n",
    "  (:documentation \"Returns the treasure closest to the robot. The treasure must be reachable.\n",
    "  From all `treasures' in the `world' reduce the list to the one, that is closest to the `robot'.\n",
    "  But only check accessible treasures! (see HINT)\n",
    "  To reduce the treasures to the closest one, use the function `reduce'.\n",
    "  Modify the `closer' method with `alexandria:curry'.\n",
    "  \n",
    "  HINT: The function `remove-if' takes two arguments: a boolean function and a list.\n",
    "        For each entry in the list `remove-if' applies the given function,\n",
    "        and if the function evaluates positively, the entry is removed,\n",
    "        BUT it does not change the original list.\n",
    "        In other words: remove-if is non-destructive, unlike push or delete.\")\n",
    "  (:method ((world treasure-world))\n",
    "    ;; TODO Implement 1P\n",
    "           ))"
   ]
  },
  {
   "cell_type": "code",
   "execution_count": null,
   "id": "00df920d-e420-4881-9156-096b57f26667",
   "metadata": {},
   "outputs": [],
   "source": [
    "(defgeneric discover-world (world)\n",
    "  (:documentation \"Call `initialize-world' to get a world object.\n",
    "  Use the methods you implemented above to make this method as short as possible.\n",
    "  Use `multiple-value-bind' to bind the values of `get-access-pose' to local variables.\n",
    "  Bind values directly from a callback function:\n",
    "    (multiple-value-bind (x y ori) (get-access-pose treasure)\n",
    "      (print (listx y ori)))\n",
    "  Loop while there are still treasures in the world and collect them all.\")\n",
    "  (:method ((world treasure-world))\n",
    "    (loop while (treasures world)\n",
    "          do ;; TODO Implement 1P\n",
    "          )))"
   ]
  },
  {
   "cell_type": "markdown",
   "id": "fcc63a19-b668-44c4-af72-4a2470ba3781",
   "metadata": {},
   "source": [
    "## Testing"
   ]
  },
  {
   "cell_type": "code",
   "execution_count": null,
   "id": "75729dc5-7927-4e4a-83b9-b80b82c4375c",
   "metadata": {},
   "outputs": [],
   "source": [
    "(defparameter *world* (initialize-world))"
   ]
  },
  {
   "cell_type": "code",
   "execution_count": null,
   "id": "32a32578-47d9-40c2-a154-18e211c6e660",
   "metadata": {},
   "outputs": [],
   "source": [
    "(discover-world *world*)"
   ]
  }
 ],
 "metadata": {
  "kernelspec": {
   "display_name": "Common Lisp",
   "language": "common-lisp",
   "name": "common-lisp"
  },
  "language_info": {
   "codemirror_mode": "text/x-common-lisp",
   "file_extension": ".lisp",
   "mimetype": "text/x-common-lisp",
   "name": "common-lisp",
   "pygments_lexer": "common-lisp",
   "version": "2.0.1.debian"
  }
 },
 "nbformat": 4,
 "nbformat_minor": 5
}
