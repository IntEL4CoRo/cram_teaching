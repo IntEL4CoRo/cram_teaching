{
 "cells": [
  {
   "cell_type": "markdown",
   "id": "c557d07b-af87-4e42-8efc-497550e94d62",
   "metadata": {},
   "source": [
    "# Assignment 6 - Turtle Party\n",
    "\n",
    "Welcome to Assignment 6 of the \"Robot Programming with Lisp\" course.\n",
    "\n",
    "## Load Package\n",
    "\n",
    "Execute the code of the following section to load this assignments code."
   ]
  },
  {
   "cell_type": "code",
   "execution_count": null,
   "id": "6f873bec-eef7-48b1-ba94-f2e9aa87ceac",
   "metadata": {},
   "outputs": [],
   "source": [
    ";; Adds the directory of this assignment into the ASDF registry\n",
    "(let* ((lecture-path '(:absolute \"home\" \"lectures\" \"robot_programming_with_lisp\"))\n",
    "       (assignment-path (append lecture-path '(\"06_turtle_party\" \"ros_ws\" \"src\" \"lisp_turtles\"))))\n",
    "      (pushnew (make-pathname :directory assignment-path) asdf:*central-registry*))"
   ]
  },
  {
   "cell_type": "code",
   "execution_count": null,
   "id": "4de25167-f8c5-4fae-9fc8-43ad6099e317",
   "metadata": {
    "tags": []
   },
   "outputs": [],
   "source": [
    ";; Loads the ASDF system of this assignment\n",
    "(asdf:load-system :lisp-turtles)"
   ]
  },
  {
   "cell_type": "code",
   "execution_count": null,
   "id": "d31736cc-44f5-41b9-9fe5-7f422b7c4691",
   "metadata": {},
   "outputs": [],
   "source": [
    ";; Makes this assignment as the current namespace\n",
    "(in-package :lturtle)"
   ]
  },
  {
   "cell_type": "markdown",
   "id": "fd745034-8505-433c-b911-b1e289887703",
   "metadata": {},
   "source": [
    "## Testing Code"
   ]
  },
  {
   "cell_type": "code",
   "execution_count": null,
   "id": "f92dc6ac-4598-41fc-ac80-c28f841d4bde",
   "metadata": {},
   "outputs": [],
   "source": [
    "(start-node)"
   ]
  },
  {
   "cell_type": "code",
   "execution_count": null,
   "id": "c7f5cf2f-78b3-462d-9ea5-db9519dea5ec",
   "metadata": {},
   "outputs": [],
   "source": [
    "(draw 1)"
   ]
  },
  {
   "cell_type": "markdown",
   "id": "4b88b4b0-5bce-4a3f-87c8-ef07ea181750",
   "metadata": {},
   "source": [
    "## Testing - Turtle Party"
   ]
  },
  {
   "cell_type": "code",
   "execution_count": null,
   "id": "52f0ef4c-433d-480e-81c1-8be603acc454",
   "metadata": {},
   "outputs": [],
   "source": [
    "(turtle-party 5)"
   ]
  }
 ],
 "metadata": {
  "kernelspec": {
   "display_name": "Common Lisp",
   "language": "common-lisp",
   "name": "common-lisp"
  },
  "language_info": {
   "codemirror_mode": "text/x-common-lisp",
   "file_extension": ".lisp",
   "mimetype": "text/x-common-lisp",
   "name": "common-lisp",
   "pygments_lexer": "common-lisp",
   "version": "2.0.1.debian"
  }
 },
 "nbformat": 4,
 "nbformat_minor": 5
}
