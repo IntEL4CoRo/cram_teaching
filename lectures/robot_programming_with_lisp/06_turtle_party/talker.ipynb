{
 "cells": [
  {
   "cell_type": "code",
   "execution_count": null,
   "id": "cfda4681-0dc8-4911-84cc-afb2d861f79a",
   "metadata": {},
   "outputs": [],
   "source": [
    "(let* ((lecture-path '(:absolute \"home\" \"lectures\" \"robot_programming_with_lisp\"))\n",
    "       (assignment-path (append lecture-path '(\"06_turtle_party\" \"ros_ws\" \"src\" \"tutorial_ros_package\"))))\n",
    "      (pushnew (make-pathname :directory assignment-path) asdf:*central-registry*))"
   ]
  },
  {
   "cell_type": "code",
   "execution_count": null,
   "id": "9383f55c-cd45-43bd-8673-033d10f7c2dd",
   "metadata": {
    "tags": []
   },
   "outputs": [],
   "source": [
    "(asdf:load-system :tutorial-asdf-system)"
   ]
  },
  {
   "cell_type": "code",
   "execution_count": null,
   "id": "79359e25-00cc-4854-a47a-96add21f734d",
   "metadata": {},
   "outputs": [],
   "source": [
    "(in-package :tutorial-lisp-package)"
   ]
  },
  {
   "cell_type": "code",
   "execution_count": null,
   "id": "89cf5a66-3874-40b7-8ca1-670fd012e6cb",
   "metadata": {},
   "outputs": [],
   "source": [
    "(talker)"
   ]
  },
  {
   "cell_type": "code",
   "execution_count": null,
   "id": "89e01bd8-3fa0-4ddd-8e36-66311d3af2fe",
   "metadata": {},
   "outputs": [],
   "source": []
  },
  {
   "cell_type": "code",
   "execution_count": null,
   "id": "4bf0f474-f8b2-4494-9a43-199e67de5120",
   "metadata": {},
   "outputs": [],
   "source": []
  },
  {
   "cell_type": "code",
   "execution_count": null,
   "id": "3e612475-1ac4-4756-872a-94420cc320bb",
   "metadata": {},
   "outputs": [],
   "source": []
  }
 ],
 "metadata": {
  "kernelspec": {
   "display_name": "Common Lisp",
   "language": "common-lisp",
   "name": "common-lisp"
  },
  "language_info": {
   "codemirror_mode": "text/x-common-lisp",
   "file_extension": ".lisp",
   "mimetype": "text/x-common-lisp",
   "name": "common-lisp",
   "pygments_lexer": "common-lisp",
   "version": "2.0.1.debian"
  }
 },
 "nbformat": 4,
 "nbformat_minor": 5
}
