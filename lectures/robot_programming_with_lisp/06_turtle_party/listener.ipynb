{
 "cells": [
  {
   "cell_type": "code",
   "execution_count": null,
   "id": "cfda4681-0dc8-4911-84cc-afb2d861f79a",
   "metadata": {},
   "outputs": [],
   "source": [
    "(let* ((lecture-path '(:absolute \"home\" \"lectures\" \"robot_programming_with_lisp\"))\n",
    "       (assignment-path (append lecture-path '(\"06_turtle_party\" \"ros_ws\" \"src\" \"tutorial_ros_package\"))))\n",
    "      (pushnew (make-pathname :directory assignment-path) asdf:*central-registry*))"
   ]
  },
  {
   "cell_type": "code",
   "execution_count": null,
   "id": "9383f55c-cd45-43bd-8673-033d10f7c2dd",
   "metadata": {},
   "outputs": [],
   "source": [
    "(asdf:load-system :tutorial-asdf-system)"
   ]
  },
  {
   "cell_type": "code",
   "execution_count": null,
   "id": "d5916e87-c755-4bd5-b0e7-b315407530e8",
   "metadata": {},
   "outputs": [],
   "source": [
    "(in-package :tutorial-lisp-package)"
   ]
  },
  {
   "cell_type": "code",
   "execution_count": null,
   "id": "42f7de27-ca7c-4ac5-8480-b40041f910a9",
   "metadata": {},
   "outputs": [],
   "source": [
    "(listener)"
   ]
  },
  {
   "cell_type": "code",
   "execution_count": null,
   "id": "976aca19-7bf2-479e-b30b-d795b514748b",
   "metadata": {},
   "outputs": [],
   "source": []
  },
  {
   "cell_type": "code",
   "execution_count": null,
   "id": "234009c6-7596-449c-a9bf-e9877811c290",
   "metadata": {},
   "outputs": [],
   "source": []
  },
  {
   "cell_type": "code",
   "execution_count": null,
   "id": "bf7be58e-db7e-48f5-848f-698cecd1df30",
   "metadata": {},
   "outputs": [],
   "source": []
  }
 ],
 "metadata": {
  "kernelspec": {
   "display_name": "Common Lisp",
   "language": "common-lisp",
   "name": "common-lisp"
  },
  "language_info": {
   "codemirror_mode": "text/x-common-lisp",
   "file_extension": ".lisp",
   "mimetype": "text/x-common-lisp",
   "name": "common-lisp",
   "pygments_lexer": "common-lisp",
   "version": "2.0.1.debian"
  },
  "toc-autonumbering": true,
  "toc-showcode": true,
  "toc-showmarkdowntxt": true
 },
 "nbformat": 4,
 "nbformat_minor": 5
}
