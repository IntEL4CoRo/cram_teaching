{
 "cells": [
  {
   "cell_type": "markdown",
   "id": "ef34792d-fa88-41d0-9694-a6799d0147af",
   "metadata": {
    "tags": []
   },
   "source": [
    "# Assignment 8 - Optimal Path\n",
    "\n",
    "Welcome to Assignment 8 of the \"Robot Programming with Lisp\" course.\n",
    "\n",
    "**This assignment is optional, you can use it to get extra points.**\n",
    "\n",
    "* Due Date: 21.12.2022, 23:59 CEST in your Github repository\n",
    "* 9 points achievable\n",
    "\n",
    "Previously you implemented the depth-first-search algorith to find paths to trasures.\n",
    "Since DFS doesn't provide optimal solutions, we now want to find an optimal path,\n",
    "meaning the shortest.\n",
    "\n",
    "The breadth-first-search algorithm and pseudocode can be found here:\n",
    "https://en.wikipedia.org/wiki/Breadth-first_search#Pseudocode\n",
    "Your task is to adapt the pseudocode to our problem.\n",
    "\n",
    "Further you will need to implement the robot's strategy to collect and deliver all treasures.\n",
    "One strategy, for example, could be to always go to the closest goal. \n",
    "\n",
    "\n",
    "Same as in assignment 5:\n",
    "The 10 treasures are colored :RED and :BLUE. There are 2 `depots` in the world, one is\n",
    ":RED, the other one :BLUE. The `depots` are stored as a hash-table in the `treasure-world`.\n",
    "The keys to the depots in the hash-table are :RED and :BLUE. \n",
    "\n",
    "The robot can carry up to 2 treasures in it's `trunk`. \n",
    "\n",
    "Your task is to bring the `treasures` to the `depot` of their respective color.\n",
    "\n",
    "\n",
    "## How to\n",
    "\n",
    "Execute the code segments one after another. Each chapter in this notebook serves its purpose.\n",
    "\n",
    "* **Load Package** - How to load the package of the assignment\n",
    "* **Prepared code** - Some prepared code, containing parameters and functions for the world. Don't touch that.\n",
    "* **Assignment code** - Your assignment. This is where you need to write code. Solve the missing TODOs by implementing the functionality described.\n",
    "* **Testing** - With these functions you can test your program. Add more code blocks here if you want to test specific functions.\n",
    "\n",
    "You have completed the assignment when the robot picks up all the treasures in the world. Your grade depends on your individual implementation in the **Assignment code**.\n",
    "\n",
    "## Load Package\n",
    "\n",
    "Execute the code of the following section to load this assignments code."
   ]
  },
  {
   "cell_type": "code",
   "execution_count": 1,
   "id": "0b4445c8-d975-4cd0-9dfd-48f3cbe9f7db",
   "metadata": {},
   "outputs": [
    {
     "data": {
      "text/plain": [
       "(#P\"/home/lectures/robot_programming_with_lisp/bullet_wrapper/\"\n",
       " #P\"/home/lectures/robot_programming_with_lisp/08_optimal_path/\"\n",
       " #P\"/opt/ros/noetic/share/roslisp/scripts/../load-manifest/\")"
      ]
     },
     "execution_count": 1,
     "metadata": {},
     "output_type": "execute_result"
    }
   ],
   "source": [
    ";; Adds the directory of this assignment into the ASDF registry\n",
    "(let* ((lecture-path '(:absolute \"home\" \"lectures\" \"robot_programming_with_lisp\"))\n",
    "       (assignment-path (append lecture-path '(\"08_optimal_path\")))\n",
    "       (bullet-path (append lecture-path '(\"bullet_wrapper\"))))\n",
    "      (pushnew (make-pathname :directory assignment-path) asdf:*central-registry*)\n",
    "      (pushnew (make-pathname :directory bullet-path) asdf:*central-registry*))"
   ]
  },
  {
   "cell_type": "code",
   "execution_count": 18,
   "id": "2dc8641e-763b-4acd-bd76-fc65ddd7217b",
   "metadata": {
    "tags": []
   },
   "outputs": [
    {
     "data": {
      "text/plain": [
       "T"
      ]
     },
     "execution_count": 18,
     "metadata": {},
     "output_type": "execute_result"
    },
    {
     "name": "stdout",
     "output_type": "stream",
     "text": [
      "\n",
      "; compiling (IN-PACKAGE OPTIMAL-PATH)\n",
      "; compiling (DEFINE-CONDITION ROBOT-COLLISION ...)\n",
      "; compiling (DEFINE-CONDITION TRUNK-FULL ...)\n",
      "; compiling (ALEXANDRIA.0.DEV:DEFINE-CONSTANT +DIRECTIONS+ ...)\n",
      "; compiling (DEFGENERIC MOVE ...)\n",
      "; compiling (LET (#) ...)\n",
      "; compiling (DEFGENERIC VALID-MOVE ...)\n",
      "; compiling (DEFGENERIC COLLECT-TREASURE ...)\n",
      "; compiling (DEFGENERIC DEPOSIT-TREASURE ...)\n",
      "; compiling (DEFGENERIC VALID-COORD ...)\n",
      "; compiling (DEFGENERIC GOAL-REACHED ...)\n",
      "; compiling (DEFUN TURN ...)\n",
      "; compiling (DEFUN FORWARD ...)\n",
      "; compiling (DEFUN IN-PATH ...)\n",
      "; compiling (DEFUN EXPAND ...)SB-INT:SIMPLE-STYLE-WARNING: The variable STATE is defined but never used.\n",
      "; compiling (DEFMETHOD FIND-PATH ...)\n",
      "; compiling (DEFMETHOD REMOVE-UNREACHABLE-TREASURES ...)\n",
      "; compiling (DEFMETHOD DISCOVER-WORLD ...)\n",
      "; compiling (DEFGENERIC FOLLOW-PATH ...)\n",
      "; compiling (DEFGENERIC TEST-PATH ...)\n",
      "; compiling (DEFUN TEST-PATH-WITH-FRESH-WORLD ...)\n",
      "; compiling (DEFPARAMETER *ACTION-DELAY* ...)\n",
      "; compiling (DEFMETHOD MOVE ...)\n",
      "; compiling (DEFMETHOD MOVE ...)\n",
      "; compiling (DEFMETHOD COLLECT-TREASURE ...)\n",
      "; compiling (DEFMETHOD COLLECT-TREASURE ...)\n",
      "; compiling (DEFMETHOD DEPOSIT-TREASURE ...)\n",
      "; compiling (DEFMETHOD DEPOSIT-TREASURE ...)SB-KERNEL:REDEFINITION-WITH-DEFGENERIC: redefining OPTIMAL-PATH::MOVE in DEFGENERIC\n",
      "SB-KERNEL:REDEFINITION-WITH-DEFMETHOD: redefining MOVE (#<STANDARD-CLASS OPTIMAL-PATH::ROBOT>\n",
      "                                                        #<SB-PCL:SYSTEM-CLASS COMMON-LISP:T>\n",
      "                                                        #<SB-PCL:SYSTEM-CLASS COMMON-LISP:T>) in DEFMETHOD\n",
      "SB-KERNEL:REDEFINITION-WITH-DEFUN: redefining OPTIMAL-PATH::STEPS in DEFUN\n",
      "SB-KERNEL:REDEFINITION-WITH-DEFGENERIC: redefining OPTIMAL-PATH::VALID-MOVE in DEFGENERIC\n",
      "SB-KERNEL:REDEFINITION-WITH-DEFGENERIC: redefining OPTIMAL-PATH::COLLECT-TREASURE in DEFGENERIC\n",
      "SB-KERNEL:REDEFINITION-WITH-DEFGENERIC: redefining OPTIMAL-PATH::DEPOSIT-TREASURE in DEFGENERIC\n",
      "SB-KERNEL:REDEFINITION-WITH-DEFGENERIC: redefining OPTIMAL-PATH::VALID-COORD in DEFGENERIC\n",
      "SB-KERNEL:REDEFINITION-WITH-DEFGENERIC: redefining OPTIMAL-PATH::GOAL-REACHED in DEFGENERIC\n",
      "SB-KERNEL:REDEFINITION-WITH-DEFUN: redefining OPTIMAL-PATH::TURN in DEFUN\n",
      "SB-KERNEL:REDEFINITION-WITH-DEFUN: redefining OPTIMAL-PATH::FORWARD in DEFUN\n",
      "SB-KERNEL:REDEFINITION-WITH-DEFUN: redefining OPTIMAL-PATH::IN-PATH in DEFUN\n",
      "SB-KERNEL:REDEFINITION-WITH-DEFUN: redefining OPTIMAL-PATH::EXPAND in DEFUN\n",
      "SB-KERNEL:REDEFINITION-WITH-DEFMETHOD: redefining FIND-PATH (#<STANDARD-CLASS OPTIMAL-PATH::ENTITY>) in DEFMETHOD\n",
      "SB-KERNEL:REDEFINITION-WITH-DEFMETHOD: redefining REMOVE-UNREACHABLE-TREASURES (#<STANDARD-CLASS OPTIMAL-PATH::TREASURE-WORLD>) in DEFMETHOD\n",
      "SB-KERNEL:REDEFINITION-WITH-DEFMETHOD: redefining DISCOVER-WORLD (#<STANDARD-CLASS OPTIMAL-PATH::TREASURE-WORLD>) in DEFMETHOD\n",
      "SB-KERNEL:REDEFINITION-WITH-DEFGENERIC: redefining OPTIMAL-PATH::FOLLOW-PATH in DEFGENERIC\n",
      "SB-KERNEL:REDEFINITION-WITH-DEFGENERIC: redefining OPTIMAL-PATH::TEST-PATH in DEFGENERIC\n",
      "SB-KERNEL:REDEFINITION-WITH-DEFUN: redefining OPTIMAL-PATH::TEST-PATH-WITH-FRESH-WORLD in DEFUN\n",
      "SB-KERNEL:REDEFINITION-WITH-DEFMETHOD: redefining MOVE :BEFORE (#<STANDARD-CLASS OPTIMAL-PATH::ROBOT>\n",
      "                                                                #<SB-PCL:SYSTEM-CLASS COMMON-LISP:T>\n",
      "                                                                #<SB-PCL:SYSTEM-CLASS COMMON-LISP:T>) in DEFMETHOD\n",
      "SB-KERNEL:REDEFINITION-WITH-DEFMETHOD: redefining MOVE :AFTER (#<STANDARD-CLASS OPTIMAL-PATH::ROBOT>\n",
      "                                                               #<SB-PCL:SYSTEM-CLASS COMMON-LISP:T>\n",
      "                                                               #<SB-PCL:SYSTEM-CLASS COMMON-LISP:T>) in DEFMETHOD\n",
      "SB-KERNEL:REDEFINITION-WITH-DEFMETHOD: redefining COLLECT-TREASURE :BEFORE (#<STANDARD-CLASS OPTIMAL-PATH::ROBOT>) in DEFMETHOD\n",
      "SB-KERNEL:REDEFINITION-WITH-DEFMETHOD: redefining COLLECT-TREASURE :AFTER (#<STANDARD-CLASS OPTIMAL-PATH::ROBOT>) in DEFMETHOD\n",
      "SB-KERNEL:REDEFINITION-WITH-DEFMETHOD: redefining DEPOSIT-TREASURE :BEFORE (#<STANDARD-CLASS OPTIMAL-PATH::ROBOT>) in DEFMETHOD\n",
      "SB-KERNEL:REDEFINITION-WITH-DEFMETHOD: redefining DEPOSIT-TREASURE :AFTER (#<STANDARD-CLASS OPTIMAL-PATH::ROBOT>) in DEFMETHOD\n"
     ]
    }
   ],
   "source": [
    ";; Loads the ASDF system of this assignment\n",
    "(asdf:load-system :optimal-path)"
   ]
  },
  {
   "cell_type": "code",
   "execution_count": 4,
   "id": "8e0c8add-c57e-4cdb-8461-c125691be725",
   "metadata": {},
   "outputs": [
    {
     "data": {
      "text/plain": [
       "#<PACKAGE \"OPTIMAL-PATH\">"
      ]
     },
     "execution_count": 4,
     "metadata": {},
     "output_type": "execute_result"
    }
   ],
   "source": [
    ";; Makes this assignment as the current namespace\n",
    "(in-package :optimal-path)"
   ]
  },
  {
   "cell_type": "markdown",
   "id": "3091a6aa-095e-47fa-931e-6a90fe8cdbe6",
   "metadata": {},
   "source": [
    "## Prepared Code\n",
    "\n",
    "Look into `src/treasure-hunt.lisp` to find the existing functions."
   ]
  },
  {
   "cell_type": "markdown",
   "id": "271e7c55-bed2-431a-834b-353b16adf55f",
   "metadata": {},
   "source": [
    "## Assignment Code - Breadth-First-Search Pathfinding\n",
    "\n"
   ]
  },
  {
   "cell_type": "code",
   "execution_count": null,
   "id": "ace6bacf-7f86-4790-a72f-7fec2209a55d",
   "metadata": {},
   "outputs": [],
   "source": [
    "(defun expand (state)\n",
    "  \"Takes a `state' which consists of '(x y orientation) and returns\n",
    "a list of three states: forward, turn right and turn left.\"\n",
    "  ;; Example:\n",
    "  ;; (expand '(1 2 :NORTH)) => '((2 2 :NORTH) (1 2 :EAST) (1 2 :WEST))\n",
    "  ;;\n",
    "  ;; TODO Implement 1P\n",
    "  )"
   ]
  },
  {
   "cell_type": "code",
   "execution_count": null,
   "id": "cbf58ed2-7156-4e11-b27a-a160c5acff72",
   "metadata": {},
   "outputs": [],
   "source": [
    ";; Some"
   ]
  },
  {
   "cell_type": "code",
   "execution_count": null,
   "id": "c4064f25-0a14-4e7f-af42-091d5e05085b",
   "metadata": {},
   "outputs": [],
   "source": [
    ";; space"
   ]
  },
  {
   "cell_type": "code",
   "execution_count": null,
   "id": "63cdb8e3-6235-44ba-9e46-6736a10e4016",
   "metadata": {},
   "outputs": [],
   "source": [
    ";; for"
   ]
  },
  {
   "cell_type": "code",
   "execution_count": null,
   "id": "537bc079-6c01-4bde-856d-ccf21aa9c529",
   "metadata": {},
   "outputs": [],
   "source": [
    ";; functions"
   ]
  },
  {
   "cell_type": "code",
   "execution_count": null,
   "id": "f493d6f2-89d7-4298-aa4e-2e3af246a36f",
   "metadata": {},
   "outputs": [],
   "source": [
    "(defmethod find-path ((goal entity))\n",
    "  \"Finds the shortest path from the robot to the `goal'\n",
    "    through breadth-first-search. See pseudocode here:\n",
    "    https://en.wikipedia.org/wiki/Breadth-first_search#Pseudocode\"\n",
    "    ;; TODO Implement\n",
    "    )"
   ]
  },
  {
   "cell_type": "code",
   "execution_count": null,
   "id": "968188c3-1cfa-4cf1-b36d-f0e773aec2d0",
   "metadata": {},
   "outputs": [],
   "source": [
    "\n",
    "(defmethod remove-unreachable-treasures ((world treasure-world))\n",
    "  \"Deletes treasures from the world, that are unreachable by `find-path'.\"\n",
    "  ;; TODO Implement\n",
    "  )"
   ]
  },
  {
   "cell_type": "code",
   "execution_count": 16,
   "id": "32d35f86-a848-4594-a9aa-46c153a2489d",
   "metadata": {},
   "outputs": [
    {
     "data": {
      "text/plain": [
       "#<STANDARD-METHOD OPTIMAL-PATH::DISCOVER-WORLD (TREASURE-WORLD) {101374FCF3}>"
      ]
     },
     "execution_count": 16,
     "metadata": {},
     "output_type": "execute_result"
    },
    {
     "name": "stdout",
     "output_type": "stream",
     "text": [
      "SB-KERNEL:REDEFINITION-WITH-DEFMETHOD: redefining DISCOVER-WORLD (#<STANDARD-CLASS OPTIMAL-PATH::TREASURE-WORLD>) in DEFMETHOD\n"
     ]
    }
   ],
   "source": [
    "(defmethod discover-world ((world treasure-world))\n",
    "  \"Implements the robot's strategy for collecting treasures.\n",
    "Calling this method with a fresh world will collect all treasures.\"\n",
    "    (remove-unreachable-treasures world)\n",
    "    ;; TODO Implement\n",
    "    (loop while (or (treasures world)\n",
    "                    (remove nil (coerce (trunk (robot world)) 'list)))\n",
    "          ;; do\n",
    "          ))"
   ]
  },
  {
   "cell_type": "markdown",
   "id": "fcc63a19-b668-44c4-af72-4a2470ba3781",
   "metadata": {},
   "source": [
    "## Testing - Pathfinding"
   ]
  },
  {
   "cell_type": "code",
   "execution_count": 9,
   "id": "772098e5-c4e0-4539-9abb-1670b1019d06",
   "metadata": {},
   "outputs": [
    {
     "data": {
      "text/plain": [
       "*WORLD*"
      ]
     },
     "execution_count": 9,
     "metadata": {},
     "output_type": "execute_result"
    }
   ],
   "source": [
    "(defparameter *world* (initialize-world))"
   ]
  },
  {
   "cell_type": "code",
   "execution_count": 10,
   "id": "6482ca5e-e3bc-4128-a222-b23a9d6e5de7",
   "metadata": {},
   "outputs": [
    {
     "data": {
      "text/plain": [
       "#S(COORDINATE :X 1 :Y 3)"
      ]
     },
     "execution_count": 10,
     "metadata": {},
     "output_type": "execute_result"
    }
   ],
   "source": [
    "(coord (robot *world*))"
   ]
  },
  {
   "cell_type": "code",
   "execution_count": null,
   "id": "bc1d7c59-7e41-4d8d-9c4c-2558b1a5ea80",
   "metadata": {},
   "outputs": [],
   "source": [
    "(orientation (robot *world*))"
   ]
  },
  {
   "cell_type": "code",
   "execution_count": null,
   "id": "0e7c509a-d7e3-49b9-aafa-a6adf0e604c3",
   "metadata": {},
   "outputs": [],
   "source": [
    "(expand '(1 2 :NORTH))"
   ]
  },
  {
   "cell_type": "code",
   "execution_count": null,
   "id": "ccb06ba2-41ea-4a74-870e-43396a40be9d",
   "metadata": {},
   "outputs": [],
   "source": [
    "(coord (first (treasures *world*)))"
   ]
  },
  {
   "cell_type": "code",
   "execution_count": null,
   "id": "8b6804d0-e10d-43e7-81b9-13568a116d16",
   "metadata": {},
   "outputs": [],
   "source": [
    "(trunk (robot *world*))"
   ]
  },
  {
   "cell_type": "code",
   "execution_count": null,
   "id": "fcfbbd2e-da75-4173-a29d-870ba0a72e94",
   "metadata": {},
   "outputs": [],
   "source": [
    "(aref (trunk (robot *world*)) 0)"
   ]
  },
  {
   "cell_type": "code",
   "execution_count": null,
   "id": "607af01b-c0b1-43f0-a0b4-a2999530b44e",
   "metadata": {},
   "outputs": [],
   "source": [
    "(gethash :RED (depots *world*))"
   ]
  },
  {
   "cell_type": "code",
   "execution_count": null,
   "id": "7f6db6ab-046b-43b7-a582-7f1fd5a47c2c",
   "metadata": {},
   "outputs": [],
   "source": [
    "(treasures *world*)"
   ]
  },
  {
   "cell_type": "code",
   "execution_count": null,
   "id": "df30210c-cc0a-4c8c-becc-9c372c04b8d3",
   "metadata": {},
   "outputs": [],
   "source": [
    "(coord (robot *world*))"
   ]
  },
  {
   "cell_type": "code",
   "execution_count": null,
   "id": "ea6ab9f0-c897-446d-89b2-762b7fa7f952",
   "metadata": {},
   "outputs": [],
   "source": [
    "(orientation (robot *world*))"
   ]
  },
  {
   "cell_type": "code",
   "execution_count": null,
   "id": "4659a087-47c0-45df-a5b8-3410e56f8932",
   "metadata": {},
   "outputs": [],
   "source": [
    ";; Test find-path function to treasure\n",
    "(let* ((robot-coords (coord (robot *world*)))\n",
    "       (robot-x (coordinate-x robot-coords))\n",
    "       (robot-y (coordinate-y robot-coords))\n",
    "       (robot-orientation (orientation (robot *world*)))\n",
    "       (goal-treasure (nth 1 (treasures *world*)))) ;; change this to test other treasures\n",
    "  (find-path robot-x robot-y robot-orientation goal-treasure))"
   ]
  },
  {
   "cell_type": "code",
   "execution_count": null,
   "id": "f95bd866-0c8d-47ce-ae16-3e2e4920b8f2",
   "metadata": {},
   "outputs": [],
   "source": [
    "(follow-path (robot *world*) *)"
   ]
  },
  {
   "cell_type": "code",
   "execution_count": null,
   "id": "0da88b5a-2f4a-4a06-ab3e-b0dba8667883",
   "metadata": {},
   "outputs": [],
   "source": [
    "(collect-treasure (robot *world*))"
   ]
  },
  {
   "cell_type": "code",
   "execution_count": null,
   "id": "245b672e-8f5f-46e5-9b06-140e527ebde8",
   "metadata": {},
   "outputs": [],
   "source": [
    "(gethash :RED (depots *world*))"
   ]
  },
  {
   "cell_type": "code",
   "execution_count": null,
   "id": "a3d8445f-9be4-4db7-83f8-e3da9f1f86c7",
   "metadata": {},
   "outputs": [],
   "source": [
    ";; Test find-path function to depot\n",
    "(let* ((robot-coords (coord (robot *world*)))\n",
    "       (robot-x (coordinate-x robot-coords))\n",
    "       (robot-y (coordinate-y robot-coords))\n",
    "       (robot-orientation (orientation (robot *world*)))\n",
    "       (goal-depot (gethash :RED (depots *world*))))\n",
    "  (find-path robot-x robot-y robot-orientation goal-depot))"
   ]
  },
  {
   "cell_type": "code",
   "execution_count": null,
   "id": "a284605f-65aa-4fe3-90d3-29466b7c2f5d",
   "metadata": {},
   "outputs": [],
   "source": [
    "(follow-path (robot *world*) *)"
   ]
  },
  {
   "cell_type": "code",
   "execution_count": null,
   "id": "3bcec98b-3b92-4913-937a-1d9e0a95e4fc",
   "metadata": {},
   "outputs": [],
   "source": [
    "(deposit-treasure (robot *world*))"
   ]
  },
  {
   "cell_type": "code",
   "execution_count": null,
   "id": "32a32578-47d9-40c2-a154-18e211c6e660",
   "metadata": {},
   "outputs": [],
   "source": [
    "(discover-world *world*)"
   ]
  }
 ],
 "metadata": {
  "kernelspec": {
   "display_name": "Common Lisp",
   "language": "common-lisp",
   "name": "common-lisp"
  },
  "language_info": {
   "codemirror_mode": "text/x-common-lisp",
   "file_extension": ".lisp",
   "mimetype": "text/x-common-lisp",
   "name": "common-lisp",
   "pygments_lexer": "common-lisp",
   "version": "2.0.1.debian"
  }
 },
 "nbformat": 4,
 "nbformat_minor": 5
}
