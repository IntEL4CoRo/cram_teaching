{
 "cells": [
  {
   "cell_type": "markdown",
   "id": "ef34792d-fa88-41d0-9694-a6799d0147af",
   "metadata": {
    "tags": []
   },
   "source": [
    "# Assignment 5 - Pathfinder\n",
    "\n",
    "Welcome to Assignment 5 of the \"Robot Programming with Lisp\" course.\n",
    "\n",
    "* Due Date: 30.11.2022, 23:59 CEST in your Github repository\n",
    "* 10 points achievable\n",
    "\n",
    "We are back in the simulation with our well known maze. In the previous assignments you\n",
    "teleported the robot to each treasure directly. Now the robot moves and turns step by step.\n",
    "\n",
    "The 10 treasures are colored :RED and :BLUE. There are 2 depots in the world, one is\n",
    ":RED, the other one :BLUE. The depots are stored in a hash-table of the treasure-world.\n",
    "The keys to the depots in the hash-table are :RED and :BLUE. Get the respective entity with `(gethash :RED (depots *world*))`.\n",
    "\n",
    "The robot can carry up to 2 treasures in his trunk. Get the trunk slots like this: `(aref (trunk robot) 0)`\n",
    "\n",
    "Your task is to bring the treasures to the depot of their respective color.\n",
    "For that, you must find a step-by-step path to each target recursively.\n",
    "\n",
    "\n",
    "## How to\n",
    "\n",
    "Execute the code segments one after another. Each chapter in this notebook serves its purpose.\n",
    "\n",
    "* **Load Package** - How to load the package of the assignment\n",
    "* **Prepared code** - Some prepared code, containing parameters and functions for the world. Don't touch that.\n",
    "* **Assignment code** - Your assignment. This is where you need to write code. Solve the missing TODOs by implementing the functionality described.\n",
    "* **Testing** - With these functions you can test your program. Add more code blocks here if you want to test specific functions.\n",
    "\n",
    "You have completed the assignment when the robot picks up all the treasures in the world. Your grade depends on your individual implementation in the **Assignment code**.\n",
    "\n",
    "## Load Package\n",
    "\n",
    "Execute the code of the following section to load this assignments code."
   ]
  },
  {
   "cell_type": "code",
   "execution_count": null,
   "id": "0b4445c8-d975-4cd0-9dfd-48f3cbe9f7db",
   "metadata": {},
   "outputs": [],
   "source": [
    ";; Adds the directory of this assignment into the ASDF registry\n",
    "(let* ((lecture-path '(:absolute \"home\" \"lectures\" \"robot_programming_with_lisp\"))\n",
    "       (assignment-path (append lecture-path '(\"05_pathfinder\")))\n",
    "       (bullet-path (append lecture-path '(\"bullet_wrapper\"))))\n",
    "      (pushnew (make-pathname :directory assignment-path) asdf:*central-registry*)\n",
    "      (pushnew (make-pathname :directory bullet-path) asdf:*central-registry*))"
   ]
  },
  {
   "cell_type": "code",
   "execution_count": null,
   "id": "2dc8641e-763b-4acd-bd76-fc65ddd7217b",
   "metadata": {
    "tags": []
   },
   "outputs": [],
   "source": [
    ";; Loads the ASDF system of this assignment\n",
    "(asdf:load-system :pathfinder)"
   ]
  },
  {
   "cell_type": "code",
   "execution_count": null,
   "id": "8e0c8add-c57e-4cdb-8461-c125691be725",
   "metadata": {},
   "outputs": [],
   "source": [
    ";; Makes this assignment as the current namespace\n",
    "(in-package :pathfinder)"
   ]
  },
  {
   "cell_type": "markdown",
   "id": "3091a6aa-095e-47fa-931e-6a90fe8cdbe6",
   "metadata": {},
   "source": [
    "## Prepared Code\n",
    "\n",
    "The oop-world from the last assignment is already implemented."
   ]
  },
  {
   "cell_type": "code",
   "execution_count": null,
   "id": "b7eb186d-eafd-438e-9285-2e95a3512636",
   "metadata": {},
   "outputs": [],
   "source": [
    "(defparameter *world* (initialize-world))"
   ]
  },
  {
   "cell_type": "markdown",
   "id": "16ed050f-8143-446e-9f06-c29f62372ea1",
   "metadata": {},
   "source": [
    "## Assignment Code - Robot Actions\n",
    "\n",
    "This code focuses on the actions of the robot: move, collect, deposit"
   ]
  },
  {
   "cell_type": "code",
   "execution_count": null,
   "id": "ace6bacf-7f86-4790-a72f-7fec2209a55d",
   "metadata": {},
   "outputs": [],
   "source": [
    "(defgeneric valid-move (robot x y orientation)\n",
    "  (:documentation \"Checks the attempted move. The following operations are valid:\n",
    "                  a) change the orientation while x and y are the robot's coordinates.\n",
    "                  b) the robot's pose doesn't change.\n",
    "                  c) take one step towards the current orientation without changing the orientation.\n",
    "                  In other words: either turn, stay or make a step forward.\")\n",
    "  (:method ((robot robot) x y orientation)\n",
    "    ;; TODO implement\n",
    "    T))"
   ]
  },
  {
   "cell_type": "code",
   "execution_count": null,
   "id": "8db68e33-6966-4fd6-8950-929376fa4a8c",
   "metadata": {},
   "outputs": [],
   "source": [
    "(defgeneric valid-coord (x y world)\n",
    "  (:documentation \"Checks if the coordinates are within bounds (15x16) and unoccupied \n",
    "                  by walls, treasures or depots.\")\n",
    "  (:method (x y (world treasure-world))\n",
    "    ;; TODO implement\n",
    "    T))"
   ]
  },
  {
   "cell_type": "code",
   "execution_count": null,
   "id": "a6af65d5-ebb4-460b-9cf6-5613c25e64d7",
   "metadata": {},
   "outputs": [],
   "source": [
    "(defgeneric collect-treasure (robot)\n",
    "  (:documentation \"Collects the treasure laying in front of the robot, if there is any,\n",
    "                  and puts it into a free slot in his trunk.\")\n",
    "  (:method ((robot robot))\n",
    "    ;; TODO implement\n",
    "    ))"
   ]
  },
  {
   "cell_type": "code",
   "execution_count": null,
   "id": "8bdc49c3-08a4-4db0-ad62-f6f790a8a7e8",
   "metadata": {},
   "outputs": [],
   "source": [
    "(defgeneric deposit-treasure (robot)\n",
    "  (:documentation \"While standing in front of a depot, removes all treasures in the trunk\n",
    "                  that match the color of the depot.\")\n",
    "  (:method ((robot robot))\n",
    "    ;; TODO implement\n",
    "    ))"
   ]
  },
  {
   "cell_type": "code",
   "execution_count": null,
   "id": "c8fb2841-91fe-4cf0-b666-c75eb80bd50d",
   "metadata": {},
   "outputs": [],
   "source": [
    "(defgeneric move (robot x y &optional orientation)\n",
    "  (:documentation \"Moves the robot if `valid-move' approves. Also counts the total of moves made.\"))\n",
    "\n",
    ";; TODO Embed the move method in a closure. Within this closure, increment a local variable\n",
    ";;      for each successful move made. No defparameter, defvar etc. allowed, the variable\n",
    ";;      must not be visible from the outside.\n",
    ";; TODO Within the closure, alongside the move method, define a function that returns the\n",
    ";;      value of the local movement counter.\n",
    ";;\n",
    ";; The goal is to monitor the amount of steps we made after taking a path, or multiple paths.\n",
    ";; The variable resets with every compilation of the code.\n",
    "(defmethod move ((robot robot) x y &optional orientation)\n",
    "  (if (not (valid-move robot x y orientation))\n",
    "      (warn \"The action is invalid. Either turn the robot or move forward.\")\n",
    "      (when (valid-coord x y (world robot))\n",
    "          (setf (coord robot) (make-coordinate :x x :y y))\n",
    "          (setf (orientation robot) orientation))))"
   ]
  },
  {
   "cell_type": "markdown",
   "id": "7f9a5d6a-a040-4d95-8e14-d4b5996945e1",
   "metadata": {},
   "source": [
    "## Testing - Robot Actions"
   ]
  },
  {
   "cell_type": "code",
   "execution_count": null,
   "id": "772098e5-c4e0-4539-9abb-1670b1019d06",
   "metadata": {},
   "outputs": [],
   "source": [
    "(defparameter *world* (initialize-world))"
   ]
  },
  {
   "cell_type": "code",
   "execution_count": null,
   "id": "6482ca5e-e3bc-4128-a222-b23a9d6e5de7",
   "metadata": {},
   "outputs": [],
   "source": [
    "(coord (robot *world*))"
   ]
  },
  {
   "cell_type": "code",
   "execution_count": null,
   "id": "bc1d7c59-7e41-4d8d-9c4c-2558b1a5ea80",
   "metadata": {},
   "outputs": [],
   "source": [
    "(orientation (robot *world*))"
   ]
  },
  {
   "cell_type": "code",
   "execution_count": null,
   "id": "ccb06ba2-41ea-4a74-870e-43396a40be9d",
   "metadata": {},
   "outputs": [],
   "source": [
    "(coord (first (treasures *world*)))"
   ]
  },
  {
   "cell_type": "code",
   "execution_count": null,
   "id": "8b6804d0-e10d-43e7-81b9-13568a116d16",
   "metadata": {},
   "outputs": [],
   "source": [
    "(trunk (robot *world*))"
   ]
  },
  {
   "cell_type": "code",
   "execution_count": null,
   "id": "fcfbbd2e-da75-4173-a29d-870ba0a72e94",
   "metadata": {},
   "outputs": [],
   "source": [
    "(aref (trunk (robot *world*)) 0)"
   ]
  },
  {
   "cell_type": "code",
   "execution_count": null,
   "id": "607af01b-c0b1-43f0-a0b4-a2999530b44e",
   "metadata": {},
   "outputs": [],
   "source": [
    "(gethash :RED (depots *world*))"
   ]
  },
  {
   "cell_type": "code",
   "execution_count": null,
   "id": "c5db09f9-7ca5-4100-840b-a6a7de618e27",
   "metadata": {},
   "outputs": [],
   "source": [
    "(let* ((robot-coords (coord (robot *world*)))\n",
    "       (robot-x (coordinate-x robot-coords))\n",
    "       (robot-y (coordinate-y robot-coords))\n",
    "       (robot-orientation (orientation (robot *world*))))\n",
    "      (move (robot *world*) robot-x robot-y robot-orientation)\n",
    "      (move (robot *world*) robot-x robot-y :NORTH)\n",
    "      (move (robot *world*) robot-x robot-y :SOUTH)\n",
    "      (move (robot *world*) robot-x robot-y :EAST)\n",
    "      (move (robot *world*) robot-x robot-y :WEST))"
   ]
  },
  {
   "cell_type": "markdown",
   "id": "271e7c55-bed2-431a-834b-353b16adf55f",
   "metadata": {},
   "source": [
    "## Assignment Code - Pathfinding\n",
    "\n",
    "This part does depth-first-search to find a step-by-step path between the robot and its goal. One steo in that path is a triple of x, y and orientation, like `(3 5 :NORTH)`. A path complete path is a sequence of consecutive steps, that the robot can follow. This is an example path for a robot standing in `(1 3 :EAST)` to find a treasure in `(1 4)`:\n",
    "\n",
    "`((1 3 :EAST) (1 3 :SOUTH) (1 3 :WEST))`\n",
    "\n",
    "Another possible path is:\n",
    "\n",
    "`((1 3 :EAST) (1 3 :NORTH) (2 3 :NORTH) (2 3 :WEST) (2 4 :WEST) (2 5 :WEST)\n",
    " (2 6 :WEST) (2 6 :SOUTH) (1 6 :SOUTH) (1 6 :EAST) (1 5 :EAST))`\n",
    " \n",
    "In both cases the robot starts at its current position and ends facing the target entity."
   ]
  },
  {
   "cell_type": "code",
   "execution_count": null,
   "id": "aaaf21d0-730d-4953-a5de-4cf585f61ca0",
   "metadata": {},
   "outputs": [],
   "source": [
    "(defgeneric goal-reached (x y orientation goal)\n",
    "  (:documentation \"Checks if the coordinates and orientation are facing the given goal entity.\")\n",
    "  (:method (x y orientation (goal entity))\n",
    "    ;; TODO implement\n",
    "    T))"
   ]
  },
  {
   "cell_type": "code",
   "execution_count": null,
   "id": "d7724ee5-f59c-4ced-b802-aa658e6ea107",
   "metadata": {},
   "outputs": [],
   "source": [
    "(defun turn (orientation direction)\n",
    "  \"Returns the orientation after turning left or right.\n",
    "    ORIENTATION is a keyword, like the orientation of a robot.\n",
    "    DIRECTION is either :LEFT or :RIGHT.\"\n",
    "  ;; TODO implement\n",
    "  )"
   ]
  },
  {
   "cell_type": "code",
   "execution_count": null,
   "id": "951eb8f4-7d2b-4893-a881-97255e266f39",
   "metadata": {},
   "outputs": [],
   "source": [
    "(defun forward (x y orientation)\n",
    "  \"Returns the position and orientation after moving into ORIENTATION direction.\n",
    "    Returns x, y and orientation as multiple VALUES.\"\n",
    "  ;; TODO implement\n",
    "  )"
   ]
  },
  {
   "cell_type": "code",
   "execution_count": null,
   "id": "ccdd78df-fa91-4cd5-8c8a-ba836f9958a9",
   "metadata": {},
   "outputs": [],
   "source": [
    "(defun in-path (x y orientation path)\n",
    "  \"Checks if the given x, y and orientation is in the given path,\n",
    "    where path is a list of triples (x y orientation).\"\n",
    "    ;; TODO implement\n",
    "    )"
   ]
  },
  {
   "cell_type": "code",
   "execution_count": null,
   "id": "e80f9a79-8d1f-4a17-928a-973d4a67ccf6",
   "metadata": {},
   "outputs": [],
   "source": [
    "(defgeneric find-path (x y orientation goal &optional path)\n",
    "  (:documentation \"Recursively constructs a `path' from given x, y and orientation, up until the `goal'.\n",
    "                  Returns the path as a list of (x y orientation) entries. The path ends when facing the goal.\n",
    "                  This is a depth-first-search approach.\")\n",
    "  (:method (x y orientation (goal entity) &optional path)\n",
    "           ;; TODO implement\n",
    "           ))"
   ]
  },
  {
   "cell_type": "code",
   "execution_count": null,
   "id": "e24878ef-305b-4eee-b7e4-22f771061452",
   "metadata": {},
   "outputs": [],
   "source": [
    ";; TODO implement FIND-PATH extra\n",
    ";; Embed the FIND-PATH method in a closure, like for the MOVE method,\n",
    ";; and define a local variable.\n",
    ";; Increase the value of the variable every time a step hits a dead end."
   ]
  },
  {
   "cell_type": "markdown",
   "id": "fcc63a19-b668-44c4-af72-4a2470ba3781",
   "metadata": {},
   "source": [
    "## Testing - Pathfinding"
   ]
  },
  {
   "cell_type": "code",
   "execution_count": null,
   "id": "75729dc5-7927-4e4a-83b9-b80b82c4375c",
   "metadata": {},
   "outputs": [],
   "source": [
    "(defparameter *world* (initialize-world))"
   ]
  },
  {
   "cell_type": "code",
   "execution_count": null,
   "id": "7f6db6ab-046b-43b7-a582-7f1fd5a47c2c",
   "metadata": {},
   "outputs": [],
   "source": [
    "(treasures *world*)"
   ]
  },
  {
   "cell_type": "code",
   "execution_count": null,
   "id": "df30210c-cc0a-4c8c-becc-9c372c04b8d3",
   "metadata": {},
   "outputs": [],
   "source": [
    "(coord (robot *world*))"
   ]
  },
  {
   "cell_type": "code",
   "execution_count": null,
   "id": "ea6ab9f0-c897-446d-89b2-762b7fa7f952",
   "metadata": {},
   "outputs": [],
   "source": [
    "(orientation (robot *world*))"
   ]
  },
  {
   "cell_type": "code",
   "execution_count": null,
   "id": "4659a087-47c0-45df-a5b8-3410e56f8932",
   "metadata": {},
   "outputs": [],
   "source": [
    ";; Test find-path function to treasure\n",
    "(let* ((robot-coords (coord (robot *world*)))\n",
    "       (robot-x (coordinate-x robot-coords))\n",
    "       (robot-y (coordinate-y robot-coords))\n",
    "       (robot-orientation (orientation (robot *world*)))\n",
    "       (goal-treasure (nth 1 (treasures *world*)))) ;; change this to test other treasures\n",
    "  (find-path robot-x robot-y robot-orientation goal-treasure))"
   ]
  },
  {
   "cell_type": "code",
   "execution_count": null,
   "id": "f95bd866-0c8d-47ce-ae16-3e2e4920b8f2",
   "metadata": {},
   "outputs": [],
   "source": [
    "(follow-path (robot *world*) *)"
   ]
  },
  {
   "cell_type": "code",
   "execution_count": null,
   "id": "0da88b5a-2f4a-4a06-ab3e-b0dba8667883",
   "metadata": {},
   "outputs": [],
   "source": [
    "(collect-treasure (robot *world*))"
   ]
  },
  {
   "cell_type": "code",
   "execution_count": null,
   "id": "245b672e-8f5f-46e5-9b06-140e527ebde8",
   "metadata": {},
   "outputs": [],
   "source": [
    "(gethash :RED (depots *world*))"
   ]
  },
  {
   "cell_type": "code",
   "execution_count": null,
   "id": "a3d8445f-9be4-4db7-83f8-e3da9f1f86c7",
   "metadata": {},
   "outputs": [],
   "source": [
    ";; Test find-path function to depot\n",
    "(let* ((robot-coords (coord (robot *world*)))\n",
    "       (robot-x (coordinate-x robot-coords))\n",
    "       (robot-y (coordinate-y robot-coords))\n",
    "       (robot-orientation (orientation (robot *world*)))\n",
    "       (goal-depot (gethash :RED (depots *world*))))\n",
    "  (find-path robot-x robot-y robot-orientation goal-depot))"
   ]
  },
  {
   "cell_type": "code",
   "execution_count": null,
   "id": "a284605f-65aa-4fe3-90d3-29466b7c2f5d",
   "metadata": {},
   "outputs": [],
   "source": [
    "(follow-path (robot *world*) *)"
   ]
  },
  {
   "cell_type": "code",
   "execution_count": null,
   "id": "3bcec98b-3b92-4913-937a-1d9e0a95e4fc",
   "metadata": {},
   "outputs": [],
   "source": [
    "(deposit-treasure (robot *world*))"
   ]
  },
  {
   "cell_type": "code",
   "execution_count": null,
   "id": "32a32578-47d9-40c2-a154-18e211c6e660",
   "metadata": {},
   "outputs": [],
   "source": [
    "(discover-world *world*)"
   ]
  },
  {
   "cell_type": "markdown",
   "id": "dc08338e-ae29-44c1-a83f-a5186c9b5a2e",
   "metadata": {},
   "source": [
    "The following functions are already compiled."
   ]
  },
  {
   "cell_type": "code",
   "execution_count": null,
   "id": "94fe2d9d-987b-4f4c-a20d-9c904738d513",
   "metadata": {},
   "outputs": [],
   "source": [
    "(defgeneric follow-path (robot path)\n",
    "  (:documentation \"After calculating the path with find-path,\n",
    "move along the given path.\"))\n",
    "\n",
    "(defmethod follow-path ((robot robot) path)\n",
    "  (mapcar (lambda (step)\n",
    "                  (destructuring-bind (x y o) step\n",
    "                      (move robot x y o)))\n",
    "                  path))\n",
    "\n",
    "(defgeneric test-path (world)\n",
    "  (:documentation \"Go to a random treasure in the world and put it to the right depot.\")\n",
    "  (:method ((world treasure-world))\n",
    "    (let* ((treasure (nth (random (length (treasures world))) (treasures world)))\n",
    "           (depot (gethash (color treasure) (depots world)))\n",
    "           (treasure-path (find-path (coordinate-x (coord (robot world)))\n",
    "                                     (coordinate-y (coord (robot world)))\n",
    "                                     (orientation (robot world))\n",
    "                                     treasure)))\n",
    "      (when treasure-path\n",
    "        (follow-path (robot world) treasure-path)\n",
    "        (collect-treasure (robot world))\n",
    "        (follow-path (robot world) (find-path (coordinate-x (coord (robot world)))\n",
    "                                              (coordinate-y (coord (robot world)))\n",
    "                                              (orientation (robot world))\n",
    "                                              depot))\n",
    "        (deposit-treasure (robot world))))))\n",
    "\n",
    "(defmethod discover-world ((world treasure-world))\n",
    "  (test-path world))"
   ]
  }
 ],
 "metadata": {
  "kernelspec": {
   "display_name": "Common Lisp",
   "language": "common-lisp",
   "name": "common-lisp"
  },
  "language_info": {
   "codemirror_mode": "text/x-common-lisp",
   "file_extension": ".lisp",
   "mimetype": "text/x-common-lisp",
   "name": "common-lisp",
   "pygments_lexer": "common-lisp",
   "version": "2.0.1.debian"
  }
 },
 "nbformat": 4,
 "nbformat_minor": 5
}
