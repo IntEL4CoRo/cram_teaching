{
 "cells": [
  {
   "cell_type": "markdown",
   "id": "684e4fcd-10cf-45a8-8dfa-173f3b48209a",
   "metadata": {},
   "source": [
    "# Robot Programming with Lisp - 5. More Functional Programming\n",
    "**Lexical Scope, Closures, Recursion, Macros**\n",
    "\n",
    "## Overview\n",
    "\n",
    "* Lexical Scopes\n",
    "* Closures\n",
    "* Recursion\n",
    "* Macros\n",
    "* Organizational"
   ]
  },
  {
   "cell_type": "markdown",
   "id": "068adae3-07d8-4355-b426-b4cee7675995",
   "metadata": {},
   "source": [
    "## The let environment"
   ]
  },
  {
   "cell_type": "code",
   "execution_count": null,
   "id": "20f6ecca-7f14-4163-ad6c-e1d3604694a8",
   "metadata": {},
   "outputs": [],
   "source": [
    ";; let\n",
    "(let ((a 1)\n",
    "      (b 2))\n",
    "     (values a b))"
   ]
  },
  {
   "cell_type": "code",
   "execution_count": null,
   "id": "1cdfa1ab-72f3-407b-a443-619061972a2c",
   "metadata": {},
   "outputs": [],
   "source": [
    "(values a b)"
   ]
  },
  {
   "cell_type": "code",
   "execution_count": null,
   "id": "2d27c5b3-3f2a-449b-bed0-680dae75eb86",
   "metadata": {},
   "outputs": [],
   "source": [
    "(defvar some-var 'global)\n",
    "(let ((some-var 'outer))\n",
    "     (let ((some-var 'inter))\n",
    "          (format t \"some-var inner: ~a~%\" some-var))\n",
    "     (format t \"some-var outer: ~a~%\" some-var))\n",
    "(format t \"global-var: ~a~%\" some-var)"
   ]
  },
  {
   "cell_type": "code",
   "execution_count": null,
   "id": "6e5597e3-8ab4-4e25-a03a-d06b1aa32805",
   "metadata": {},
   "outputs": [],
   "source": [
    ";; let*\n",
    "(let ((a 4)\n",
    "      (a^2 (expt a 2)))\n",
    "     (values a a^2))"
   ]
  },
  {
   "cell_type": "code",
   "execution_count": null,
   "id": "110c2764-8d82-4b80-bad8-1e9d66539b61",
   "metadata": {},
   "outputs": [],
   "source": [
    "(let* ((a 4)\n",
    "       (a^2 (expt a 2)))\n",
    "      (values a a^2))"
   ]
  },
  {
   "cell_type": "markdown",
   "id": "e33a562d-ee55-4e56-8695-1ad3cada74d8",
   "metadata": {},
   "source": [
    "## Lexical Variables\n",
    "\n",
    "In Lisp, non-global variable values are, when possible, **determined at\n",
    "compile time**. They are **bound lexically**, i.e. they are bound to the\n",
    "code they’re defined in, not to the run-time state of the program. \n",
    "\n",
    "This is one single let block, therefore lexical-var is the same everywhere in the block."
   ]
  },
  {
   "cell_type": "code",
   "execution_count": null,
   "id": "9fe50be0-0423-4800-b8ca-07a9e15071fd",
   "metadata": {},
   "outputs": [],
   "source": [
    ";; Riddle 1\n",
    "(let* ((lexical-var 304)\n",
    "       (some-lambda (lambda () (+ lexical-var 100))))\n",
    "      (setf lexical-var 4)\n",
    "      (funcall some-lambda))"
   ]
  },
  {
   "cell_type": "code",
   "execution_count": null,
   "id": "7c5fd818-acea-4784-82f4-dad682f729d9",
   "metadata": {},
   "outputs": [],
   "source": [
    ";; Lexical scope with lambda and defun\n",
    "(defun return-x (x)\n",
    "    (let ((x 304))\n",
    "         x))\n",
    "\n",
    "(return-x 3)"
   ]
  },
  {
   "cell_type": "markdown",
   "id": "c3b53552-a743-4394-85d3-291978494414",
   "metadata": {},
   "source": [
    "lambda-s and defun-s create lexical local variables per default."
   ]
  },
  {
   "cell_type": "code",
   "execution_count": null,
   "id": "78a340f0-c974-4ad4-87ef-36ff5c7abd0c",
   "metadata": {},
   "outputs": [],
   "source": [
    ";; More Examples\n",
    "(let* ((lexical-var 304)\n",
    "       (some-lambda (lambda () (+ lexical-var 100))))\n",
    "      (setf lexical-var 4)\n",
    "      (funcall some-lambda))"
   ]
  },
  {
   "cell_type": "code",
   "execution_count": null,
   "id": "992aa93e-7706-469e-abeb-9c315135ab13",
   "metadata": {
    "tags": []
   },
   "outputs": [],
   "source": [
    "lexical-var"
   ]
  },
  {
   "cell_type": "code",
   "execution_count": null,
   "id": "5d42db37-d9ae-43bb-bc90-8629b7d762cb",
   "metadata": {
    "tags": []
   },
   "outputs": [],
   "source": [
    "(let ((another-var 304)\n",
    "      (another-lambda (lambda () (+ another-var 100))))\n",
    "     (setf another-var 4)\n",
    "     (funcall another-lambda))"
   ]
  },
  {
   "cell_type": "code",
   "execution_count": null,
   "id": "f2eaa747-361a-447b-ab6d-d9f05f44c695",
   "metadata": {},
   "outputs": [],
   "source": [
    "(let ((other-lambda (lambda () (+ other-var 100))))\n",
    "     (setf other-var 4)\n",
    "     (funcall other-lambda))"
   ]
  },
  {
   "cell_type": "code",
   "execution_count": null,
   "id": "643f67e5-16a1-4fb1-8cae-951efbc45866",
   "metadata": {},
   "outputs": [],
   "source": [
    "other-var"
   ]
  },
  {
   "cell_type": "code",
   "execution_count": null,
   "id": "d0301afb-5711-441c-af59-c21704d68249",
   "metadata": {},
   "outputs": [],
   "source": [
    "(describe 'other-var)"
   ]
  },
  {
   "cell_type": "code",
   "execution_count": null,
   "id": "6b9e37cf-c6e4-4003-ae23-10370304ee58",
   "metadata": {},
   "outputs": [],
   "source": [
    "(let ((some-var 304))\n",
    "     (defun some-fun () (+ some-var 100))\n",
    "     (setf some-var 4)\n",
    "     (funcall #'some-fun))\n",
    "\n",
    ";; defun is compiled into\n",
    ";; (defmacro-mundanely defun (&environment env name args &body body)\n",
    ";;     (multiple-value-bind (forms decls doc) (parse-body body)\n",
    ";;         (let* ((lambda-guts `(,args ...))\n",
    ";;                (lambda `(lambda ,@lambda-guts)) ..."
   ]
  },
  {
   "cell_type": "code",
   "execution_count": null,
   "id": "a01750f7-4ea9-42ca-80de-81cecdc34988",
   "metadata": {},
   "outputs": [],
   "source": [
    ";; Riddle 2\n",
    "(let ((lex 'initial-value))\n",
    "     \n",
    "  (defun return-lex ()\n",
    "    lex)\n",
    "     \n",
    "  (defun return-lex-arg (lex)\n",
    "    (return-lex))\n",
    "     \n",
    "  (format t \"return-lex: ~a~%\"\n",
    "          (return-lex))\n",
    "     \n",
    "  (format t \"return-lex-arg: ~a~%\"\n",
    "          (return-lex-arg 'new-value))\n",
    "     \n",
    "  (format t \"return-lex again: ~a~%\"\n",
    "          (return-lex)))"
   ]
  },
  {
   "cell_type": "code",
   "execution_count": null,
   "id": "58167bdf-2474-481d-a4a8-99d3d8b7e135",
   "metadata": {},
   "outputs": [],
   "source": [
    ";; Riddle 3\n",
    "(defvar dyn 'initial-value)\n",
    "\n",
    "(defun return-dyn ()\n",
    "    dyn)\n",
    "\n",
    "(defun return-dyn-arg (dyn)\n",
    "    (return-dyn))"
   ]
  },
  {
   "cell_type": "code",
   "execution_count": null,
   "id": "8f4e3148-c238-435b-9d97-f25a606e73f7",
   "metadata": {},
   "outputs": [],
   "source": [
    "(format t \"return-dyn: ~a~%\" (return-dyn))\n",
    "\n",
    "(format t \"return-dyn-arg: ~a~%\" (return-dyn-arg 'new-value))\n",
    "\n",
    "(format t \"return-dyn again: ~a~%\" (return-dyn))"
   ]
  },
  {
   "cell_type": "markdown",
   "id": "44676159-ffd2-4162-a5a4-7905509c4933",
   "metadata": {},
   "source": [
    "## Local Function Definitions"
   ]
  },
  {
   "cell_type": "code",
   "execution_count": null,
   "id": "be87c861-eb8a-4333-b541-9bee0f5c9fca",
   "metadata": {},
   "outputs": [],
   "source": [
    ";; flet\n",
    "\n",
    "(defun some-pseudo-code ()\n",
    "    (flet ((do-something (arg-1)\n",
    "               (format t \"doing something ~a now...~%\" arg-1)))\n",
    "          (format t \"hello.~%\")\n",
    "          (do-something \"nice\")\n",
    "          (format t \"hello once again.~%\")\n",
    "          (do-something \"evil\")))"
   ]
  },
  {
   "cell_type": "code",
   "execution_count": null,
   "id": "4760d306-4680-4547-bfcf-5e361931dd25",
   "metadata": {},
   "outputs": [],
   "source": [
    "(some-pseudo-code)"
   ]
  },
  {
   "cell_type": "code",
   "execution_count": null,
   "id": "69e5a76d-3bdf-48ad-a65e-83a8d8e26065",
   "metadata": {
    "tags": []
   },
   "outputs": [],
   "source": [
    "(do-something)"
   ]
  },
  {
   "cell_type": "code",
   "execution_count": null,
   "id": "a53cd2b8-a95a-41ed-af0d-b646280fa1a7",
   "metadata": {},
   "outputs": [],
   "source": [
    ";; flet, labels\n",
    "\n",
    "(let* ((lexical-var 304)\n",
    "       (some-lambda (lambda () (+ lexical-var 100))))\n",
    "      (let ((lexical-var 4))\n",
    "           (funcall some-lambda)))"
   ]
  },
  {
   "cell_type": "code",
   "execution_count": null,
   "id": "bf1cb18b-f5eb-4a65-a824-abd852b0d3f4",
   "metadata": {},
   "outputs": [],
   "source": [
    "(let ((lexical-var 304))\n",
    "     (flet ((some-function () (+ lexical-var 100)))\n",
    "           (let ((lexical-var 4))\n",
    "                (some-function))))"
   ]
  },
  {
   "cell_type": "code",
   "execution_count": null,
   "id": "668b9a2b-7a14-4855-90d3-a71c992e73fd",
   "metadata": {},
   "outputs": [],
   "source": [
    "(labels ((first-fun () (format t \"inside FIRST~%\"))\n",
    "         (second-fun ()\n",
    "                     (format t \"inside SECOND~%\")\n",
    "                     (first-fun)))\n",
    "        (second-fun))"
   ]
  },
  {
   "cell_type": "markdown",
   "id": "293e80ec-d90e-4c71-85fa-937a01d5b974",
   "metadata": {},
   "source": [
    "## Closures"
   ]
  },
  {
   "cell_type": "code",
   "execution_count": null,
   "id": "bae06602-6cb2-47c8-b243-cab7978323aa",
   "metadata": {},
   "outputs": [],
   "source": [
    ";; Counter\n",
    "\n",
    "(defun increment-counter ()\n",
    "  (let ((counter 0))\n",
    "    (incf counter)))\n",
    "(increment-counter)\n",
    "(increment-counter)"
   ]
  },
  {
   "cell_type": "code",
   "execution_count": null,
   "id": "1e285a89-c9b7-40e8-ab76-bdf7aad945d7",
   "metadata": {},
   "outputs": [],
   "source": [
    "(defvar *counter* 0)\n",
    "(defun increment-counter-function ()\n",
    "    (incf *counter*))\n",
    "(increment-counter-function)\n",
    "(increment-counter-function)"
   ]
  },
  {
   "cell_type": "code",
   "execution_count": null,
   "id": "0f6a7280-c24f-4fff-a97b-5d92b0ab0145",
   "metadata": {},
   "outputs": [],
   "source": [
    "(setf *counter* 5)"
   ]
  },
  {
   "cell_type": "code",
   "execution_count": null,
   "id": "f05abf7b-f357-42aa-8cd7-57548e39c565",
   "metadata": {},
   "outputs": [],
   "source": [
    "(increment-counter-function)"
   ]
  },
  {
   "cell_type": "markdown",
   "id": "9ec041b8-60db-4dc0-9ceb-535052cfc2f9",
   "metadata": {},
   "source": [
    "Closure is a function that, in addition to its specific functionality, also\n",
    "encloses its lexical environment. **Encapsulation!**"
   ]
  },
  {
   "cell_type": "code",
   "execution_count": null,
   "id": "eaf8ca4e-7638-43f5-8a3a-548aa15018b5",
   "metadata": {},
   "outputs": [],
   "source": [
    ";; Counter As Closure\n",
    "\n",
    "(let ((counter 0))\n",
    "     (defun increment-counter-closure ()\n",
    "         (incf counter)))\n",
    "(increment-counter-closure)\n",
    "(increment-counter-closure)"
   ]
  },
  {
   "cell_type": "code",
   "execution_count": null,
   "id": "dfc1b1a1-32cf-4be1-a2b7-0182738e7e34",
   "metadata": {},
   "outputs": [],
   "source": [
    "#'increment-counter-function"
   ]
  },
  {
   "cell_type": "code",
   "execution_count": null,
   "id": "b18fdb37-eba1-415e-a632-614234f6896f",
   "metadata": {},
   "outputs": [],
   "source": [
    "#'increment-counter-closure"
   ]
  },
  {
   "cell_type": "code",
   "execution_count": null,
   "id": "9f807de4-4dc0-430a-bf4e-36f1708ef446",
   "metadata": {
    "tags": []
   },
   "outputs": [],
   "source": [
    "counter"
   ]
  },
  {
   "cell_type": "code",
   "execution_count": null,
   "id": "cab38648-7751-43ee-9195-b678926095ff",
   "metadata": {},
   "outputs": [],
   "source": [
    ";; Creating Closures\n",
    "\n",
    "(let ((input (read)))\n",
    "     (lambda () (print input)))"
   ]
  },
  {
   "cell_type": "code",
   "execution_count": null,
   "id": "89649077-76b3-49e7-83fd-b6a7449f55f1",
   "metadata": {},
   "outputs": [],
   "source": [
    "(funcall *)"
   ]
  },
  {
   "cell_type": "code",
   "execution_count": null,
   "id": "b8385945-0a0f-4407-852b-00d0707272e7",
   "metadata": {},
   "outputs": [],
   "source": [
    "(alexandria:curry #'expt 10)"
   ]
  },
  {
   "cell_type": "code",
   "execution_count": null,
   "id": "69c77fb6-b4fd-47f0-9929-005db8208cff",
   "metadata": {},
   "outputs": [],
   "source": [
    "(funcall * 3)"
   ]
  },
  {
   "cell_type": "code",
   "execution_count": null,
   "id": "d8ab142c-f707-40d5-8aa1-0c4c57e23c2d",
   "metadata": {},
   "outputs": [],
   "source": [
    "(defvar *input* (read))"
   ]
  },
  {
   "cell_type": "code",
   "execution_count": null,
   "id": "661b3e7c-9f43-4058-8df4-e734ddcbbca3",
   "metadata": {},
   "outputs": [],
   "source": [
    "(lambda () (print *input*))"
   ]
  },
  {
   "cell_type": "markdown",
   "id": "c52461eb-af01-42e9-b0ae-fed1346ee7ee",
   "metadata": {},
   "source": [
    "## Recursion"
   ]
  },
  {
   "cell_type": "code",
   "execution_count": null,
   "id": "4ede0bb8-b0fe-495d-9ab3-2ca9361313bb",
   "metadata": {},
   "outputs": [],
   "source": [
    ";; Primitive Example\n",
    "\n",
    "(defun dummy-recursion (my-list)\n",
    "    (when my-list\n",
    "        (dummy-recursion (rest my-list))))"
   ]
  },
  {
   "cell_type": "code",
   "execution_count": null,
   "id": "898860c2-16b9-44ac-bc8a-2c2c7ed2a320",
   "metadata": {},
   "outputs": [],
   "source": [
    "(trace dummy-recursion)"
   ]
  },
  {
   "cell_type": "code",
   "execution_count": null,
   "id": "7264258d-06d8-4699-bc7b-6ed12dfcd699",
   "metadata": {},
   "outputs": [],
   "source": [
    "(dummy-recursion '(1 2 3 4 5))"
   ]
  },
  {
   "cell_type": "code",
   "execution_count": null,
   "id": "bafa8e46-3e93-431a-8d4b-b32c43df7a8f",
   "metadata": {},
   "outputs": [],
   "source": [
    ";; Primitive Example 2\n",
    "\n",
    "(defun print-list (list)\n",
    "    (format t \"list: ~a\" list)\n",
    "    (when list\n",
    "        (format t \" -> first: ~a~%\" (first list))\n",
    "        (print-list (rest list))))"
   ]
  },
  {
   "cell_type": "code",
   "execution_count": null,
   "id": "7744fd69-73f4-45ce-86f6-dcac1d73a946",
   "metadata": {},
   "outputs": [],
   "source": [
    "(print-list '(1 2 3))"
   ]
  },
  {
   "cell_type": "code",
   "execution_count": null,
   "id": "0d1d60b5-87f1-4d34-abf1-3bc880725c5f",
   "metadata": {},
   "outputs": [],
   "source": [
    ";; reminder\n",
    "(mapl (lambda (list)\n",
    "              (format t \"list: ~a -> first: ~a~%\" list (first list)))\n",
    "      '(1 2 3))"
   ]
  },
  {
   "cell_type": "code",
   "execution_count": null,
   "id": "1b386223-b82d-45d1-9e82-9885b9da5e3c",
   "metadata": {},
   "outputs": [],
   "source": [
    ";; Length of a List: calculate on the way up\n",
    "\n",
    "(defun my-length (a-list)\n",
    "    (if (null a-list)\n",
    "        0\n",
    "        (+ 1 (my-length (rest a-list)))))"
   ]
  },
  {
   "cell_type": "code",
   "execution_count": null,
   "id": "2062deff-7f12-4f8d-b6fd-5db0fb79bc08",
   "metadata": {},
   "outputs": [],
   "source": [
    "(trace my-length)"
   ]
  },
  {
   "cell_type": "code",
   "execution_count": null,
   "id": "06ff5e8f-2d97-4517-aaba-5e3f62d8c857",
   "metadata": {},
   "outputs": [],
   "source": [
    "(my-length '(5 a 3 8))"
   ]
  },
  {
   "cell_type": "code",
   "execution_count": null,
   "id": "2bf3a8cd-bcea-4f69-8291-14868b5b4e50",
   "metadata": {},
   "outputs": [],
   "source": [
    ";; Length of a list: calculate on the way down — Accumulators\n",
    "\n",
    "(defun my-length-inner (a-list accumulator)\n",
    "    (if (null a-list)\n",
    "        accumulator\n",
    "        (my-length-inner (rest a-list) (1+ accumulator))))"
   ]
  },
  {
   "cell_type": "code",
   "execution_count": null,
   "id": "e0fcf265-0c55-4cd7-88f8-9facd5025fb1",
   "metadata": {},
   "outputs": [],
   "source": [
    "(trace my-length-inner)"
   ]
  },
  {
   "cell_type": "code",
   "execution_count": null,
   "id": "0731afd7-7488-4b93-aa00-af41223c53f7",
   "metadata": {},
   "outputs": [],
   "source": [
    "(my-length-inner '(5 a 3 8) 0)"
   ]
  },
  {
   "cell_type": "code",
   "execution_count": null,
   "id": "07d6ccd2-13df-4137-b2d0-fe1acdb8e009",
   "metadata": {},
   "outputs": [],
   "source": [
    ";; Length of a list: passing initial accumulator value\n",
    "\n",
    "(defun my-length-outer (a-list)\n",
    "    (my-length-inner a-list 0))"
   ]
  },
  {
   "cell_type": "code",
   "execution_count": null,
   "id": "68058373-b4fa-40b8-b5ff-f6ccd5975655",
   "metadata": {},
   "outputs": [],
   "source": [
    "(my-length-outer '(5 a 3 8))"
   ]
  },
  {
   "cell_type": "code",
   "execution_count": null,
   "id": "d0cf3fc5-b01b-4b25-bd1a-8d8357697374",
   "metadata": {},
   "outputs": [],
   "source": [
    ";; use &optional for initial and default values\n",
    "(defun my-length-acc (a-list &optional (accumulator 0))\n",
    "    (if (null a-list)\n",
    "        accumulator\n",
    "        (my-length-acc (rest a-list) (1+ accumulator))))"
   ]
  },
  {
   "cell_type": "code",
   "execution_count": null,
   "id": "be834543-3c3e-4925-ad4f-66e838df82d5",
   "metadata": {},
   "outputs": [],
   "source": [
    "(trace my-length-acc)"
   ]
  },
  {
   "cell_type": "code",
   "execution_count": null,
   "id": "5a756bc4-52e0-45a8-a594-6f18b7a09d17",
   "metadata": {},
   "outputs": [],
   "source": [
    "(my-length-acc '(6 3 nj ws))"
   ]
  },
  {
   "cell_type": "code",
   "execution_count": null,
   "id": "8b95029e-5c08-402b-a188-7fe9983bfd8c",
   "metadata": {},
   "outputs": [],
   "source": [
    ";; Tail Recursion Optimization\n",
    "\n",
    "(trace my-length-acc my-length)"
   ]
  },
  {
   "cell_type": "code",
   "execution_count": null,
   "id": "94796edc-d76a-4cca-94b4-59fb1db095f8",
   "metadata": {},
   "outputs": [],
   "source": [
    "(my-length '(a b c))"
   ]
  },
  {
   "cell_type": "code",
   "execution_count": null,
   "id": "ef09b0f8-d101-44d9-9600-27a8e515ed1f",
   "metadata": {},
   "outputs": [],
   "source": [
    "(my-length-acc '(a b c))"
   ]
  },
  {
   "cell_type": "code",
   "execution_count": null,
   "id": "e6fcea94-d641-4866-a079-e13391534e23",
   "metadata": {},
   "outputs": [],
   "source": [
    "(proclaim '(optimize speed))"
   ]
  },
  {
   "cell_type": "code",
   "execution_count": null,
   "id": "74ce77fa-4fae-4955-ac75-63b0b08d2ebe",
   "metadata": {},
   "outputs": [],
   "source": [
    "(defun my-length (a-list)\n",
    "    (if (null a-list)\n",
    "        0\n",
    "        (+ 1 (my-length (rest a-list)))))\n",
    "\n",
    "(defun my-length-acc (a-list &optional (accumulator 0))\n",
    "    (if (null a-list)\n",
    "        accumulator\n",
    "        (my-length-acc (rest a-list) (1+ accumulator))))"
   ]
  },
  {
   "cell_type": "code",
   "execution_count": null,
   "id": "cfec6703-088d-4385-8856-249b6104fb81",
   "metadata": {},
   "outputs": [],
   "source": [
    "(my-length-acc '(a b c))"
   ]
  },
  {
   "cell_type": "code",
   "execution_count": null,
   "id": "5705abf0-a456-4209-865a-06cede101623",
   "metadata": {},
   "outputs": [],
   "source": [
    "(my-length '(a b c))"
   ]
  },
  {
   "cell_type": "code",
   "execution_count": null,
   "id": "629a1d23-8557-4088-b9cc-356b42d77c5d",
   "metadata": {},
   "outputs": [],
   "source": [
    ";; What Does This Function Do?\n",
    "\n",
    "(defun sigma (n)\n",
    "    (labels ((sig (c n)\n",
    "                  (declare (type fixnum n c))\n",
    "                  (if (zerop n)\n",
    "                      c\n",
    "                      (sig (the fixnum (+ n c))\n",
    "                           (the fixnum (- n 1))))))\n",
    "            (sig 0 n)))"
   ]
  },
  {
   "cell_type": "code",
   "execution_count": null,
   "id": "097b3dcb-9e5d-48e5-b298-a05fa9b806fd",
   "metadata": {},
   "outputs": [],
   "source": [
    "(trace sigma)"
   ]
  },
  {
   "cell_type": "code",
   "execution_count": null,
   "id": "bf75a02a-54a5-4109-b107-31e5978b9bbf",
   "metadata": {},
   "outputs": [],
   "source": [
    "(sigma 5)"
   ]
  },
  {
   "cell_type": "code",
   "execution_count": null,
   "id": "90d061dd-961d-4d49-a06e-4d5b99729747",
   "metadata": {},
   "outputs": [],
   "source": [
    "(defun expects-float (arg-1)\n",
    "    (declare (type single-float arg-1))\n",
    "    (/ arg-1 5))"
   ]
  },
  {
   "cell_type": "code",
   "execution_count": null,
   "id": "665f08b0-8732-4e71-81af-7f925efae63b",
   "metadata": {},
   "outputs": [],
   "source": [
    "(expects-float 3.0)"
   ]
  },
  {
   "cell_type": "code",
   "execution_count": null,
   "id": "ce8ad03b-e762-4616-9751-4e17da37ef37",
   "metadata": {},
   "outputs": [],
   "source": [
    "(defun expects-fixnum (arg-1)\n",
    "    (declare (type fixnum arg-1))\n",
    "    (the ratio (/ arg-1 100)))"
   ]
  },
  {
   "cell_type": "code",
   "execution_count": null,
   "id": "f5f2675d-4113-44f0-9e0d-e0c4915bd913",
   "metadata": {},
   "outputs": [],
   "source": [
    "(expects-fixnum 5)"
   ]
  },
  {
   "cell_type": "markdown",
   "id": "73538226-2dc2-4d84-88f7-7308e541d906",
   "metadata": {},
   "source": [
    "## Macros - Generating Code"
   ]
  },
  {
   "cell_type": "code",
   "execution_count": null,
   "id": "c27da956-88d1-4dd8-bc85-bd0e41fd6103",
   "metadata": {},
   "outputs": [],
   "source": [
    "'(if t 'yes 'no)"
   ]
  },
  {
   "cell_type": "code",
   "execution_count": null,
   "id": "f0ed8477-69a0-4905-aa82-59473c6ff931",
   "metadata": {},
   "outputs": [],
   "source": [
    "(eval *)"
   ]
  },
  {
   "cell_type": "code",
   "execution_count": null,
   "id": "aaf6bcd9-8ea0-487d-80a5-364d89fb3694",
   "metadata": {},
   "outputs": [],
   "source": [
    "`(if t 'yes 'no)"
   ]
  },
  {
   "cell_type": "code",
   "execution_count": null,
   "id": "6c345655-4106-4c54-ac39-91010872dffc",
   "metadata": {},
   "outputs": [],
   "source": [
    "`((+ 1 2) ,(+ 3 4) (+ 5 6))"
   ]
  },
  {
   "cell_type": "code",
   "execution_count": null,
   "id": "fb26a3f5-1646-4d5e-b953-5577b5164629",
   "metadata": {},
   "outputs": [],
   "source": [
    "(let ((x 26))\n",
    "     `(if ,(oddp x)\n",
    "          'yes\n",
    "          'no))"
   ]
  },
  {
   "cell_type": "code",
   "execution_count": null,
   "id": "d20689e4-4e26-4db8-ae6b-95b7ba48e6f3",
   "metadata": {},
   "outputs": [],
   "source": [
    ";; Double Quotes\n",
    "\n",
    "''(+ 1 5)"
   ]
  },
  {
   "cell_type": "code",
   "execution_count": null,
   "id": "0395728f-cfdc-41bd-ad37-4f01f799f091",
   "metadata": {},
   "outputs": [],
   "source": [
    "(eval *)"
   ]
  },
  {
   "cell_type": "code",
   "execution_count": null,
   "id": "4e28148d-0cf5-4c04-b23d-7943f1c9a62b",
   "metadata": {},
   "outputs": [],
   "source": [
    "(eval *)"
   ]
  },
  {
   "cell_type": "code",
   "execution_count": null,
   "id": "7093c3c1-0039-4746-99a8-b583fde869ef",
   "metadata": {},
   "outputs": [],
   "source": [
    "'`(a ,(+ 1 2))"
   ]
  },
  {
   "cell_type": "code",
   "execution_count": null,
   "id": "d343adb3-6f1a-457e-8ed7-f00568e36a10",
   "metadata": {},
   "outputs": [],
   "source": [
    "(eval *)"
   ]
  },
  {
   "cell_type": "code",
   "execution_count": null,
   "id": "3ea0db8c-75ff-4e92-b12a-99921815c526",
   "metadata": {},
   "outputs": [],
   "source": [
    "`'(a ,(+ 1 2))"
   ]
  },
  {
   "cell_type": "markdown",
   "id": "3ea932cc-f069-451f-9540-63f6b4dab9d7",
   "metadata": {},
   "source": [
    "## Defining Macros\n",
    "\n",
    "### defmacro"
   ]
  },
  {
   "cell_type": "code",
   "execution_count": null,
   "id": "bec5fd60-bef1-492b-b23d-9c6abc21f2ad",
   "metadata": {},
   "outputs": [],
   "source": [
    "(defun x^3-fun (x)\n",
    "    (format t \"type of X is ~a~%\" (type-of x))\n",
    "    (* x x x))"
   ]
  },
  {
   "cell_type": "code",
   "execution_count": null,
   "id": "b596b08b-7a1e-45ae-923f-a1b048688e37",
   "metadata": {},
   "outputs": [],
   "source": [
    "(x^3-fun 4)"
   ]
  },
  {
   "cell_type": "code",
   "execution_count": null,
   "id": "017f65a9-aeb3-4cde-b9b7-f6b1dff75c2d",
   "metadata": {},
   "outputs": [],
   "source": [
    "(defmacro x^3-macro (x)\n",
    "    (format t \"type of X is ~a~%\" (type-of x))\n",
    "    (* x x x))"
   ]
  },
  {
   "cell_type": "code",
   "execution_count": null,
   "id": "d5de67b9-04e0-42c1-ad9a-ab48508b875c",
   "metadata": {},
   "outputs": [],
   "source": [
    "(x^3-macro 4)"
   ]
  },
  {
   "cell_type": "code",
   "execution_count": null,
   "id": "6cc69386-b712-4105-a003-8f4347fb9d06",
   "metadata": {},
   "outputs": [],
   "source": [
    "(x^3-macro (+ 2 2))"
   ]
  },
  {
   "cell_type": "code",
   "execution_count": null,
   "id": "5bc47f90-d259-46ca-b328-fa565ba616da",
   "metadata": {},
   "outputs": [],
   "source": [
    "(defun use-x^3 (a)\n",
    "    (x^3-macro a))"
   ]
  },
  {
   "cell_type": "markdown",
   "id": "d8462ed1-1a27-4b3d-abd4-25128605f977",
   "metadata": {},
   "source": [
    "### macroexpand"
   ]
  },
  {
   "cell_type": "code",
   "execution_count": null,
   "id": "67e62a70-fd1b-4b52-9d2a-1116e555baaa",
   "metadata": {},
   "outputs": [],
   "source": [
    "(defmacro x^3-backquote (x)\n",
    "    (format t \"type of X is ~a~%\" (type-of x))\n",
    "    `(* ,x ,x ,x))"
   ]
  },
  {
   "cell_type": "code",
   "execution_count": null,
   "id": "d2cc5268-8064-4b0a-9745-e1c152c934a1",
   "metadata": {},
   "outputs": [],
   "source": [
    "(defun use-x^3 (a)\n",
    "    (x^3-backquote a))"
   ]
  },
  {
   "cell_type": "code",
   "execution_count": null,
   "id": "d65a6831-baba-436c-852d-df6c4e892885",
   "metadata": {},
   "outputs": [],
   "source": [
    "(use-x^3 4)"
   ]
  },
  {
   "cell_type": "code",
   "execution_count": null,
   "id": "eec213c0-3dda-4671-8bdd-328d129b9721",
   "metadata": {},
   "outputs": [],
   "source": [
    "(macroexpand '(x^3-backquote 4))"
   ]
  },
  {
   "cell_type": "code",
   "execution_count": null,
   "id": "2e0953c0-f004-494d-9e40-6e1e017bb1b1",
   "metadata": {},
   "outputs": [],
   "source": [
    "(x^3-backquote (+ 2 2))"
   ]
  },
  {
   "cell_type": "code",
   "execution_count": null,
   "id": "b2dbb558-8791-445f-aa98-a1e68caa9ce2",
   "metadata": {},
   "outputs": [],
   "source": [
    "(macroexpand '(x^3-backquote (+ 2 2)))"
   ]
  },
  {
   "cell_type": "markdown",
   "id": "a17fed68-31ee-4ee2-952b-324bcd6c5599",
   "metadata": {},
   "source": [
    "### defmacro continued\n",
    "\n",
    "Macros transform code into other code by means of code."
   ]
  },
  {
   "cell_type": "code",
   "execution_count": null,
   "id": "84c01b19-4532-44c9-b6ce-043c26a9e488",
   "metadata": {},
   "outputs": [],
   "source": [
    "(defmacro x^3-let (x)\n",
    "    (format t \"type of X is ~a~%\" (type-of x))\n",
    "    `(let ((z ,x))\n",
    "          (* z z z)))"
   ]
  },
  {
   "cell_type": "code",
   "execution_count": null,
   "id": "1a7eaa70-a135-48bb-9579-b28ccf45a01f",
   "metadata": {},
   "outputs": [],
   "source": [
    "(x^3-let (+ 2 2))"
   ]
  },
  {
   "cell_type": "code",
   "execution_count": null,
   "id": "70e987aa-21ba-479f-9712-a817afaec0d7",
   "metadata": {},
   "outputs": [],
   "source": [
    "(macroexpand '(x^3-let (+ 2 2)))"
   ]
  },
  {
   "cell_type": "markdown",
   "id": "14ca506c-bc55-47d3-95b7-42c3681b6a02",
   "metadata": {},
   "source": [
    "### Macro arguments"
   ]
  },
  {
   "cell_type": "code",
   "execution_count": null,
   "id": "0fa97591-78dd-4c44-964f-1c1481454f50",
   "metadata": {},
   "outputs": [],
   "source": [
    "(defmacro test-macro (&whole whole arg-1\n",
    "                             &optional (arg-2 1) arg-3)\n",
    "    (format t \"whole: ~a~%\" whole)\n",
    "    (format t \"arg-1: ~a~%\" arg-1)\n",
    "    (format t \"arg-2: ~a~%arg-3: ~a~%\" arg-2 arg-3)\n",
    "    `',whole)"
   ]
  },
  {
   "cell_type": "code",
   "execution_count": null,
   "id": "f2a15d43-edb3-49ed-b767-660a3b19f45f",
   "metadata": {},
   "outputs": [],
   "source": [
    "(macroexpand '(test-macro something))"
   ]
  },
  {
   "cell_type": "code",
   "execution_count": null,
   "id": "e116dc33-e765-413c-b18f-f4637be1e794",
   "metadata": {},
   "outputs": [],
   "source": [
    "(test-macro something)"
   ]
  },
  {
   "cell_type": "code",
   "execution_count": null,
   "id": "e3d3971a-8534-4386-9526-660c57605ee9",
   "metadata": {},
   "outputs": [],
   "source": [
    "(eval *)"
   ]
  },
  {
   "cell_type": "markdown",
   "id": "49b58d22-24c7-47e5-9b78-6641c5b7b09f",
   "metadata": {},
   "source": [
    "### Built-in Macros\n",
    "\n",
    "```lisp\n",
    "(defmacro-mundanely when (test &body forms)\n",
    "    `(if ,test (progn ,@forms) nil))\n",
    "\n",
    "(defmacro-mundanely prog1 (result &body body)\n",
    "    (let ((n-result (gensym)))\n",
    "         `(let ((,n-result ,result))\n",
    "               ,@body\n",
    "               ,n-result)))\n",
    "\n",
    "(defmacro-mundanely ignore-errors (&rest forms)\n",
    "    `(handler-case (progn ,@forms)\n",
    "         (error (condition) (values nil condition))))\n",
    "```"
   ]
  },
  {
   "cell_type": "markdown",
   "id": "071a71a2-57e6-424d-b862-da7413ec624b",
   "metadata": {},
   "source": [
    "### More Applications\n",
    "\n",
    "```lisp\n",
    "(defmacro get-time ()\n",
    "    `(the unsigned-byte (get-internal-run-time)))\n",
    "\n",
    "(defmacro definline (name arglist &body body)\n",
    "    `(progn (declaim (inline ,name))\n",
    "         (defun ,name ,arglist ,@body)))\n",
    "```"
   ]
  },
  {
   "cell_type": "code",
   "execution_count": null,
   "id": "b0958ea1-f56b-4b27-b1af-d80af9c82017",
   "metadata": {},
   "outputs": [],
   "source": [
    "(defmacro info (message &rest args)\n",
    "    (when (eq *release-or-debug* :debug)\n",
    "        `(format *standard-output* ,message ,@args)))"
   ]
  },
  {
   "cell_type": "code",
   "execution_count": null,
   "id": "08288535-11fd-48e8-98db-a9d8baad17ad",
   "metadata": {},
   "outputs": [],
   "source": [
    "(defparameter *release-or-debug* :DEBUG)\n",
    "(info \"bla\")"
   ]
  },
  {
   "cell_type": "markdown",
   "id": "bfa5d485-1b5a-4b43-9776-a7cbec99d45f",
   "metadata": {},
   "source": [
    "### A Better Example"
   ]
  },
  {
   "cell_type": "code",
   "execution_count": null,
   "id": "fd8fb883-5c81-4318-8c74-d1186bd74c07",
   "metadata": {},
   "outputs": [],
   "source": [
    "(defmacro square (&whole form arg)\n",
    "    (if (atom arg)\n",
    "        `(expt ,arg 2)\n",
    "        (case (car arg)\n",
    "            (square (if (= (length arg) 2)\n",
    "                        `(expt ,(nth 1 arg) 4)\n",
    "                        form))\n",
    "            (expt (if (= (length arg) 3)\n",
    "                      (if (numberp (nth 2 arg))\n",
    "                          `(expt ,(nth 1 arg) ,(* 2 (nth 2 arg)))\n",
    "                          `(expt ,(nth 1 arg) (* 2 ,(nth 2 arg))))\n",
    "                      form))\n",
    "            (otherwise `(expt ,arg 2)))))"
   ]
  },
  {
   "cell_type": "code",
   "execution_count": null,
   "id": "2de67b76-7632-4a7c-82f0-623bc5fb13d3",
   "metadata": {},
   "outputs": [],
   "source": [
    "(macroexpand '(square (square 3)))"
   ]
  },
  {
   "cell_type": "code",
   "execution_count": null,
   "id": "aeda748b-b436-4e7d-a7e0-71f93997531b",
   "metadata": {},
   "outputs": [],
   "source": [
    "(macroexpand '(square (expt 123 4)))"
   ]
  },
  {
   "cell_type": "markdown",
   "id": "15bc5dca-ba80-4342-b34c-d895a642f757",
   "metadata": {},
   "source": [
    "## Links\n",
    "\n",
    "Functional programmer Bible (available for free):\n",
    "\n",
    "http://www.paulgraham.com/onlisp.html"
   ]
  },
  {
   "cell_type": "markdown",
   "id": "3d5578b0-79d4-4d4b-9149-1c1e17b0cac0",
   "metadata": {},
   "source": [
    "## Organizational\n",
    "\n",
    "Assignment Points: 10 \n",
    "\n",
    "Due Date: 30.11., Wednesday, 23:59 AM CEST\n",
    "\n",
    "Next Class: 01.12., 14:15"
   ]
  }
 ],
 "metadata": {
  "kernelspec": {
   "display_name": "Common Lisp",
   "language": "common-lisp",
   "name": "common-lisp"
  },
  "language_info": {
   "codemirror_mode": "text/x-common-lisp",
   "file_extension": ".lisp",
   "mimetype": "text/x-common-lisp",
   "name": "common-lisp",
   "pygments_lexer": "common-lisp",
   "version": "2.0.1.debian"
  }
 },
 "nbformat": 4,
 "nbformat_minor": 5
}
