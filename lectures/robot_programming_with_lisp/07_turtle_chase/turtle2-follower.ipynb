{
 "cells": [
  {
   "cell_type": "code",
   "execution_count": null,
   "id": "cfda4681-0dc8-4911-84cc-afb2d861f79a",
   "metadata": {},
   "outputs": [],
   "source": [
    "(let* ((lecture-path '(:absolute \"home\" \"lectures\" \"robot_programming_with_lisp\"))\n",
    "       (assignment-path (append lecture-path '(\"07_turtle_chase\" \"ros_ws\" \"src\" \"turtle_chase\"))))\n",
    "      (pushnew (make-pathname :directory assignment-path) asdf:*central-registry*))"
   ]
  },
  {
   "cell_type": "code",
   "execution_count": null,
   "id": "9383f55c-cd45-43bd-8673-033d10f7c2dd",
   "metadata": {
    "tags": []
   },
   "outputs": [],
   "source": [
    "(asdf:load-system :turtle-chase)"
   ]
  },
  {
   "cell_type": "code",
   "execution_count": null,
   "id": "d5916e87-c755-4bd5-b0e7-b315407530e8",
   "metadata": {},
   "outputs": [],
   "source": [
    "(in-package :turtle-chase)"
   ]
  },
  {
   "cell_type": "markdown",
   "id": "05457196-13b8-4968-82de-03571ac8173b",
   "metadata": {},
   "source": [
    "Remember to spawn turtle2 with `rosservice call /spawn TAB ENTER`."
   ]
  },
  {
   "cell_type": "code",
   "execution_count": null,
   "id": "42f7de27-ca7c-4ac5-8480-b40041f910a9",
   "metadata": {},
   "outputs": [],
   "source": [
    "(init-listener)"
   ]
  },
  {
   "cell_type": "code",
   "execution_count": null,
   "id": "7ca98940-ddb9-4ca8-a835-0b03ba88c9ce",
   "metadata": {},
   "outputs": [],
   "source": [
    "(follow-turtle-in-a-loop)"
   ]
  },
  {
   "cell_type": "code",
   "execution_count": null,
   "id": "20c2db4b-4d5e-4e3d-b67e-f66ee0b200ab",
   "metadata": {},
   "outputs": [],
   "source": []
  },
  {
   "cell_type": "code",
   "execution_count": null,
   "id": "ba4bb0dc-c1eb-4a3b-b5a4-6a60fd2d14ab",
   "metadata": {},
   "outputs": [],
   "source": []
  },
  {
   "cell_type": "code",
   "execution_count": null,
   "id": "f9048ace-ae20-44e2-a309-503f3c937a40",
   "metadata": {},
   "outputs": [],
   "source": []
  }
 ],
 "metadata": {
  "kernelspec": {
   "display_name": "Common Lisp",
   "language": "common-lisp",
   "name": "common-lisp"
  },
  "language_info": {
   "codemirror_mode": "text/x-common-lisp",
   "file_extension": ".lisp",
   "mimetype": "text/x-common-lisp",
   "name": "common-lisp",
   "pygments_lexer": "common-lisp",
   "version": "2.0.1.debian"
  },
  "toc-autonumbering": true,
  "toc-showcode": true,
  "toc-showmarkdowntxt": true
 },
 "nbformat": 4,
 "nbformat_minor": 5
}
