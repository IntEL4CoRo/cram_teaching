{
 "cells": [
  {
   "cell_type": "code",
   "execution_count": null,
   "id": "cfda4681-0dc8-4911-84cc-afb2d861f79a",
   "metadata": {},
   "outputs": [],
   "source": [
    "(let* ((lecture-path '(:absolute \"home\" \"lectures\" \"robot_programming_with_lisp\"))\n",
    "       (assignment-path (append lecture-path '(\"07_turtle_chase\" \"ros_ws\" \"src\" \"turtle_chase\"))))\n",
    "      (pushnew (make-pathname :directory assignment-path) asdf:*central-registry*))"
   ]
  },
  {
   "cell_type": "code",
   "execution_count": null,
   "id": "9383f55c-cd45-43bd-8673-033d10f7c2dd",
   "metadata": {
    "tags": []
   },
   "outputs": [],
   "source": [
    "(asdf:load-system :turtle-chase)"
   ]
  },
  {
   "cell_type": "code",
   "execution_count": null,
   "id": "d5916e87-c755-4bd5-b0e7-b315407530e8",
   "metadata": {},
   "outputs": [],
   "source": [
    "(in-package :turtle-chase)"
   ]
  },
  {
   "cell_type": "code",
   "execution_count": null,
   "id": "976aca19-7bf2-479e-b30b-d795b514748b",
   "metadata": {},
   "outputs": [],
   "source": [
    "(init-action-client)"
   ]
  },
  {
   "cell_type": "code",
   "execution_count": null,
   "id": "a5863e13-046b-44ca-ac64-5259bcffef92",
   "metadata": {},
   "outputs": [],
   "source": [
    "(call-shape-action-in-a-loop)"
   ]
  },
  {
   "cell_type": "code",
   "execution_count": null,
   "id": "b4f017fd-dd46-45a9-b656-321d7cb4cb10",
   "metadata": {},
   "outputs": [],
   "source": [
    "(setf *navp-client* nil) ;; to reset the action client"
   ]
  },
  {
   "cell_type": "code",
   "execution_count": null,
   "id": "e6dde91b-8c5b-4013-826b-953a345c967a",
   "metadata": {},
   "outputs": [],
   "source": [
    "(roslisp:start-ros-node \"shape_client\") ;; to reset communication"
   ]
  },
  {
   "cell_type": "code",
   "execution_count": null,
   "id": "53bd5725-39b7-424a-aa96-89c52bae04a4",
   "metadata": {},
   "outputs": [],
   "source": []
  },
  {
   "cell_type": "code",
   "execution_count": null,
   "id": "f28d560f-f1d4-4f26-a900-76bc32f2b9fb",
   "metadata": {},
   "outputs": [],
   "source": []
  },
  {
   "cell_type": "code",
   "execution_count": null,
   "id": "903a1193-a5d3-48f4-95ee-c4b14b1f3fab",
   "metadata": {},
   "outputs": [],
   "source": []
  }
 ],
 "metadata": {
  "kernelspec": {
   "display_name": "Common Lisp",
   "language": "common-lisp",
   "name": "common-lisp"
  },
  "language_info": {
   "codemirror_mode": "text/x-common-lisp",
   "file_extension": ".lisp",
   "mimetype": "text/x-common-lisp",
   "name": "common-lisp",
   "pygments_lexer": "common-lisp",
   "version": "2.0.1.debian"
  },
  "toc-autonumbering": true,
  "toc-showcode": true,
  "toc-showmarkdowntxt": true
 },
 "nbformat": 4,
 "nbformat_minor": 5
}
