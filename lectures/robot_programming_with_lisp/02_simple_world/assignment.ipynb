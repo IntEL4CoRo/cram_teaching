{
 "cells": [
  {
   "cell_type": "markdown",
   "id": "c603970b-4919-497d-94c7-3b329460a5f2",
   "metadata": {},
   "source": [
    "# Assignment 2 - Simple World\n",
    "\n",
    "Welcome to Assignment 2 of the \"Robot Programming with Lisp\" course.\n",
    "\n",
    "* Due Date: 02.11.2022, 23:59 CEST in your Github repository\n",
    "* 7 points achievable\n",
    "\n",
    "In this assignment you are a robot living in a 2D world. \n",
    "The world consist of ground, where you can stand, and walls, where you can not.\n",
    "From your current location you can fly/teleport/phase/apperate anywhere instantly, but you can not land on walls. \n",
    "There are little treasures spread around the world.\n",
    "Your goal is to collect all the treasures by teleporting the robot onto the treasures.\n",
    "\n",
    "## How to\n",
    "\n",
    "Execute the code segments one after another. Each chapter in this notebook serves its purpose.\n",
    "\n",
    "* **Load Package** - How to load the package of the assignment\n",
    "* **Prepared code** - Some prepared code, containing parameters and functions for the world. Don't touch that.\n",
    "* **Assignment code** - Your assignment. This is where you need to write code. Solve the missing TODOs by implementing the functionality described.\n",
    "* **Testing** - With these functions you can test your program. Add more code blocks here if you want to test specific functions.\n",
    "\n",
    "You have completed the assignment when the robot picks up all the treasures in the world. Your grade depends on your individual implementation in the **Assignment code**.\n",
    "\n",
    "## Load Package\n",
    "\n",
    "Execute the code of the following section to load this assignments code."
   ]
  },
  {
   "cell_type": "code",
   "execution_count": null,
   "id": "af88a2f8-324d-4583-a99e-91bbae695116",
   "metadata": {},
   "outputs": [],
   "source": [
    ";; Adds the directory of this assignment into the ASDF registry\n",
    "(let* ((lecture-path '(:absolute \"home\" \"lectures\" \"robot_programming_with_lisp\"))\n",
    "       (assignment-path (append lecture-path '(\"02_simple_world\")))\n",
    "       (bullet-path (append lecture-path '(\"bullet_wrapper\"))))\n",
    "      (pushnew (make-pathname :directory assignment-path) asdf:*central-registry*)\n",
    "      (pushnew (make-pathname :directory bullet-path) asdf:*central-registry*))"
   ]
  },
  {
   "cell_type": "code",
   "execution_count": null,
   "id": "a6c81921-d781-445e-801c-8dccd1b2cdf8",
   "metadata": {
    "tags": []
   },
   "outputs": [],
   "source": [
    ";; Loads the ASDF system of this assignment\n",
    "(asdf:load-system :simple-world)"
   ]
  },
  {
   "cell_type": "code",
   "execution_count": null,
   "id": "cda44002-ba45-4c96-a830-d4d8ccc79ddb",
   "metadata": {},
   "outputs": [],
   "source": [
    ";; Makes this assignment as the current namespace\n",
    "(in-package :simple-world)"
   ]
  },
  {
   "cell_type": "markdown",
   "id": "d4d6d22d-0d8f-4a41-b4b3-1a4d8d7841c6",
   "metadata": {},
   "source": [
    "## Prepared Code\n",
    "\n",
    "This code is already done and doesn't need adjustments. Find your assignment in the next section, down below."
   ]
  },
  {
   "cell_type": "code",
   "execution_count": null,
   "id": "730bb31b-558b-4ef9-8c13-63824f43f820",
   "metadata": {},
   "outputs": [],
   "source": [
    ";;; ## About the world\n",
    ";;;\n",
    ";;; In this assignment you have a robot living in a flat 2-dimensional world.\n",
    ";;; This world only consist of symbols:\n",
    ";;; robot (R), ground (G), walls (W) and treasures (A, B, C, D, E, F).\n",
    ";;; Initially, the world only has ground and walls.\n",
    ";;; It's state is kept in the variable *world-map*\n",
    ";;; That *world-map* is a 2D array.\n",
    ";;; The simulation reads and visualizes the array's content.\n",
    "\n",
    "(defvar *world-map*\n",
    "  #2A((w w w w w w w w w w w w w w w w)\n",
    "      (w w g g g g g w g g g w g g g w)\n",
    "      (w w g g g g g w g g g w g g g w)\n",
    "      (w w w w g w w w w g w w w w g w)\n",
    "      (w g g g g g g g g g g g g g g w)\n",
    "      (w w w w g w w w w w w g w w w w)\n",
    "      (w g g w g w g g g w g g g w w w)\n",
    "      (w g g w g w g g g w g g g w w w)\n",
    "      (w g g g g g g g g w g g g w w w)\n",
    "      (w g g w g w g g g w w w w w w w)\n",
    "      (w w w w g w w w w w w w w w w w)\n",
    "      (w g g w g w g g g w w w w w w w)\n",
    "      (w g g g g w g g g w w w w w w w)\n",
    "      (w g g w g g g g g w w w w w w w)\n",
    "      (w w w w w w w w w w w w w w w w))\n",
    "  \"2D grid world.\n",
    "The following symbols are used to represent things in the world:\n",
    "- W for wall cell\n",
    "- G for ground\n",
    "- R for robot\n",
    "- T for treasure.\")\n",
    "\n",
    "(defun initialize-walls ()\n",
    "  \"Cleans the *world-map* array and initializes the walls and the ground.\"\n",
    "  (setf *world-map* (make-array '(15 16) :initial-element 'g))\n",
    "  (loop for i from 0 to 14\n",
    "        do (setf (aref *world-map* i 0) 'w)\n",
    "           (setf (aref *world-map* i 15) 'w)\n",
    "           (setf (aref *world-map* 0 i) 'w)\n",
    "           (setf (aref *world-map* 14 i) 'w))\n",
    "  (mapcar (lambda (x-y)\n",
    "            (setf (aref *world-map* (first x-y) (second x-y)) 'w))\n",
    "          '((0 15)\n",
    "            (1 1) (1 7) (1 11)\n",
    "            (2 1) (2 7) (2 11) (3 1) (3 2) (3 3) (3 5) (3 6) (3 7) (3 8) (3 10) (3 11) (3 12) (3 13)\n",
    "            (5 1) (5 2) (5 3) (5 5) (5 6) (5 7) (5 8) (5 9) (5 10) (5 12) (5 13) (5 14)\n",
    "            (6 3) (6 5) (6 9) (6 13) (6 14)\n",
    "            (7 3) (7 5) (7 9) (7 13) (7 14)\n",
    "            (8 9) (8 13) (8 14)\n",
    "            (9 3) (9 5) (9 9) (9 10) (9 11) (9 12) (9 13) (9 14)\n",
    "            (10 1) (10 2) (10 3) (10 5) (10 6) (10 7) (10 8) (10 9) (10 10) (10 11) (10 12) (10 13) (10 14)\n",
    "            (11 3) (11 5) (11 9) (11 10) (11 11) (11 12) (11 13) (11 14)\n",
    "            (12 5) (12 9) (12 10) (12 11) (12 12) (12 13) (12 14)\n",
    "            (13 3) (13 9) (13 10) (13 11) (13 12) (13 13) (13 14)\n",
    "            (14 15))))\n",
    "\n",
    "(defconstant +battery-capacity+ 50\n",
    "  \"Power of the robots battery in digits.\")\n",
    "\n",
    "(defconstant +treasure-num+ 4\n",
    "  \"The number of treasures that exist inthe world.\")\n",
    "\n",
    "(defparameter *treasures* '()\n",
    "  \"The list of treasures in the world.\n",
    "Call the function `reset-treasures-list' to reset the `*treasures*' list.\n",
    "It will then contain 4 randomly chosen symbols from the list '(a b c d e f).\")\n",
    "\n",
    "(defun reset-treasures-list ()\n",
    "  (let ((symbols '(a b c d e f)))\n",
    "    (setf symbols (remove (nth (random (length symbols)) symbols) symbols))\n",
    "    (setf symbols (remove (nth (random (length symbols)) symbols) symbols))\n",
    "    (setf *treasures* (alexandria:shuffle symbols))))\n",
    "\n",
    "(defvar *treasures-found* 0\n",
    "  \"Determines the current amount of treasures found by the robot.\n",
    "Increase this whenever a treasure is collected.\")\n",
    "\n",
    "(defvar *battery-left* +battery-capacity+\n",
    "  \"Describes how much power is left in the robots battery.\n",
    "Decrease this value by 1 for every move made.\")\n",
    "\n",
    "(defvar *robot-coords* '(nil nil)\n",
    "  \"List of length 2, containing the x and y coordinate of the robot.\")"
   ]
  },
  {
   "cell_type": "markdown",
   "id": "b6483e7f-0804-4f06-b400-e6fa4b24eabc",
   "metadata": {},
   "source": [
    "## Assignment code\n",
    "\n",
    "Here is the code of this assignment. Fill in the gaps where it says TODO.\n",
    "\n",
    "Your assignment consists of two major tasks:\n",
    "* initializing the world (`initialize-world`)\n",
    "* moving the robot around to collect treasures (`discover-world`)"
   ]
  },
  {
   "cell_type": "code",
   "execution_count": null,
   "id": "d462eb61-007d-4bc8-b90b-c7fb5401b319",
   "metadata": {},
   "outputs": [],
   "source": [
    "(defun place-object (x y symbol)\n",
    "  \"If the given coordinate (x y) contains ground, replace it with the `symbol'.\"\n",
    "  ;; TODO Implement\n",
    "  )"
   ]
  },
  {
   "cell_type": "code",
   "execution_count": null,
   "id": "7c652ee0-5a44-4338-8a01-6ce733a36bc1",
   "metadata": {},
   "outputs": [],
   "source": [
    "(defun place-robot (x y)\n",
    "  \"Uses `place-object' to set the robot symbol 'r in the `*world-map*'\n",
    "and updates the robot's coordinates `*robot-coords*'.\n",
    "The robot can only be placed on the ground.\"\n",
    "  ;; TODO Implement\n",
    "  )"
   ]
  },
  {
   "cell_type": "code",
   "execution_count": null,
   "id": "be9e9317-d206-494c-91b4-c25b07176fcc",
   "metadata": {},
   "outputs": [],
   "source": [
    "(defun initialize-world ()\n",
    "  \"This function initializes the 2D array map.\n",
    "Write (initialize-world) and (visualize-simulation) to see the current world status.\n",
    "Or just write *world-map* to see the 2D array.\n",
    "1. It puts the symbols in the list `*treasures*' at random positions on the map.\n",
    "If the treasure falls on a wall, the robot would not be able to collect it, so a wall stays a wall,\n",
    "and you can only put treasures on the ground. After calling this function, there should be 4 symbols\n",
    "in the world, a subset of the list '(a b c d e f).\n",
    "2. It sets the robot on a random place on the ground in the `*world-map*'.\n",
    "3. It resets all global variables so that one could play the treasure hunting game multiple\n",
    "times in a row.\"\n",
    "  (initialize-walls)\n",
    "  (btr-wrapper::init-world)\n",
    "  ;; TODO Implement\n",
    "  )"
   ]
  },
  {
   "cell_type": "code",
   "execution_count": null,
   "id": "6efd5f09-2d39-466e-a0f8-01e85c45d647",
   "metadata": {},
   "outputs": [],
   "source": [
    "(defun symbol-at-pos (x y symbol)\n",
    "  \"Checks, if the symbol at position x and y is equal to the given symbol `symbol'.\"\n",
    "  ;; TODO Implement\n",
    "  )"
   ]
  },
  {
   "cell_type": "code",
   "execution_count": null,
   "id": "6b4b12d2-aeaa-4f31-a317-34847dc7b74b",
   "metadata": {},
   "outputs": [],
   "source": [
    "(defun find-object-coordinates (symbol)\n",
    "  \"Searches the 2D `*world-map*' for the given `symbol' and returns the coordinates.\"\n",
    "  ;; TODO Implement\n",
    "  )"
   ]
  },
  {
   "cell_type": "code",
   "execution_count": null,
   "id": "d23677fa-dd44-4338-b2a3-d631fa2ecdd2",
   "metadata": {},
   "outputs": [],
   "source": [
    "(defun move-robot (x y)\n",
    "  \"Flies the robot to the grid cell (x, y) in the world (indexing starts with 0).\n",
    "If the cell is a wall or a treasure, anything except ground, the position is blocked\n",
    "and nothing happens. Also, if `x' or `y' are outside the map boundaries, nothing should happen.\n",
    "If the robot moves, it loses one battery charge. If the robot stands below a treasure,\n",
    "you should incease the `*treasures-found*' counter.\n",
    "This function will alter the world state (value of *world-map*).\n",
    "Finally the simulation is updated.\"\n",
    "  ;; TODO Implement\n",
    "\n",
    "  ;; Visualize\n",
    "  (visualize-simulation))"
   ]
  },
  {
   "cell_type": "code",
   "execution_count": null,
   "id": "a914dfbd-25d1-445b-9bbd-e30bcc08b63b",
   "metadata": {
    "tags": []
   },
   "outputs": [],
   "source": [
    "(defun discover-world ()\n",
    "  \"Autonomously flies the robot in the world until all the treasure is collected.\n",
    "The robot can only fly `+battery-capacity+' times.\n",
    "The robot has access to the world state `*world-map*' and can read the coordinates of treasures.\n",
    "Use `move-robot' to travel to each treasure, which collects the treasure above the robot.\"\n",
    "  ;; TODO Implement\n",
    "  )"
   ]
  },
  {
   "cell_type": "markdown",
   "id": "6a190cf0-d5d8-4ba5-995b-a932384d6237",
   "metadata": {
    "tags": []
   },
   "source": [
    "## Testing\n",
    "\n",
    "To test your whole implementation: *Restart the kernel and run all cells...*, which is the `>>` button at the top. \n",
    "\n",
    "For intermediate testing, reset the world with"
   ]
  },
  {
   "cell_type": "code",
   "execution_count": null,
   "id": "bed2747e-0f57-4f8f-9ea1-a87da6545bfd",
   "metadata": {},
   "outputs": [],
   "source": [
    "(initialize-world)"
   ]
  },
  {
   "cell_type": "markdown",
   "id": "6640dc4e-63b6-4ed7-92c3-178a03834a1e",
   "metadata": {},
   "source": [
    "and make the robot run around with"
   ]
  },
  {
   "cell_type": "code",
   "execution_count": null,
   "id": "13d8040a-8c1a-446a-a152-3bb7558a8e56",
   "metadata": {},
   "outputs": [],
   "source": [
    "(discover-world)"
   ]
  },
  {
   "cell_type": "markdown",
   "id": "8e7b0765-7b28-4af9-a5c3-a0e8e5270f7f",
   "metadata": {},
   "source": [
    "or test the functions separately with "
   ]
  },
  {
   "cell_type": "code",
   "execution_count": null,
   "id": "942a8831-31ce-4a7d-b641-c1e6c4edad8e",
   "metadata": {
    "tags": []
   },
   "outputs": [],
   "source": [
    "(defun test-place-object ()\n",
    "    \"Tests if objects can only be put on ground.\"\n",
    "    (initialize-walls)\n",
    "    (place-object 0 0 'test)\n",
    "    (place-object 2 2 'test)\n",
    "    (unless (eq (aref *world-map* 0 0) 'w)\n",
    "        (format T \"test-place-object: Expected 'w on tile 0 0 but got ~a\" (aref *world-map* 0 0)))\n",
    "    (unless (eq (aref *world-map* 2 2) 'test)\n",
    "        (format T \"test-place-object: Expected 'test on tile 2 2 but got ~a\" (aref *world-map* 2 2))))\n",
    "\n",
    "(test-place-object)"
   ]
  },
  {
   "cell_type": "code",
   "execution_count": null,
   "id": "1cf7953d-d6b2-4e39-b15c-291abdadc876",
   "metadata": {
    "tags": []
   },
   "outputs": [],
   "source": [
    "(defun test-place-robot ()\n",
    "    \"Tests if the robot can only be put on ground.\"\n",
    "    (initialize-walls)\n",
    "    (place-robot 0 0)\n",
    "    (place-robot 2 2)\n",
    "    (unless (eq (aref *world-map* 0 0) 'w)\n",
    "        (format T \"test-place-robot: Expected 'w on tile 0 0 but got ~a\" (aref *world-map* 0 0)))\n",
    "    (unless (eq (aref *world-map* 2 2) 'r)\n",
    "        (format T \"test-place-robot: Expected 'r on tile 2 2 but got ~a\" (aref *world-map* 2 2))))\n",
    "\n",
    "(test-place-robot)"
   ]
  },
  {
   "cell_type": "code",
   "execution_count": null,
   "id": "b6675fe7-501c-4ab2-b73b-b6a28d9c5e78",
   "metadata": {},
   "outputs": [],
   "source": [
    "(defun test-initialize-world ()\n",
    "    \"Tests if the robot and all treasures are placed in the world.\"\n",
    "    (initialize-world)\n",
    "    (let ((n (alexandria:iota (array-total-size *world-map*))))\n",
    "         (dolist (treasure (cons 'r  *treasures*))\n",
    "             (unless (some #'(lambda (i) (eq treasure (row-major-aref *world-map* i))) n)\n",
    "                 (format T \"test-initialize-world: Object ~a not found in the world.\" treasure)))))\n",
    "\n",
    "(test-initialize-world)"
   ]
  },
  {
   "cell_type": "code",
   "execution_count": null,
   "id": "8791a9e4-83bb-4b33-9d3c-4ec82ac5f0c0",
   "metadata": {
    "tags": []
   },
   "outputs": [],
   "source": [
    "(defun test-symbol-at-pos ()\n",
    "    \"Tests if return value is correct.\"\n",
    "    (initialize-walls)\n",
    "    (unless (symbol-at-pos 0 0 'w)\n",
    "        (format T \"test-symbol-at-pos: Expected return value with coordinate 0 0 was T but got nil.\"))\n",
    "    (when (symbol-at-pos 2 2 'fail)\n",
    "        (format T \"test-symbol-at-pos: Expected return value with coordinate 2 2 was nil but got T.\")))\n",
    "\n",
    "(test-symbol-at-pos)"
   ]
  },
  {
   "cell_type": "code",
   "execution_count": null,
   "id": "6b7f7050-56a3-4ad2-b580-ad1b7aa245a3",
   "metadata": {
    "tags": []
   },
   "outputs": [],
   "source": [
    "(defun test-find-object-coordinates ()\n",
    "    \"Tests if coordinates are found correctly.\"\n",
    "    (initialize-walls)\n",
    "    (setf (aref *world-map* 2 2) 'test)\n",
    "    (unless (equal (find-object-coordinates 'test) '(2 2))\n",
    "        (format T \"test-find-object-coordinate: Expected (2 2) but got ~a.\" (find-object-coordinates 'test))))\n",
    "\n",
    "(test-find-object-coordinates)"
   ]
  },
  {
   "cell_type": "code",
   "execution_count": null,
   "id": "2074a8c6-dbb4-441c-b86c-3b967dad7c0d",
   "metadata": {
    "tags": []
   },
   "outputs": [],
   "source": [
    "(defun test-move ()\n",
    "    \"Tests if robot won't move on wall tile.\"\n",
    "    (initialize-walls)\n",
    "    (setf *battery-left* +battery-capacity+\n",
    "          *treasures-found* 0\n",
    "          *treasures* '('test))    \n",
    "    (move-robot 0 0)\n",
    "    (unless (eq *battery-left* +battery-capacity+)\n",
    "        (format T \"test-move-wall: Expected *battery-left* to be ~a but got ~a.\" +battery-capacity+ *battery-left*))\n",
    "    (unless (eq *treasures-found* 0)\n",
    "         (format T \"test-move-wall: Expected *treasures-found* to be 0 but got ~a.\" *treasures-found*))\n",
    "    (unless (eq (aref *world-map* 0 0) 'w)\n",
    "         (format T \"test-move-wall: Expected tile at coordinate 0 0 to be 'w but was ~a.\" (aref *world-map* 0 0)))\n",
    "        \n",
    "    \"Tests if robot collects treasure\"\n",
    "    (initialize-walls)\n",
    "    (setf *battery-left* +battery-capacity+\n",
    "          *treasures-found* 0\n",
    "          *treasures* '(test)\n",
    "          (aref *world-map* 2 2) 'test)\n",
    "    (move-robot 2 2)\n",
    "    (unless (eq *battery-left* (- +battery-capacity+ 1))\n",
    "        (format T \"test-move-treasure: Expected *battery-left* to be ~a but got ~a.\" (- +battery-capacity+ 1) *battery-left*))\n",
    "    (unless (eq *treasures-found* 1)\n",
    "         (format T \"test-move-treasure: Expected *treasures-found* to be 1 but got ~a.\" *treasures-found*))\n",
    "    (unless (eq (aref *world-map* 2 2) 'r)\n",
    "         (format T \"test-move-treasure: Expected tile at coordinate 2 2 to be 'r but was ~a.\" (aref *world-map* 2 2)))\n",
    "    \n",
    "\n",
    "    \"Tests if robot won't move if battery is empty.\"\n",
    "    (initialize-walls)\n",
    "    (setf *battery-left* 0\n",
    "          *treasures-found* 0\n",
    "          *treasures* '(test)\n",
    "          (aref *world-map* 2 2) 'test)\n",
    "    (move-robot 2 2)\n",
    "    (unless (eq *battery-left* 0)\n",
    "        (format T \"test-move-battery: Expected *battery-left* to be 0 but got ~a.\" *battery-left*))\n",
    "    (unless (eq *treasures-found* 0)\n",
    "         (format T \"test-move-battery: Expected *treasures-found* to be 0 but got ~a.\" *treasures-found*))\n",
    "    (unless (eq (aref *world-map* 2 2) 'test)\n",
    "         (format T \"test-move-battery: Expected tile at coordinate 0 0 to be 'test but was ~a.\" (aref *world-map* 2 2))))\n",
    "    \n",
    "(test-move)"
   ]
  },
  {
   "cell_type": "code",
   "execution_count": null,
   "id": "93acf5cc-fe9a-4e43-8d9d-d1da50d03264",
   "metadata": {},
   "outputs": [],
   "source": [
    "(defun test-discover-world ()\n",
    "    \"Tests if the robot collects all treasures\"\n",
    "    (initialize-walls)\n",
    "    (setf *battery-left* +battery-capacity+\n",
    "          *treasures-found* 0\n",
    "          *treasures* '(test test2)\n",
    "          (aref *world-map* 2 2) 'test\n",
    "          (aref *world-map* 3 3) 'test2)\n",
    "    (discover-world)\n",
    "    (unless (eq *battery-left* (- +battery-capacity+ 2))\n",
    "        (format T \"test-discover-world: Expected *battery-left* to be ~a but got ~a.\" (- +battery-capacity+ 2) *battery-left*))\n",
    "    (unless (eq *treasures-found* 2)\n",
    "        (format T \"test-discover-world: Expected *treasures-found* to be 2 but got ~a.\" *treasures-found*)))\n",
    "\n",
    "(test-discover-world)"
   ]
  }
 ],
 "metadata": {
  "kernelspec": {
   "display_name": "Common Lisp",
   "language": "common-lisp",
   "name": "common-lisp"
  },
  "language_info": {
   "codemirror_mode": "text/x-common-lisp",
   "file_extension": ".lisp",
   "mimetype": "text/x-common-lisp",
   "name": "common-lisp",
   "pygments_lexer": "common-lisp",
   "version": "2.0.1.debian"
  }
 },
 "nbformat": 4,
 "nbformat_minor": 5
}
